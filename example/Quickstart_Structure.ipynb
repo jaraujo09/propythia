{
 "cells": [
  {
   "cell_type": "markdown",
   "metadata": {},
   "source": [
    "# Quickstart building and using Protein Structures as Graphs with Propythia"
   ]
  },
  {
   "cell_type": "markdown",
   "metadata": {},
   "source": [
    "The \"Structure\" modules integrated attempt to solve challenges related to protein classification for the purpose of predicting different biological activities according to structural characteristics\n",
    "\n",
    "This notebook intends to go over the building of graphs to describe protein structures."
   ]
  },
  {
   "cell_type": "markdown",
   "metadata": {},
   "source": [
    "For the usage of this module, it was necessary to create a class object and call the desired methods,\n",
    "where specific values can be set by the user for the majority of the parameters, although default values\n",
    "are established.\n",
    "This work has been structured into different modules to maintain organization and to enhance the\n",
    "flexibility of the system for various tasks, thereby allowing it to be adjustable to each specific problem. The\n",
    "following submodules were developed as part of this work"
   ]
  },
  {
   "cell_type": "markdown",
   "metadata": {},
   "source": [
    "1) Clustering: This aggregates similar sequences, to identify relationships within the data.\n",
    "\n",
    "2) Graphs: This submodule is designed to download PDB or AlphaFold structure files and generate\n",
    " graphs for each protein, using Graphein’s potential for graph construction.\n",
    "3) ProteinGraphDataset: This module provides a wrapper for the graphs allowing them to be used\n",
    " in PyTorch Dataloader, enabling efficient handling and loading of protein data for further analysis.\n",
    "4) Dataloader preparation: Provides an efficient loading and batching data from the ProteinGraph\n",
    "Dataset.\n",
    "5) GNNModel: This module is designed to provide essential methods for DL, including training and\n",
    " prediction functions, as well as model analysis for a few models"
   ]
  },
  {
   "cell_type": "markdown",
   "metadata": {},
   "source": [
    "# 1. Getting Data"
   ]
  },
  {
   "cell_type": "code",
   "execution_count": null,
   "metadata": {},
   "outputs": [
    {
     "name": "stdout",
     "output_type": "stream",
     "text": [
      "c:\\Users\\Fofinha\\Desktop\\UNI\\MESTRADO\\propythia\\example\n",
      "c:\\Users\\Fofinha\\Desktop\\UNI\\MESTRADO\\propythia\\src\n",
      "c:\\Users\\Fofinha\\Desktop\\UNI\\MESTRADO\\propythia\\src\\propythia\n"
     ]
    }
   ],
   "source": [
    "import sys\n",
    "import os\n",
    "print(os.getcwd())\n",
    "# Get the directory path of the current script\n",
    "current_script_directory = os.path.dirname(os.path.abspath(\"__file__\"))\n",
    "main_directory =  current_script_directory[:current_script_directory.rfind(\"\\\\\")]\n",
    "# Construct the path to the src directory\n",
    "src_directory = os.path.join(main_directory,\"src\")\n",
    "srcpro_directory = os.path.join(main_directory, \"src\\\\propythia\")\n",
    "print(src_directory)\n",
    "print(srcpro_directory)\n",
    "\n",
    "# Add the src directory to sys.paths\n",
    "sys.path.append(src_directory)\n",
    "sys.path.append(srcpro_directory)"
   ]
  },
  {
   "cell_type": "markdown",
   "metadata": {},
   "source": [
    "First you have to run a CD-HIT sequence similarity search. Use the following script, adapting with your defined threshold:\n",
    "\n",
    "cd-hit -i input.fasta -o output_clustered.fasta -c 0.90\n",
    "\n",
    "where:\n",
    "\n",
    "1. -i input.fasta: Path to your input file containing sequences in FASTA format.\n",
    "2. -o output_clustered.fasta: Output file where clustered sequences will be saved.\n",
    "3. -c 0.90: Sequence identity threshold for clustering (0.90 means 90% identity).\n",
    "\n"
   ]
  },
  {
   "cell_type": "markdown",
   "metadata": {},
   "source": [
    "Then use the \"read_clstr\" function in the clustering.py file to create a dataframe with all sequences with the respective cluster associated. This is important for the following steps."
   ]
  },
  {
   "cell_type": "markdown",
   "metadata": {},
   "source": [
    "For the usage of this module, it is essencial to have either PDB of UniProt identifiers."
   ]
  },
  {
   "cell_type": "code",
   "execution_count": 2,
   "metadata": {},
   "outputs": [
    {
     "name": "stdout",
     "output_type": "stream",
     "text": [
      "        id                                           sequence  \\\n",
      "0   A1KXI0  MKFLLVAALCALVAIGSCKPTREEIKTFEQFKKVFGKVYRNAEEEA...   \n",
      "1   C0HL99  MSWQTYVDDHLMCEIEGNYLTSAAIIGQDGSIWAQSASFPQFKPEE...   \n",
      "2   P02754  MKCLLLALALTCGAQALIVTQTMKGLDIQKVAGTWYSLAMAASDIS...   \n",
      "3   P09582  MWFLALCLAMSLGWTGAEPHFQPRIIGGRECLKNSQPWQVAVYHNG...   \n",
      "4   P59262  MKFLVNVALVFMVVYISYIYAAPEPEPAPEPEAEADAEADPEAGIG...   \n",
      "5   A5HII1  MGLPKSFVSMSLLFFSTLLILSLAFNAKNLTQRTNDEVKAMYESWL...   \n",
      "6   P27740  MANKLFLVSATLALFFLLTNASVYRTGSEFDEHDATNPAGPFRIPK...   \n",
      "7   P15494  MGVFNYETETTSVIPAARLFKAFILDGDNLFPKVAPQAISSVENIE...   \n",
      "8   P0DO15  MMRARFPLLLLGLVFLASVSVSFGIAYWEKENPKHNKCLQSCNSER...   \n",
      "9   P31541  MMARALVQSTNILPSVAGERAGQFNGSRKDQRTVRMLCNVKCCSSR...   \n",
      "10  P17786  MGKEKIHISIVVIGHVDSGKSTTTGHLIYKLGGIDKRVIERFEKEA...   \n",
      "11  P48980  MENFPIINLEKLNGDERANTMEMIKDACENWGFFELVNHGIPHEVM...   \n",
      "12  Q8LI30  MATLSLPLPHLTQAIPARARPRPRPLRGIPARLLSCRAAMAVAPDK...   \n",
      "\n",
      "            bio_category  label  Cluster  \n",
      "0              oribatida      1     8462  \n",
      "1    actinidia deliciosa      1    14030  \n",
      "2             bos taurus      1    12743  \n",
      "3              carnivora      1    10391  \n",
      "4            hymenoptera      1    15103  \n",
      "5    actinidia deliciosa      1     7144  \n",
      "6          brassica rapa      1    12744  \n",
      "7                fagales      1    13199  \n",
      "8            glycine max      1     3089  \n",
      "9   solanum lycopersicum      0     1180  \n",
      "10  solanum lycopersicum      0    15113  \n",
      "11  solanum lycopersicum      0     7134  \n",
      "12          oryza sativa      0     3206  \n"
     ]
    }
   ],
   "source": [
    "import pandas as pd\n",
    "\n",
    "data = [\n",
    "    {\"UniProtID\": \"A1KXI0\", \"sequence\": \"MKFLLVAALCALVAIGSCKPTREEIKTFEQFKKVFGKVYRNAEEEARREHHFKEQLKWVEEHNGIDGVEYAINEYSDMSEQEFSFHLSGGGLNFTYMKMEAAKEPLINTYGSLPQNFDWRQKARLTRIRQQGACGSCWAFAAAGVAESLYSIQKQQSIGLSEQELVDCTYNRYDPSYQCNGCGSGYSTEAFKYMIRTGLVEERNYPYNMRTQWCDPDVEGQRYHVSGYQQLRYHSSDEDVMYTIQQHGPVVIYMHGSNNYFRNLGNGVLRGVAYNDAYTDHAVILVGWGTVQGVDYWIIRNSWGTGWGNGGYGYVERGHNSLGINNYVTYATL\", \"bio_category\": \"oribatida\", \"label\": 1, \"Cluster\": 8462},\n",
    "    {\"UniProtID\": \"C0HL99\", \"sequence\": \"MSWQTYVDDHLMCEIEGNYLTSAAIIGQDGSIWAQSASFPQFKPEEITAIMNDFSEPGTLAPTGLYLGGTKYMVIQGEAGAVIRGKKGPGGVTVKKTNQALIIGIYDEP\",  \"bio_category\": \"actinidia deliciosa\",  \"label\": 1,\"Cluster\": 14030},\n",
    "    {\"UniProtID\": \"P02754\", \"sequence\": \"MKCLLLALALTCGAQALIVTQTMKGLDIQKVAGTWYSLAMAASDISLLDAQSAPLRVYVEELKPTPEGDLEILLQKWENDECAQKKIIAEKTKIPAVFKIDALNENKVLVLDTDYKKYLLVCMENSAEPEQSLVCQCLVRTPEVDDEALEKFDKALKALPMHIRLSFNPTQLEEQCHI\", \"bio_category\": \"bos taurus\", \"label\": 1, \"Cluster\": 12743},\n",
    "    {\"UniProtID\": \"P09582\", \"sequence\": \"MWFLALCLAMSLGWTGAEPHFQPRIIGGRECLKNSQPWQVAVYHNGEFACGGVLVNPEWVLTAAHCANSNCEVWLGRHNLSESEDEGQLVQVRKSFIHPLYKTKVPRAVIRPGEDRSHDLMLLHLEEPAKITKAVRVMDLPKKEPPLGSTCYVSGWGSTDPETIFHPGSLQCVDLKLLSNNQCAKVYTQKVTKFMLCAGVLEGKKDTCKGDSGGPLICDGELVGITSWGATPCGKPQMPSLYTRVMPHLMWIKDTMKANT\",  \"bio_category\": \"carnivora\", \"label\": 1, \"Cluster\": 10391},\n",
    "    {\"UniProtID\": \"P59262\", \"sequence\": \"MKFLVNVALVFMVVYISYIYAAPEPEPAPEPEAEADAEADPEAGIGAVLKVLTTGLPALISWIKRKRQQG\",\"bio_category\": \"hymenoptera\", \"label\": 1,  \"Cluster\": 15103},\n",
    "    {\"UniProtID\": \"A5HII1\", \"sequence\": \"MGLPKSFVSMSLLFFSTLLILSLAFNAKNLTQRTNDEVKAMYESWLIKYGKSYNSLGEWERRFEIFKETLRFIDEHNADTNRSYKVGLNQFADLTDEEFRSTYLGFTSGSNKTKVSNRYEPRFGQVLPSYVDWRSAGAVVDIKSQGECGGCWAFSAIATVEGINKIVTGVLISLSEQELIDCGRTQNTRGCNGGYITDGFQFIINNGGINTEENYPYTAQDGECNLDLQNEKYVTIDTYENVPYNNEWALQTAVTYQPVSVALDAAGDAFKHYSSGIFTGPCGTAIDHAVTIVGYGTEGGIDYWIVKNSWDTTWGEEGYMRILRNVGGAGTCGIATMPSYPVKYNNQNHPKPYSSLINPPAFSMSKDGPVGVDDGQRYSA\",  \"bio_category\": \"actinidia deliciosa\", \"label\": 1, \"Cluster\": 7144},\n",
    "    {\"UniProtID\": \"P27740\", \"sequence\": \"MANKLFLVSATLALFFLLTNASVYRTGSEFDEHDATNPAGPFRIPKCRKEFQQAQHLKACQQWLHKQAMQSGSGPSWTLDGEFDFEEDMENTQGPQQEPPLLQQCCNELHQEEPLCVCPTLKGASKAVKQQVRQQGQQQQMQQVISRIYQTSTHLPRVCNIRQVSICPFQKTMPGPSY\", \"bio_category\": \"brassica rapa\",  \"label\": 1, \"Cluster\": 12744},\n",
    "    {\"UniProtID\": \"P15494\", \"sequence\": \"MGVFNYETETTSVIPAARLFKAFILDGDNLFPKVAPQAISSVENIEGNGGPGTIKKISFPEGFPFKYVKDRVDEVDHTNFKYNYSVIEGGPIGDTLEKISNEIKIVATPDGGSILKISNKYHTKGDHEVKAEQVKASKEMGETLLRAVESYLLAHSDAYN\", \"bio_category\": \"fagales\", \"label\": 1, \"Cluster\": 13199},\n",
    "    {\"UniProtID\": \"P0DO15\", \"sequence\": \"MMRARFPLLLLGLVFLASVSVSFGIAYWEKENPKHNKCLQSCNSERDSYRNQACHARCNLLKVEKEECEEGEIPRPRPRPQHPEREPQQPGEKEEDEDEQPRPIPFPRPQPRQEEEHEQREEQEWPRKEEKRGEKGSEEEDEDEDEEQDERQFPFPRPPHQKEERNEEEDEDEEQQRESEESEDSELRRHKNKNPFLFGSNRFETLFKNQYGRIRVLQRFNQRSPQLQNLRDYRILEFNSKPNTLLLPNHADADYLIVILNGTAILSLVNNDDRDSYRLQSGDALRVPSGTTYYVVNPDNNENLRLITLAIPVNKPGRFESFFLSSTEAQQSYLQGFSRNILEASYDTKFEEINKVLFSREEGQQQGEQRLQESVIVEISKEQIRALSKRAKSSSRKTISSEDKPFNLRSRDPIYSNKLGKFFEITPEKNPQLRDLDIFLSIVDMNEGALLLPHFNSKAIVILVINEGDANIELVGLKEQQQEQQQEEQPLEVRKYRAELSEQDIFVIPAGYPVVVNATSNLNFFAIGINAENNQRNFLAGSQDNVISQIPSQVQELAFPGSAQAVEKLLKNQRESYFVDAQPKKKEEGNKGRKGPLSSILRAFY\", \"bio_category\": \"glycine max\",  \"label\": 1,\"Cluster\": 3089},\n",
    "    {\"UniProtID\": \"P31541\", \"sequence\": \"MMARALVQSTNILPSVAGERAGQFNGSRKDQRTVRMLCNVKCCSSRLNNFAGLRGCNALDTLLVKSGETLHSKVAAATFVRRPRGCRFVPKAMFERFTEKAIKVIMLAQEEARRLGHNFVGTEQILLGLIGEGTGIAAKVLKSMGINLKDARVEVEKIIGRGSGFIAVEIPFTPRAKRVLELSLEEARQLGHNYIGSEHLLLGLLREGEGVAARVLENLGADPTNIRTQVIRMVGESSEAVGASVGGGTSGLKMPTLEEYGTNLTKLAEEGKLDPVVGRQAQIERVTQILGRRTKNNPCLIGEPGVGKTAIAEGLAQRIANGDVPETIEGKKVITLDMGLLVAGTKYRGEFEERLKKLMEEIKQSDEIILFIDEVHTLIGAGAAEGAIDAANILKPALARGELQCIGATTLDEYRKHIEKDPALERRFQPVKVPEPSVDETIQILKGLRERYEIHHKLHYTDEAIEAAAKLSHQYISDRFLPDKAIDLIDEAGSRVRLRHAQLPEEARELEKELRQITKEKNEAVRGQDFEKAGELRDREMDLKAQISALIDKNKEKSKAESEAGDAAGPIVTEADIQHIVSSWTGIPVEKVSTDESDRLLKMEETLHTRVIGQDEAVKAISRAIRRARVGLKNPNRPIASFIFSGPTGVGKSELAKSLATYYFGSEEAMIRLDMSEFMERHTVSKLIGSPPGYVGYTEGGQLTEAVRRRPYTVVLFDEIEKAHPDVFNMMLQILEDGRLTDSKGRTVDFKNTLLIMTSNVGSSVIEKGGRRIGFDLDFDEKDSSYNRIKSLVTEELKQYFRPEFLNRLSEMIVFRQLTKLEVKEIADIMLKEVFVRLKNKEIELQVTERFRDRVVDEGYNPSYGARPLRRAIMRLLEDSMAEKMLAGEIKEGDSVIVDVDSDGNVTVLNGTSGAPSDSAPEPILV\", \"bio_category\": \"solanum lycopersicum\", \"label\": 0, \"Cluster\": 1180},\n",
    "    {\"UniProtID\": \"P17786\", \"sequence\": \"MGKEKIHISIVVIGHVDSGKSTTTGHLIYKLGGIDKRVIERFEKEAAEMNKRSFKYAWVLDKLKAERERGITIDIALWKFETTKYYCTVIDAPGHRDFIKNMITGTSQADCAVLIIDSTTGGFEAGISKDGQTREHALLAFTLGVKQMICCCNKMDATTPKYSKARYDEIVKEVSSYLKKVGYNPDKIPFVPISGFEGDNMIERSTNLDWYKGPTLLEALDQINEPKRPSDKPLRLPLQDVYKIGGIGTVPVGRVETGVIKPGMVVTFGPTGLTTEVKSVEMHHEALQEALPGDNVGFNVKNVAVKDLKRGYVASNSKDDPAKGAASFTAQVIIMNHPGQIGNGYAPVLDCHTSHIAVKFAEILTKIDRRSGKELEKEPKFLKNGDAGMVKMIPTKPMVVETFAEYPPLGRFAVRDMRQTVAVGVVKNVDKKDPTGAKVTKAAQKKGK\", \"bio_category\": \"solanum lycopersicum\", \"label\": 0, \"Cluster\": 15113},\n",
    "    {\"UniProtID\": \"P48980\", \"sequence\": \"MENFPIINLEKLNGDERANTMEMIKDACENWGFFELVNHGIPHEVMDTVEKMTKGHYKKCMEQRFKELVASKGLEAVQAEVTDLDWESTFFLRHLPTSNISQVPDLDEEYREVMRDFAKRLEKLAEELLDLLCENLGLEKGYLKNAFYGSKGPNFGTKVSNYPPCPKPDLIKGLRAHTDAGGIILLFQDDKVSGLQLLKDEQWIDVPPMRHSIVVNLGDQLEVITNGKYKSVLHRVIAQTDGTRMSLASFYNPGSDAVIYPAKTLVEKEAEESTQVYPKFVFDDYMKLYAGLKFQAKEPRFEAMKAMESDPIASA\", \"bio_category\": \"solanum lycopersicum\", \"label\": 0, \"Cluster\": 7134},\n",
    "    # {\"UniProtID\": \"P89677\", \"sequence\": \"MGFWMAMLLMLLLCLWVSCGIASVSYDHKAIIVNGQRKILISGSIHYPRSTPEMWPDLIQKAKEGGVDVIQTYVFWNGHEPEEGKYYFEERYDLVKFIKVVQEAGLYVHLRIGPYACAEWNFGGFPVWLKYVPGISFRTNNEPFKAAMQKFTTKIVDMMKAEKLYETQGGPIILSQIENEYGPMEWELGEPGKVYSEWAAKMAVDLGTGVPWIMCKQDDVPDPIINTCNGFYCDYFTPNKANKPKMWTEAWTAWFTEFGGPVPYRPAEDMAFAVARFIQTGGSFINYYMYHGGTNFGRTSGGPFIATSYDYDAPLDEFGSLRQPKWGHLKDLHRAIKLCEPALVSVDPTVTSLGNYQEARVFKSESGACAAFLANYNQHSFAKVAFGNMHYNLPPWSISILPDCKNTVYNTARVGAQSAQMKMTPVSRGFSWESFNEDAASHEDDTFTVVGLLEQINITRDVSDYLWYMTDIEIDPTEGFLNSGNWPWLTVFSAGHALHVFVNGQLAGTVYGSLENPKLTFSNGINLRAGVNKISLLSIAVGLPNVGPHFETWNAGVLGPVSLNGLNEGTRDLTWQKWFYKVGLKGEALSLHSLSGSPSVEWVEGSLVAQKQPLSWYKTTFNAPDGNEPLALDMNTMGKGQVWINGQSLGRHWPAYKSSGSCSVCNYTGWFDEKKCLTNCGEGSQRWYHVPRSWLYPTGNLLVVFEEWGGDPYGITLVKREIGSVCADIYEWQPQLLNWQRLVSGKFDRPLRPKAHLKCAPGQKISSIKFASFGTPEGVCGNFQQGSCHAPRSYDAFKKNCVGKESCSVQVTPENFGGDPCRNVLKKLSVEAICS\", \"bio_category\":\"solanum lycopersicum\", \"label\":0, \"Cluster\":3284},\n",
    "    {\"UniProtID\": \"Q8LI30\", \"sequence\": \"MATLSLPLPHLTQAIPARARPRPRPLRGIPARLLSCRAAMAVAPDKEEAAAVALDKAVKVAVAAPDRAAVAAVGVGEELPEGYDQMMPAVEEARRRRAGVLLHPTSLRGPHGIGDLGDEAVAFLAWLRDAGCTLWQVLPLVPPGRKSGEDGSPYSGQDANCGNTLLISLEELVKDGLLMENELPDPLDMEYVEFDTVANLKEPLIAKAAERLLLSRGELRTQYDCFKKNPNISGWLEDAALFAAIDRSIDALSWYEWPEPLKNRHLRALEDIYQKQKDFIEIFMAQQFLFQRQWQRIRKYAKKLGISIMGDMPIYVGYHSADVWANRKSFLLDKNGFPTFVSGVPPDAFSETGQLWNSPLYDWKAMEAGGFEWWIKRINRALDLYDEFRIDHFRGLAGFWAVPSESKVALVGSWRAGPRNAFFDALFKAVGRINIIAEDLGVITEDVVDLRKSIEAPGMAVLQFAFGGGSDNPHLPHNHEFDQVVYTGTHDNDTVIGWWQTLPEEEKQTVFKYLPEANRTEISWALITAALSSVARTSMVTMQDILGLDSSARMNTPATQKGNWRWRMPSSVSFDSLSPEAAKLKELLGLYNRL\", \"bio_category\": \"oryza sativa\", \"label\":0, \"Cluster\":3206}\n",
    "    ]\n",
    "# Convert to DataFrame\n",
    "df = pd.DataFrame(data)\n",
    "df.rename(columns={\"UniProtID\": \"id\"}, inplace=True)\n",
    "\n",
    "print(df)\n"
   ]
  },
  {
   "cell_type": "markdown",
   "metadata": {},
   "source": [
    "You can observe that our dataset has \"UniProtID\", \"sequence\", \"bio_category\", \"label\" and \"Cluster\" columns"
   ]
  },
  {
   "cell_type": "markdown",
   "metadata": {},
   "source": [
    "You should use the Propythia habilities to preprocess your sequences."
   ]
  },
  {
   "cell_type": "markdown",
   "metadata": {},
   "source": [
    "# 2. Graph building"
   ]
  },
  {
   "cell_type": "markdown",
   "metadata": {},
   "source": [
    "In this phase, you are using Grapheins capacities to build this graphs. For that, you should install Graphein, and I recommend to use version 1.7.6"
   ]
  },
  {
   "cell_type": "code",
   "execution_count": null,
   "metadata": {},
   "outputs": [],
   "source": [
    "!pip install graphein==1.7.6\n",
    "#!pip install graphein[extras]"
   ]
  },
  {
   "cell_type": "code",
   "execution_count": 5,
   "metadata": {},
   "outputs": [
    {
     "data": {
      "text/html": [
       "<pre style=\"white-space:pre;overflow-x:auto;line-height:normal;font-family:Menlo,'DejaVu Sans Mono',consolas,'Courier New',monospace\"><span style=\"color: #7fbfbf; text-decoration-color: #7fbfbf\">[11/06/24 22:31:07] </span><span style=\"color: #800000; text-decoration-color: #800000\">WARNING </span> To use the Graphein submodule                   <a href=\"file://c:\\Users\\Fofinha\\anaconda3\\Lib\\site-packages\\graphein\\protein\\features\\sequence\\embeddings.py\"><span style=\"color: #7f7f7f; text-decoration-color: #7f7f7f\">embeddings.py</span></a><span style=\"color: #7f7f7f; text-decoration-color: #7f7f7f\">:45</span>\n",
       "                             graphein.protein.features.sequence.embeddings,                  \n",
       "                             you need to install: biovec                                     \n",
       "                             biovec cannot be installed via conda                            \n",
       "                             Alternatively, you can install graphein with                    \n",
       "                             the extras:                                                     \n",
       "                                                                                             \n",
       "                             pip install graphein<span style=\"font-weight: bold\">[</span>extras<span style=\"font-weight: bold\">]</span>                                    \n",
       "</pre>\n"
      ],
      "text/plain": [
       "\u001b[2;36m[11/06/24 22:31:07]\u001b[0m\u001b[2;36m \u001b[0m\u001b[31mWARNING \u001b[0m To use the Graphein submodule                   \u001b]8;id=394442;file://c:\\Users\\Fofinha\\anaconda3\\Lib\\site-packages\\graphein\\protein\\features\\sequence\\embeddings.py\u001b\\\u001b[2membeddings.py\u001b[0m\u001b]8;;\u001b\\\u001b[2m:45\u001b[0m\n",
       "                             graphein.protein.features.sequence.embeddings,                  \n",
       "                             you need to install: biovec                                     \n",
       "                             biovec cannot be installed via conda                            \n",
       "                             Alternatively, you can install graphein with                    \n",
       "                             the extras:                                                     \n",
       "                                                                                             \n",
       "                             pip install graphein\u001b[1m[\u001b[0mextras\u001b[1m]\u001b[0m                                    \n"
      ]
     },
     "metadata": {},
     "output_type": "display_data"
    },
    {
     "data": {
      "text/html": [
       "<pre style=\"white-space:pre;overflow-x:auto;line-height:normal;font-family:Menlo,'DejaVu Sans Mono',consolas,'Courier New',monospace\"><span style=\"color: #7fbfbf; text-decoration-color: #7fbfbf\">[11/06/24 22:31:09] </span><span style=\"color: #800000; text-decoration-color: #800000\">WARNING </span> To use the Graphein submodule                <a href=\"file://c:\\Users\\Fofinha\\anaconda3\\Lib\\site-packages\\graphein\\protein\\visualisation.py\"><span style=\"color: #7f7f7f; text-decoration-color: #7f7f7f\">visualisation.py</span></a><span style=\"color: #7f7f7f; text-decoration-color: #7f7f7f\">:36</span>\n",
       "                             graphein.protein.visualisation, you need to                     \n",
       "                             install: pytorch3d                                              \n",
       "                             To do so, use the following command: conda                      \n",
       "                             install -c pytorch3d pytorch3d                                  \n",
       "</pre>\n"
      ],
      "text/plain": [
       "\u001b[2;36m[11/06/24 22:31:09]\u001b[0m\u001b[2;36m \u001b[0m\u001b[31mWARNING \u001b[0m To use the Graphein submodule                \u001b]8;id=594590;file://c:\\Users\\Fofinha\\anaconda3\\Lib\\site-packages\\graphein\\protein\\visualisation.py\u001b\\\u001b[2mvisualisation.py\u001b[0m\u001b]8;;\u001b\\\u001b[2m:36\u001b[0m\n",
       "                             graphein.protein.visualisation, you need to                     \n",
       "                             install: pytorch3d                                              \n",
       "                             To do so, use the following command: conda                      \n",
       "                             install -c pytorch3d pytorch3d                                  \n"
      ]
     },
     "metadata": {},
     "output_type": "display_data"
    },
    {
     "data": {
      "text/html": [
       "<pre style=\"white-space:pre;overflow-x:auto;line-height:normal;font-family:Menlo,'DejaVu Sans Mono',consolas,'Courier New',monospace\"><span style=\"color: #7fbfbf; text-decoration-color: #7fbfbf\">                    </span><span style=\"color: #800000; text-decoration-color: #800000\">WARNING </span> To use the Graphein submodule                       <a href=\"file://c:\\Users\\Fofinha\\anaconda3\\Lib\\site-packages\\graphein\\protein\\meshes.py\"><span style=\"color: #7f7f7f; text-decoration-color: #7f7f7f\">meshes.py</span></a><span style=\"color: #7f7f7f; text-decoration-color: #7f7f7f\">:30</span>\n",
       "                             graphein.protein.meshes, you need to install:                   \n",
       "                             pytorch3d                                                       \n",
       "                             To do so, use the following command: conda install              \n",
       "                             -c pytorch3d pytorch3d                                          \n",
       "</pre>\n"
      ],
      "text/plain": [
       "\u001b[2;36m                   \u001b[0m\u001b[2;36m \u001b[0m\u001b[31mWARNING \u001b[0m To use the Graphein submodule                       \u001b]8;id=433573;file://c:\\Users\\Fofinha\\anaconda3\\Lib\\site-packages\\graphein\\protein\\meshes.py\u001b\\\u001b[2mmeshes.py\u001b[0m\u001b]8;;\u001b\\\u001b[2m:30\u001b[0m\n",
       "                             graphein.protein.meshes, you need to install:                   \n",
       "                             pytorch3d                                                       \n",
       "                             To do so, use the following command: conda install              \n",
       "                             -c pytorch3d pytorch3d                                          \n"
      ]
     },
     "metadata": {},
     "output_type": "display_data"
    }
   ],
   "source": [
    "from protein.structure import Graph, ProteinGraphDataset"
   ]
  },
  {
   "cell_type": "markdown",
   "metadata": {},
   "source": [
    "Then, you start building the graphs for each UniProtID. The files are downloaded and saved. Create a directory called \"pdb_files\" to save these files\n",
    "\n",
    "(TODO: mkdir pdb_files)"
   ]
  },
  {
   "cell_type": "code",
   "execution_count": 65,
   "metadata": {},
   "outputs": [
    {
     "name": "stdout",
     "output_type": "stream",
     "text": [
      "A1KXI0\n"
     ]
    },
    {
     "data": {
      "text/html": [
       "<pre style=\"white-space:pre;overflow-x:auto;line-height:normal;font-family:Menlo,'DejaVu Sans Mono',consolas,'Courier New',monospace\"><span style=\"color: #7fbfbf; text-decoration-color: #7fbfbf\">[11/06/24 16:07:10] </span><span style=\"color: #000080; text-decoration-color: #000080\">INFO    </span> Downloaded AlphaFold PDB file for: A1KXI0           <a href=\"file://c:\\Users\\Fofinha\\anaconda3\\Lib\\site-packages\\graphein\\protein\\utils.py\"><span style=\"color: #7f7f7f; text-decoration-color: #7f7f7f\">utils.py</span></a><span style=\"color: #7f7f7f; text-decoration-color: #7f7f7f\">:349</span>\n",
       "</pre>\n"
      ],
      "text/plain": [
       "\u001b[2;36m[11/06/24 16:07:10]\u001b[0m\u001b[2;36m \u001b[0m\u001b[34mINFO    \u001b[0m Downloaded AlphaFold PDB file for: A1KXI0           \u001b]8;id=270112;file://c:\\Users\\Fofinha\\anaconda3\\Lib\\site-packages\\graphein\\protein\\utils.py\u001b\\\u001b[2mutils.py\u001b[0m\u001b]8;;\u001b\\\u001b[2m:349\u001b[0m\n"
      ]
     },
     "metadata": {},
     "output_type": "display_data"
    },
    {
     "name": "stdout",
     "output_type": "stream",
     "text": [
      "AlphaFold file downloaded: C:\\Users\\Fofinha\\Desktop\\UNI\\MESTRADO\\propythia\\pdb_files\\A1KXI0.pdb\n"
     ]
    },
    {
     "data": {
      "application/vnd.jupyter.widget-view+json": {
       "model_id": "e13880a6eaac4ca881f04df85974f1ed",
       "version_major": 2,
       "version_minor": 0
      },
      "text/plain": [
       "Output()"
      ]
     },
     "metadata": {},
     "output_type": "display_data"
    },
    {
     "data": {
      "text/html": [
       "<pre style=\"white-space:pre;overflow-x:auto;line-height:normal;font-family:Menlo,'DejaVu Sans Mono',consolas,'Courier New',monospace\"><span style=\"color: #7fbfbf; text-decoration-color: #7fbfbf\">[11/06/24 16:07:11] </span><span style=\"color: #008000; text-decoration-color: #008000\">DEBUG   </span> Deprotonating protein. This removes H atoms from   <a href=\"file://c:\\Users\\Fofinha\\anaconda3\\Lib\\site-packages\\graphein\\protein\\graphs.py\"><span style=\"color: #7f7f7f; text-decoration-color: #7f7f7f\">graphs.py</span></a><span style=\"color: #7f7f7f; text-decoration-color: #7f7f7f\">:188</span>\n",
       "                             the pdb_df dataframe                                            \n",
       "</pre>\n"
      ],
      "text/plain": [
       "\u001b[2;36m[11/06/24 16:07:11]\u001b[0m\u001b[2;36m \u001b[0m\u001b[32mDEBUG   \u001b[0m Deprotonating protein. This removes H atoms from   \u001b]8;id=312066;file://c:\\Users\\Fofinha\\anaconda3\\Lib\\site-packages\\graphein\\protein\\graphs.py\u001b\\\u001b[2mgraphs.py\u001b[0m\u001b]8;;\u001b\\\u001b[2m:188\u001b[0m\n",
       "                             the pdb_df dataframe                                            \n"
      ]
     },
     "metadata": {},
     "output_type": "display_data"
    },
    {
     "data": {
      "text/html": [
       "<pre style=\"white-space:pre;overflow-x:auto;line-height:normal;font-family:Menlo,'DejaVu Sans Mono',consolas,'Courier New',monospace\"><span style=\"color: #7fbfbf; text-decoration-color: #7fbfbf\">                    </span><span style=\"color: #008000; text-decoration-color: #008000\">DEBUG   </span> Detected <span style=\"color: #008080; text-decoration-color: #008080; font-weight: bold\">333</span> total nodes                           <a href=\"file://c:\\Users\\Fofinha\\anaconda3\\Lib\\site-packages\\graphein\\protein\\graphs.py\"><span style=\"color: #7f7f7f; text-decoration-color: #7f7f7f\">graphs.py</span></a><span style=\"color: #7f7f7f; text-decoration-color: #7f7f7f\">:435</span>\n",
       "</pre>\n"
      ],
      "text/plain": [
       "\u001b[2;36m                   \u001b[0m\u001b[2;36m \u001b[0m\u001b[32mDEBUG   \u001b[0m Detected \u001b[1;36m333\u001b[0m total nodes                           \u001b]8;id=135826;file://c:\\Users\\Fofinha\\anaconda3\\Lib\\site-packages\\graphein\\protein\\graphs.py\u001b\\\u001b[2mgraphs.py\u001b[0m\u001b]8;;\u001b\\\u001b[2m:435\u001b[0m\n"
      ]
     },
     "metadata": {},
     "output_type": "display_data"
    },
    {
     "name": "stderr",
     "output_type": "stream",
     "text": [
      "c:\\Users\\Fofinha\\anaconda3\\Lib\\site-packages\\graphein\\protein\\edges\\distance.py:1213: FutureWarning: The default value of numeric_only in DataFrameGroupBy.mean is deprecated. In a future version, numeric_only will default to False. Either specify numeric_only or select only columns which should be valid for the function.\n",
      "  .mean()[[\"x_coord\", \"y_coord\", \"z_coord\"]]\n",
      "c:\\Users\\Fofinha\\anaconda3\\Lib\\site-packages\\graphein\\protein\\edges\\distance.py:1213: FutureWarning: The default value of numeric_only in DataFrameGroupBy.mean is deprecated. In a future version, numeric_only will default to False. Either specify numeric_only or select only columns which should be valid for the function.\n",
      "  .mean()[[\"x_coord\", \"y_coord\", \"z_coord\"]]\n"
     ]
    },
    {
     "data": {
      "text/html": [
       "<pre style=\"white-space:pre;overflow-x:auto;line-height:normal;font-family:Menlo,'DejaVu Sans Mono',consolas,'Courier New',monospace\"><span style=\"color: #7fbfbf; text-decoration-color: #7fbfbf\">                    </span><span style=\"color: #000080; text-decoration-color: #000080\">INFO    </span> Found: <span style=\"color: #008080; text-decoration-color: #008080; font-weight: bold\">70</span> aromatic-aromatic interactions         <a href=\"file://c:\\Users\\Fofinha\\anaconda3\\Lib\\site-packages\\graphein\\protein\\edges\\distance.py\"><span style=\"color: #7f7f7f; text-decoration-color: #7f7f7f\">distance.py</span></a><span style=\"color: #7f7f7f; text-decoration-color: #7f7f7f\">:467</span>\n",
       "</pre>\n"
      ],
      "text/plain": [
       "\u001b[2;36m                   \u001b[0m\u001b[2;36m \u001b[0m\u001b[34mINFO    \u001b[0m Found: \u001b[1;36m70\u001b[0m aromatic-aromatic interactions         \u001b]8;id=360972;file://c:\\Users\\Fofinha\\anaconda3\\Lib\\site-packages\\graphein\\protein\\edges\\distance.py\u001b\\\u001b[2mdistance.py\u001b[0m\u001b]8;;\u001b\\\u001b[2m:467\u001b[0m\n"
      ]
     },
     "metadata": {},
     "output_type": "display_data"
    },
    {
     "data": {
      "text/html": [
       "<pre style=\"white-space:pre;overflow-x:auto;line-height:normal;font-family:Menlo,'DejaVu Sans Mono',consolas,'Courier New',monospace\"><span style=\"color: #7fbfbf; text-decoration-color: #7fbfbf\">                    </span><span style=\"color: #000080; text-decoration-color: #000080\">INFO    </span> Found <span style=\"color: #008080; text-decoration-color: #008080; font-weight: bold\">157</span> hbond interactions.                   <a href=\"file://c:\\Users\\Fofinha\\anaconda3\\Lib\\site-packages\\graphein\\protein\\edges\\distance.py\"><span style=\"color: #7f7f7f; text-decoration-color: #7f7f7f\">distance.py</span></a><span style=\"color: #7f7f7f; text-decoration-color: #7f7f7f\">:1344</span>\n",
       "</pre>\n"
      ],
      "text/plain": [
       "\u001b[2;36m                   \u001b[0m\u001b[2;36m \u001b[0m\u001b[34mINFO    \u001b[0m Found \u001b[1;36m157\u001b[0m hbond interactions.                   \u001b]8;id=840712;file://c:\\Users\\Fofinha\\anaconda3\\Lib\\site-packages\\graphein\\protein\\edges\\distance.py\u001b\\\u001b[2mdistance.py\u001b[0m\u001b]8;;\u001b\\\u001b[2m:1344\u001b[0m\n"
      ]
     },
     "metadata": {},
     "output_type": "display_data"
    },
    {
     "data": {
      "text/html": [
       "<pre style=\"white-space:pre;overflow-x:auto;line-height:normal;font-family:Menlo,'DejaVu Sans Mono',consolas,'Courier New',monospace\"><span style=\"color: #7fbfbf; text-decoration-color: #7fbfbf\">                    </span><span style=\"color: #000080; text-decoration-color: #000080\">INFO    </span> Found <span style=\"color: #008080; text-decoration-color: #008080; font-weight: bold\">20</span> hbond interactions.                    <a href=\"file://c:\\Users\\Fofinha\\anaconda3\\Lib\\site-packages\\graphein\\protein\\edges\\distance.py\"><span style=\"color: #7f7f7f; text-decoration-color: #7f7f7f\">distance.py</span></a><span style=\"color: #7f7f7f; text-decoration-color: #7f7f7f\">:1344</span>\n",
       "</pre>\n"
      ],
      "text/plain": [
       "\u001b[2;36m                   \u001b[0m\u001b[2;36m \u001b[0m\u001b[34mINFO    \u001b[0m Found \u001b[1;36m20\u001b[0m hbond interactions.                    \u001b]8;id=493679;file://c:\\Users\\Fofinha\\anaconda3\\Lib\\site-packages\\graphein\\protein\\edges\\distance.py\u001b\\\u001b[2mdistance.py\u001b[0m\u001b]8;;\u001b\\\u001b[2m:1344\u001b[0m\n"
      ]
     },
     "metadata": {},
     "output_type": "display_data"
    },
    {
     "data": {
      "text/html": [
       "<pre style=\"white-space:pre;overflow-x:auto;line-height:normal;font-family:Menlo,'DejaVu Sans Mono',consolas,'Courier New',monospace\"><span style=\"color: #7fbfbf; text-decoration-color: #7fbfbf\">                    </span><span style=\"color: #000080; text-decoration-color: #000080\">INFO    </span> Found <span style=\"color: #008080; text-decoration-color: #008080; font-weight: bold\">12</span> disulfide interactions.                <a href=\"file://c:\\Users\\Fofinha\\anaconda3\\Lib\\site-packages\\graphein\\protein\\edges\\distance.py\"><span style=\"color: #7f7f7f; text-decoration-color: #7f7f7f\">distance.py</span></a><span style=\"color: #7f7f7f; text-decoration-color: #7f7f7f\">:1344</span>\n",
       "</pre>\n"
      ],
      "text/plain": [
       "\u001b[2;36m                   \u001b[0m\u001b[2;36m \u001b[0m\u001b[34mINFO    \u001b[0m Found \u001b[1;36m12\u001b[0m disulfide interactions.                \u001b]8;id=964281;file://c:\\Users\\Fofinha\\anaconda3\\Lib\\site-packages\\graphein\\protein\\edges\\distance.py\u001b\\\u001b[2mdistance.py\u001b[0m\u001b]8;;\u001b\\\u001b[2m:1344\u001b[0m\n"
      ]
     },
     "metadata": {},
     "output_type": "display_data"
    },
    {
     "data": {
      "text/html": [
       "<pre style=\"white-space:pre;overflow-x:auto;line-height:normal;font-family:Menlo,'DejaVu Sans Mono',consolas,'Courier New',monospace\"><span style=\"color: #7fbfbf; text-decoration-color: #7fbfbf\">                    </span><span style=\"color: #000080; text-decoration-color: #000080\">INFO    </span> Found <span style=\"color: #008080; text-decoration-color: #008080; font-weight: bold\">2552</span> ionic interactions.                  <a href=\"file://c:\\Users\\Fofinha\\anaconda3\\Lib\\site-packages\\graphein\\protein\\edges\\distance.py\"><span style=\"color: #7f7f7f; text-decoration-color: #7f7f7f\">distance.py</span></a><span style=\"color: #7f7f7f; text-decoration-color: #7f7f7f\">:1344</span>\n",
       "</pre>\n"
      ],
      "text/plain": [
       "\u001b[2;36m                   \u001b[0m\u001b[2;36m \u001b[0m\u001b[34mINFO    \u001b[0m Found \u001b[1;36m2552\u001b[0m ionic interactions.                  \u001b]8;id=267646;file://c:\\Users\\Fofinha\\anaconda3\\Lib\\site-packages\\graphein\\protein\\edges\\distance.py\u001b\\\u001b[2mdistance.py\u001b[0m\u001b]8;;\u001b\\\u001b[2m:1344\u001b[0m\n"
      ]
     },
     "metadata": {},
     "output_type": "display_data"
    },
    {
     "data": {
      "text/html": [
       "<pre style=\"white-space:pre;overflow-x:auto;line-height:normal;font-family:Menlo,'DejaVu Sans Mono',consolas,'Courier New',monospace\"><span style=\"color: #7fbfbf; text-decoration-color: #7fbfbf\">                    </span><span style=\"color: #000080; text-decoration-color: #000080\">INFO    </span> Found <span style=\"color: #008080; text-decoration-color: #008080; font-weight: bold\">601</span> hydrophobic interactions.             <a href=\"file://c:\\Users\\Fofinha\\anaconda3\\Lib\\site-packages\\graphein\\protein\\edges\\distance.py\"><span style=\"color: #7f7f7f; text-decoration-color: #7f7f7f\">distance.py</span></a><span style=\"color: #7f7f7f; text-decoration-color: #7f7f7f\">:1344</span>\n",
       "</pre>\n"
      ],
      "text/plain": [
       "\u001b[2;36m                   \u001b[0m\u001b[2;36m \u001b[0m\u001b[34mINFO    \u001b[0m Found \u001b[1;36m601\u001b[0m hydrophobic interactions.             \u001b]8;id=164973;file://c:\\Users\\Fofinha\\anaconda3\\Lib\\site-packages\\graphein\\protein\\edges\\distance.py\u001b\\\u001b[2mdistance.py\u001b[0m\u001b]8;;\u001b\\\u001b[2m:1344\u001b[0m\n"
      ]
     },
     "metadata": {},
     "output_type": "display_data"
    },
    {
     "data": {
      "text/html": [
       "<pre style=\"white-space:pre;overflow-x:auto;line-height:normal;font-family:Menlo,'DejaVu Sans Mono',consolas,'Courier New',monospace\"><span style=\"color: #7fbfbf; text-decoration-color: #7fbfbf\">                    </span><span style=\"color: #000080; text-decoration-color: #000080\">INFO    </span> Found <span style=\"color: #008080; text-decoration-color: #008080; font-weight: bold\">2743</span> vdw interactions.                    <a href=\"file://c:\\Users\\Fofinha\\anaconda3\\Lib\\site-packages\\graphein\\protein\\edges\\distance.py\"><span style=\"color: #7f7f7f; text-decoration-color: #7f7f7f\">distance.py</span></a><span style=\"color: #7f7f7f; text-decoration-color: #7f7f7f\">:1344</span>\n",
       "</pre>\n"
      ],
      "text/plain": [
       "\u001b[2;36m                   \u001b[0m\u001b[2;36m \u001b[0m\u001b[34mINFO    \u001b[0m Found \u001b[1;36m2743\u001b[0m vdw interactions.                    \u001b]8;id=958175;file://c:\\Users\\Fofinha\\anaconda3\\Lib\\site-packages\\graphein\\protein\\edges\\distance.py\u001b\\\u001b[2mdistance.py\u001b[0m\u001b]8;;\u001b\\\u001b[2m:1344\u001b[0m\n"
      ]
     },
     "metadata": {},
     "output_type": "display_data"
    },
    {
     "data": {
      "text/html": [
       "<pre style=\"white-space:pre;overflow-x:auto;line-height:normal;font-family:Menlo,'DejaVu Sans Mono',consolas,'Courier New',monospace\"><span style=\"color: #7fbfbf; text-decoration-color: #7fbfbf\">[11/06/24 16:07:12] </span><span style=\"color: #000080; text-decoration-color: #000080\">INFO    </span> Found <span style=\"color: #008080; text-decoration-color: #008080; font-weight: bold\">320</span> bb_carbonyl_carbonyl interactions.    <a href=\"file://c:\\Users\\Fofinha\\anaconda3\\Lib\\site-packages\\graphein\\protein\\edges\\distance.py\"><span style=\"color: #7f7f7f; text-decoration-color: #7f7f7f\">distance.py</span></a><span style=\"color: #7f7f7f; text-decoration-color: #7f7f7f\">:1344</span>\n",
       "</pre>\n"
      ],
      "text/plain": [
       "\u001b[2;36m[11/06/24 16:07:12]\u001b[0m\u001b[2;36m \u001b[0m\u001b[34mINFO    \u001b[0m Found \u001b[1;36m320\u001b[0m bb_carbonyl_carbonyl interactions.    \u001b]8;id=185738;file://c:\\Users\\Fofinha\\anaconda3\\Lib\\site-packages\\graphein\\protein\\edges\\distance.py\u001b\\\u001b[2mdistance.py\u001b[0m\u001b]8;;\u001b\\\u001b[2m:1344\u001b[0m\n"
      ]
     },
     "metadata": {},
     "output_type": "display_data"
    },
    {
     "data": {
      "text/html": [
       "<pre style=\"white-space:pre;overflow-x:auto;line-height:normal;font-family:Menlo,'DejaVu Sans Mono',consolas,'Courier New',monospace\"><span style=\"color: #7fbfbf; text-decoration-color: #7fbfbf\">                    </span><span style=\"color: #000080; text-decoration-color: #000080\">INFO    </span> Found <span style=\"color: #008080; text-decoration-color: #008080; font-weight: bold\">106</span> salt_bridge interactions.             <a href=\"file://c:\\Users\\Fofinha\\anaconda3\\Lib\\site-packages\\graphein\\protein\\edges\\distance.py\"><span style=\"color: #7f7f7f; text-decoration-color: #7f7f7f\">distance.py</span></a><span style=\"color: #7f7f7f; text-decoration-color: #7f7f7f\">:1344</span>\n",
       "</pre>\n"
      ],
      "text/plain": [
       "\u001b[2;36m                   \u001b[0m\u001b[2;36m \u001b[0m\u001b[34mINFO    \u001b[0m Found \u001b[1;36m106\u001b[0m salt_bridge interactions.             \u001b]8;id=675193;file://c:\\Users\\Fofinha\\anaconda3\\Lib\\site-packages\\graphein\\protein\\edges\\distance.py\u001b\\\u001b[2mdistance.py\u001b[0m\u001b]8;;\u001b\\\u001b[2m:1344\u001b[0m\n"
      ]
     },
     "metadata": {},
     "output_type": "display_data"
    },
    {
     "data": {
      "text/html": [
       "<pre style=\"white-space:pre;overflow-x:auto;line-height:normal;font-family:Menlo,'DejaVu Sans Mono',consolas,'Courier New',monospace\"><span style=\"color: #7fbfbf; text-decoration-color: #7fbfbf\">                    </span><span style=\"color: #000080; text-decoration-color: #000080\">INFO    </span> Found: <span style=\"color: #008080; text-decoration-color: #008080; font-weight: bold\">1001</span> distance edges                       <a href=\"file://c:\\Users\\Fofinha\\anaconda3\\Lib\\site-packages\\graphein\\protein\\edges\\distance.py\"><span style=\"color: #7f7f7f; text-decoration-color: #7f7f7f\">distance.py</span></a><span style=\"color: #7f7f7f; text-decoration-color: #7f7f7f\">:964</span>\n",
       "</pre>\n"
      ],
      "text/plain": [
       "\u001b[2;36m                   \u001b[0m\u001b[2;36m \u001b[0m\u001b[34mINFO    \u001b[0m Found: \u001b[1;36m1001\u001b[0m distance edges                       \u001b]8;id=775540;file://c:\\Users\\Fofinha\\anaconda3\\Lib\\site-packages\\graphein\\protein\\edges\\distance.py\u001b\\\u001b[2mdistance.py\u001b[0m\u001b]8;;\u001b\\\u001b[2m:964\u001b[0m\n"
      ]
     },
     "metadata": {},
     "output_type": "display_data"
    },
    {
     "data": {
      "text/html": [
       "<pre style=\"white-space:pre;overflow-x:auto;line-height:normal;font-family:Menlo,'DejaVu Sans Mono',consolas,'Courier New',monospace\"><span style=\"color: #7fbfbf; text-decoration-color: #7fbfbf\">                    </span><span style=\"color: #000080; text-decoration-color: #000080\">INFO    </span> Added <span style=\"color: #008080; text-decoration-color: #008080; font-weight: bold\">2</span> distance edges. <span style=\"font-weight: bold\">(</span><span style=\"color: #008080; text-decoration-color: #008080; font-weight: bold\">999</span>            removed  <a href=\"file://c:\\Users\\Fofinha\\anaconda3\\Lib\\site-packages\\graphein\\protein\\edges\\distance.py\"><span style=\"color: #7f7f7f; text-decoration-color: #7f7f7f\">distance.py</span></a><span style=\"color: #7f7f7f; text-decoration-color: #7f7f7f\">:983</span>\n",
       "                             by LIN<span style=\"font-weight: bold\">)</span>                                                         \n",
       "</pre>\n"
      ],
      "text/plain": [
       "\u001b[2;36m                   \u001b[0m\u001b[2;36m \u001b[0m\u001b[34mINFO    \u001b[0m Added \u001b[1;36m2\u001b[0m distance edges. \u001b[1m(\u001b[0m\u001b[1;36m999\u001b[0m            removed  \u001b]8;id=554065;file://c:\\Users\\Fofinha\\anaconda3\\Lib\\site-packages\\graphein\\protein\\edges\\distance.py\u001b\\\u001b[2mdistance.py\u001b[0m\u001b]8;;\u001b\\\u001b[2m:983\u001b[0m\n",
       "                             by LIN\u001b[1m)\u001b[0m                                                         \n"
      ]
     },
     "metadata": {},
     "output_type": "display_data"
    },
    {
     "data": {
      "text/html": [
       "<pre style=\"white-space:pre;overflow-x:auto;line-height:normal;font-family:Menlo,'DejaVu Sans Mono',consolas,'Courier New',monospace\"></pre>\n"
      ],
      "text/plain": []
     },
     "metadata": {},
     "output_type": "display_data"
    },
    {
     "name": "stdout",
     "output_type": "stream",
     "text": [
      "<src.propythia.protein.structure.Graph object at 0x00000207F20CF0D0>\n",
      "C0HL99\n"
     ]
    },
    {
     "data": {
      "text/html": [
       "<pre style=\"white-space:pre;overflow-x:auto;line-height:normal;font-family:Menlo,'DejaVu Sans Mono',consolas,'Courier New',monospace\"><span style=\"color: #7fbfbf; text-decoration-color: #7fbfbf\">                    </span><span style=\"color: #000080; text-decoration-color: #000080\">INFO    </span> Downloaded AlphaFold PDB file for: C0HL99           <a href=\"file://c:\\Users\\Fofinha\\anaconda3\\Lib\\site-packages\\graphein\\protein\\utils.py\"><span style=\"color: #7f7f7f; text-decoration-color: #7f7f7f\">utils.py</span></a><span style=\"color: #7f7f7f; text-decoration-color: #7f7f7f\">:349</span>\n",
       "</pre>\n"
      ],
      "text/plain": [
       "\u001b[2;36m                   \u001b[0m\u001b[2;36m \u001b[0m\u001b[34mINFO    \u001b[0m Downloaded AlphaFold PDB file for: C0HL99           \u001b]8;id=516729;file://c:\\Users\\Fofinha\\anaconda3\\Lib\\site-packages\\graphein\\protein\\utils.py\u001b\\\u001b[2mutils.py\u001b[0m\u001b]8;;\u001b\\\u001b[2m:349\u001b[0m\n"
      ]
     },
     "metadata": {},
     "output_type": "display_data"
    },
    {
     "name": "stdout",
     "output_type": "stream",
     "text": [
      "AlphaFold file downloaded: C:\\Users\\Fofinha\\Desktop\\UNI\\MESTRADO\\propythia\\pdb_files\\C0HL99.pdb\n"
     ]
    },
    {
     "data": {
      "application/vnd.jupyter.widget-view+json": {
       "model_id": "426ba1e3642f4b2bb4ef75bfc2b73ed3",
       "version_major": 2,
       "version_minor": 0
      },
      "text/plain": [
       "Output()"
      ]
     },
     "metadata": {},
     "output_type": "display_data"
    },
    {
     "data": {
      "text/html": [
       "<pre style=\"white-space:pre;overflow-x:auto;line-height:normal;font-family:Menlo,'DejaVu Sans Mono',consolas,'Courier New',monospace\"><span style=\"color: #7fbfbf; text-decoration-color: #7fbfbf\">                    </span><span style=\"color: #008000; text-decoration-color: #008000\">DEBUG   </span> Deprotonating protein. This removes H atoms from   <a href=\"file://c:\\Users\\Fofinha\\anaconda3\\Lib\\site-packages\\graphein\\protein\\graphs.py\"><span style=\"color: #7f7f7f; text-decoration-color: #7f7f7f\">graphs.py</span></a><span style=\"color: #7f7f7f; text-decoration-color: #7f7f7f\">:188</span>\n",
       "                             the pdb_df dataframe                                            \n",
       "</pre>\n"
      ],
      "text/plain": [
       "\u001b[2;36m                   \u001b[0m\u001b[2;36m \u001b[0m\u001b[32mDEBUG   \u001b[0m Deprotonating protein. This removes H atoms from   \u001b]8;id=368180;file://c:\\Users\\Fofinha\\anaconda3\\Lib\\site-packages\\graphein\\protein\\graphs.py\u001b\\\u001b[2mgraphs.py\u001b[0m\u001b]8;;\u001b\\\u001b[2m:188\u001b[0m\n",
       "                             the pdb_df dataframe                                            \n"
      ]
     },
     "metadata": {},
     "output_type": "display_data"
    },
    {
     "data": {
      "text/html": [
       "<pre style=\"white-space:pre;overflow-x:auto;line-height:normal;font-family:Menlo,'DejaVu Sans Mono',consolas,'Courier New',monospace\"><span style=\"color: #7fbfbf; text-decoration-color: #7fbfbf\">                    </span><span style=\"color: #008000; text-decoration-color: #008000\">DEBUG   </span> Detected <span style=\"color: #008080; text-decoration-color: #008080; font-weight: bold\">109</span> total nodes                           <a href=\"file://c:\\Users\\Fofinha\\anaconda3\\Lib\\site-packages\\graphein\\protein\\graphs.py\"><span style=\"color: #7f7f7f; text-decoration-color: #7f7f7f\">graphs.py</span></a><span style=\"color: #7f7f7f; text-decoration-color: #7f7f7f\">:435</span>\n",
       "</pre>\n"
      ],
      "text/plain": [
       "\u001b[2;36m                   \u001b[0m\u001b[2;36m \u001b[0m\u001b[32mDEBUG   \u001b[0m Detected \u001b[1;36m109\u001b[0m total nodes                           \u001b]8;id=927073;file://c:\\Users\\Fofinha\\anaconda3\\Lib\\site-packages\\graphein\\protein\\graphs.py\u001b\\\u001b[2mgraphs.py\u001b[0m\u001b]8;;\u001b\\\u001b[2m:435\u001b[0m\n"
      ]
     },
     "metadata": {},
     "output_type": "display_data"
    },
    {
     "name": "stderr",
     "output_type": "stream",
     "text": [
      "c:\\Users\\Fofinha\\anaconda3\\Lib\\site-packages\\graphein\\protein\\edges\\distance.py:1213: FutureWarning: The default value of numeric_only in DataFrameGroupBy.mean is deprecated. In a future version, numeric_only will default to False. Either specify numeric_only or select only columns which should be valid for the function.\n",
      "  .mean()[[\"x_coord\", \"y_coord\", \"z_coord\"]]\n",
      "c:\\Users\\Fofinha\\anaconda3\\Lib\\site-packages\\graphein\\protein\\edges\\distance.py:1213: FutureWarning: The default value of numeric_only in DataFrameGroupBy.mean is deprecated. In a future version, numeric_only will default to False. Either specify numeric_only or select only columns which should be valid for the function.\n",
      "  .mean()[[\"x_coord\", \"y_coord\", \"z_coord\"]]\n",
      "c:\\Users\\Fofinha\\anaconda3\\Lib\\site-packages\\graphein\\protein\\edges\\distance.py:1213: FutureWarning: The default value of numeric_only in DataFrameGroupBy.mean is deprecated. In a future version, numeric_only will default to False. Either specify numeric_only or select only columns which should be valid for the function.\n",
      "  .mean()[[\"x_coord\", \"y_coord\", \"z_coord\"]]\n",
      "c:\\Users\\Fofinha\\anaconda3\\Lib\\site-packages\\graphein\\protein\\edges\\distance.py:1213: FutureWarning: The default value of numeric_only in DataFrameGroupBy.mean is deprecated. In a future version, numeric_only will default to False. Either specify numeric_only or select only columns which should be valid for the function.\n",
      "  .mean()[[\"x_coord\", \"y_coord\", \"z_coord\"]]\n"
     ]
    },
    {
     "data": {
      "text/html": [
       "<pre style=\"white-space:pre;overflow-x:auto;line-height:normal;font-family:Menlo,'DejaVu Sans Mono',consolas,'Courier New',monospace\"><span style=\"color: #7fbfbf; text-decoration-color: #7fbfbf\">                    </span><span style=\"color: #000080; text-decoration-color: #000080\">INFO    </span> Found: <span style=\"color: #008080; text-decoration-color: #008080; font-weight: bold\">8</span> aromatic-aromatic interactions          <a href=\"file://c:\\Users\\Fofinha\\anaconda3\\Lib\\site-packages\\graphein\\protein\\edges\\distance.py\"><span style=\"color: #7f7f7f; text-decoration-color: #7f7f7f\">distance.py</span></a><span style=\"color: #7f7f7f; text-decoration-color: #7f7f7f\">:467</span>\n",
       "</pre>\n"
      ],
      "text/plain": [
       "\u001b[2;36m                   \u001b[0m\u001b[2;36m \u001b[0m\u001b[34mINFO    \u001b[0m Found: \u001b[1;36m8\u001b[0m aromatic-aromatic interactions          \u001b]8;id=887538;file://c:\\Users\\Fofinha\\anaconda3\\Lib\\site-packages\\graphein\\protein\\edges\\distance.py\u001b\\\u001b[2mdistance.py\u001b[0m\u001b]8;;\u001b\\\u001b[2m:467\u001b[0m\n"
      ]
     },
     "metadata": {},
     "output_type": "display_data"
    },
    {
     "data": {
      "text/html": [
       "<pre style=\"white-space:pre;overflow-x:auto;line-height:normal;font-family:Menlo,'DejaVu Sans Mono',consolas,'Courier New',monospace\"><span style=\"color: #7fbfbf; text-decoration-color: #7fbfbf\">                    </span><span style=\"color: #000080; text-decoration-color: #000080\">INFO    </span> Found <span style=\"color: #008080; text-decoration-color: #008080; font-weight: bold\">35</span> hbond interactions.                    <a href=\"file://c:\\Users\\Fofinha\\anaconda3\\Lib\\site-packages\\graphein\\protein\\edges\\distance.py\"><span style=\"color: #7f7f7f; text-decoration-color: #7f7f7f\">distance.py</span></a><span style=\"color: #7f7f7f; text-decoration-color: #7f7f7f\">:1344</span>\n",
       "</pre>\n"
      ],
      "text/plain": [
       "\u001b[2;36m                   \u001b[0m\u001b[2;36m \u001b[0m\u001b[34mINFO    \u001b[0m Found \u001b[1;36m35\u001b[0m hbond interactions.                    \u001b]8;id=192696;file://c:\\Users\\Fofinha\\anaconda3\\Lib\\site-packages\\graphein\\protein\\edges\\distance.py\u001b\\\u001b[2mdistance.py\u001b[0m\u001b]8;;\u001b\\\u001b[2m:1344\u001b[0m\n"
      ]
     },
     "metadata": {},
     "output_type": "display_data"
    },
    {
     "data": {
      "text/html": [
       "<pre style=\"white-space:pre;overflow-x:auto;line-height:normal;font-family:Menlo,'DejaVu Sans Mono',consolas,'Courier New',monospace\"><span style=\"color: #7fbfbf; text-decoration-color: #7fbfbf\">                    </span><span style=\"color: #000080; text-decoration-color: #000080\">INFO    </span> Found <span style=\"color: #008080; text-decoration-color: #008080; font-weight: bold\">5</span> hbond interactions.                     <a href=\"file://c:\\Users\\Fofinha\\anaconda3\\Lib\\site-packages\\graphein\\protein\\edges\\distance.py\"><span style=\"color: #7f7f7f; text-decoration-color: #7f7f7f\">distance.py</span></a><span style=\"color: #7f7f7f; text-decoration-color: #7f7f7f\">:1344</span>\n",
       "</pre>\n"
      ],
      "text/plain": [
       "\u001b[2;36m                   \u001b[0m\u001b[2;36m \u001b[0m\u001b[34mINFO    \u001b[0m Found \u001b[1;36m5\u001b[0m hbond interactions.                     \u001b]8;id=154820;file://c:\\Users\\Fofinha\\anaconda3\\Lib\\site-packages\\graphein\\protein\\edges\\distance.py\u001b\\\u001b[2mdistance.py\u001b[0m\u001b]8;;\u001b\\\u001b[2m:1344\u001b[0m\n"
      ]
     },
     "metadata": {},
     "output_type": "display_data"
    },
    {
     "data": {
      "text/html": [
       "<pre style=\"white-space:pre;overflow-x:auto;line-height:normal;font-family:Menlo,'DejaVu Sans Mono',consolas,'Courier New',monospace\"><span style=\"color: #7fbfbf; text-decoration-color: #7fbfbf\">                    </span><span style=\"color: #008000; text-decoration-color: #008000\">DEBUG   </span> <span style=\"color: #008080; text-decoration-color: #008080; font-weight: bold\">1</span> CYS residues found. Cannot add disulfide       <a href=\"file://c:\\Users\\Fofinha\\anaconda3\\Lib\\site-packages\\graphein\\protein\\edges\\distance.py\"><span style=\"color: #7f7f7f; text-decoration-color: #7f7f7f\">distance.py</span></a><span style=\"color: #7f7f7f; text-decoration-color: #7f7f7f\">:310</span>\n",
       "                             interactions with fewer than two CYS residues.                  \n",
       "</pre>\n"
      ],
      "text/plain": [
       "\u001b[2;36m                   \u001b[0m\u001b[2;36m \u001b[0m\u001b[32mDEBUG   \u001b[0m \u001b[1;36m1\u001b[0m CYS residues found. Cannot add disulfide       \u001b]8;id=68101;file://c:\\Users\\Fofinha\\anaconda3\\Lib\\site-packages\\graphein\\protein\\edges\\distance.py\u001b\\\u001b[2mdistance.py\u001b[0m\u001b]8;;\u001b\\\u001b[2m:310\u001b[0m\n",
       "                             interactions with fewer than two CYS residues.                  \n"
      ]
     },
     "metadata": {},
     "output_type": "display_data"
    },
    {
     "data": {
      "text/html": [
       "<pre style=\"white-space:pre;overflow-x:auto;line-height:normal;font-family:Menlo,'DejaVu Sans Mono',consolas,'Courier New',monospace\"><span style=\"color: #7fbfbf; text-decoration-color: #7fbfbf\">                    </span><span style=\"color: #000080; text-decoration-color: #000080\">INFO    </span> Found <span style=\"color: #008080; text-decoration-color: #008080; font-weight: bold\">707</span> ionic interactions.                   <a href=\"file://c:\\Users\\Fofinha\\anaconda3\\Lib\\site-packages\\graphein\\protein\\edges\\distance.py\"><span style=\"color: #7f7f7f; text-decoration-color: #7f7f7f\">distance.py</span></a><span style=\"color: #7f7f7f; text-decoration-color: #7f7f7f\">:1344</span>\n",
       "</pre>\n"
      ],
      "text/plain": [
       "\u001b[2;36m                   \u001b[0m\u001b[2;36m \u001b[0m\u001b[34mINFO    \u001b[0m Found \u001b[1;36m707\u001b[0m ionic interactions.                   \u001b]8;id=229070;file://c:\\Users\\Fofinha\\anaconda3\\Lib\\site-packages\\graphein\\protein\\edges\\distance.py\u001b\\\u001b[2mdistance.py\u001b[0m\u001b]8;;\u001b\\\u001b[2m:1344\u001b[0m\n"
      ]
     },
     "metadata": {},
     "output_type": "display_data"
    },
    {
     "data": {
      "text/html": [
       "<pre style=\"white-space:pre;overflow-x:auto;line-height:normal;font-family:Menlo,'DejaVu Sans Mono',consolas,'Courier New',monospace\"><span style=\"color: #7fbfbf; text-decoration-color: #7fbfbf\">                    </span><span style=\"color: #000080; text-decoration-color: #000080\">INFO    </span> Found <span style=\"color: #008080; text-decoration-color: #008080; font-weight: bold\">815</span> vdw interactions.                     <a href=\"file://c:\\Users\\Fofinha\\anaconda3\\Lib\\site-packages\\graphein\\protein\\edges\\distance.py\"><span style=\"color: #7f7f7f; text-decoration-color: #7f7f7f\">distance.py</span></a><span style=\"color: #7f7f7f; text-decoration-color: #7f7f7f\">:1344</span>\n",
       "</pre>\n"
      ],
      "text/plain": [
       "\u001b[2;36m                   \u001b[0m\u001b[2;36m \u001b[0m\u001b[34mINFO    \u001b[0m Found \u001b[1;36m815\u001b[0m vdw interactions.                     \u001b]8;id=844255;file://c:\\Users\\Fofinha\\anaconda3\\Lib\\site-packages\\graphein\\protein\\edges\\distance.py\u001b\\\u001b[2mdistance.py\u001b[0m\u001b]8;;\u001b\\\u001b[2m:1344\u001b[0m\n"
      ]
     },
     "metadata": {},
     "output_type": "display_data"
    },
    {
     "data": {
      "text/html": [
       "<pre style=\"white-space:pre;overflow-x:auto;line-height:normal;font-family:Menlo,'DejaVu Sans Mono',consolas,'Courier New',monospace\"><span style=\"color: #7fbfbf; text-decoration-color: #7fbfbf\">                    </span><span style=\"color: #000080; text-decoration-color: #000080\">INFO    </span> Found <span style=\"color: #008080; text-decoration-color: #008080; font-weight: bold\">76</span> bb_carbonyl_carbonyl interactions.     <a href=\"file://c:\\Users\\Fofinha\\anaconda3\\Lib\\site-packages\\graphein\\protein\\edges\\distance.py\"><span style=\"color: #7f7f7f; text-decoration-color: #7f7f7f\">distance.py</span></a><span style=\"color: #7f7f7f; text-decoration-color: #7f7f7f\">:1344</span>\n",
       "</pre>\n"
      ],
      "text/plain": [
       "\u001b[2;36m                   \u001b[0m\u001b[2;36m \u001b[0m\u001b[34mINFO    \u001b[0m Found \u001b[1;36m76\u001b[0m bb_carbonyl_carbonyl interactions.     \u001b]8;id=392999;file://c:\\Users\\Fofinha\\anaconda3\\Lib\\site-packages\\graphein\\protein\\edges\\distance.py\u001b\\\u001b[2mdistance.py\u001b[0m\u001b]8;;\u001b\\\u001b[2m:1344\u001b[0m\n"
      ]
     },
     "metadata": {},
     "output_type": "display_data"
    },
    {
     "data": {
      "text/html": [
       "<pre style=\"white-space:pre;overflow-x:auto;line-height:normal;font-family:Menlo,'DejaVu Sans Mono',consolas,'Courier New',monospace\"><span style=\"color: #7fbfbf; text-decoration-color: #7fbfbf\">                    </span><span style=\"color: #000080; text-decoration-color: #000080\">INFO    </span> Found <span style=\"color: #008080; text-decoration-color: #008080; font-weight: bold\">21</span> salt_bridge interactions.              <a href=\"file://c:\\Users\\Fofinha\\anaconda3\\Lib\\site-packages\\graphein\\protein\\edges\\distance.py\"><span style=\"color: #7f7f7f; text-decoration-color: #7f7f7f\">distance.py</span></a><span style=\"color: #7f7f7f; text-decoration-color: #7f7f7f\">:1344</span>\n",
       "</pre>\n"
      ],
      "text/plain": [
       "\u001b[2;36m                   \u001b[0m\u001b[2;36m \u001b[0m\u001b[34mINFO    \u001b[0m Found \u001b[1;36m21\u001b[0m salt_bridge interactions.              \u001b]8;id=501988;file://c:\\Users\\Fofinha\\anaconda3\\Lib\\site-packages\\graphein\\protein\\edges\\distance.py\u001b\\\u001b[2mdistance.py\u001b[0m\u001b]8;;\u001b\\\u001b[2m:1344\u001b[0m\n"
      ]
     },
     "metadata": {},
     "output_type": "display_data"
    },
    {
     "data": {
      "text/html": [
       "<pre style=\"white-space:pre;overflow-x:auto;line-height:normal;font-family:Menlo,'DejaVu Sans Mono',consolas,'Courier New',monospace\"><span style=\"color: #7fbfbf; text-decoration-color: #7fbfbf\">                    </span><span style=\"color: #000080; text-decoration-color: #000080\">INFO    </span> Found: <span style=\"color: #008080; text-decoration-color: #008080; font-weight: bold\">327</span> distance edges                        <a href=\"file://c:\\Users\\Fofinha\\anaconda3\\Lib\\site-packages\\graphein\\protein\\edges\\distance.py\"><span style=\"color: #7f7f7f; text-decoration-color: #7f7f7f\">distance.py</span></a><span style=\"color: #7f7f7f; text-decoration-color: #7f7f7f\">:964</span>\n",
       "</pre>\n"
      ],
      "text/plain": [
       "\u001b[2;36m                   \u001b[0m\u001b[2;36m \u001b[0m\u001b[34mINFO    \u001b[0m Found: \u001b[1;36m327\u001b[0m distance edges                        \u001b]8;id=487364;file://c:\\Users\\Fofinha\\anaconda3\\Lib\\site-packages\\graphein\\protein\\edges\\distance.py\u001b\\\u001b[2mdistance.py\u001b[0m\u001b]8;;\u001b\\\u001b[2m:964\u001b[0m\n"
      ]
     },
     "metadata": {},
     "output_type": "display_data"
    },
    {
     "data": {
      "text/html": [
       "<pre style=\"white-space:pre;overflow-x:auto;line-height:normal;font-family:Menlo,'DejaVu Sans Mono',consolas,'Courier New',monospace\"><span style=\"color: #7fbfbf; text-decoration-color: #7fbfbf\">                    </span><span style=\"color: #000080; text-decoration-color: #000080\">INFO    </span> Added <span style=\"color: #008080; text-decoration-color: #008080; font-weight: bold\">2</span> distance edges. <span style=\"font-weight: bold\">(</span><span style=\"color: #008080; text-decoration-color: #008080; font-weight: bold\">325</span>            removed  <a href=\"file://c:\\Users\\Fofinha\\anaconda3\\Lib\\site-packages\\graphein\\protein\\edges\\distance.py\"><span style=\"color: #7f7f7f; text-decoration-color: #7f7f7f\">distance.py</span></a><span style=\"color: #7f7f7f; text-decoration-color: #7f7f7f\">:983</span>\n",
       "                             by LIN<span style=\"font-weight: bold\">)</span>                                                         \n",
       "</pre>\n"
      ],
      "text/plain": [
       "\u001b[2;36m                   \u001b[0m\u001b[2;36m \u001b[0m\u001b[34mINFO    \u001b[0m Added \u001b[1;36m2\u001b[0m distance edges. \u001b[1m(\u001b[0m\u001b[1;36m325\u001b[0m            removed  \u001b]8;id=142642;file://c:\\Users\\Fofinha\\anaconda3\\Lib\\site-packages\\graphein\\protein\\edges\\distance.py\u001b\\\u001b[2mdistance.py\u001b[0m\u001b]8;;\u001b\\\u001b[2m:983\u001b[0m\n",
       "                             by LIN\u001b[1m)\u001b[0m                                                         \n"
      ]
     },
     "metadata": {},
     "output_type": "display_data"
    },
    {
     "data": {
      "text/html": [
       "<pre style=\"white-space:pre;overflow-x:auto;line-height:normal;font-family:Menlo,'DejaVu Sans Mono',consolas,'Courier New',monospace\"></pre>\n"
      ],
      "text/plain": []
     },
     "metadata": {},
     "output_type": "display_data"
    },
    {
     "name": "stdout",
     "output_type": "stream",
     "text": [
      "<src.propythia.protein.structure.Graph object at 0x00000207EF7B4090>\n",
      "P02754\n"
     ]
    },
    {
     "data": {
      "text/html": [
       "<pre style=\"white-space:pre;overflow-x:auto;line-height:normal;font-family:Menlo,'DejaVu Sans Mono',consolas,'Courier New',monospace\"><span style=\"color: #7fbfbf; text-decoration-color: #7fbfbf\">[11/06/24 16:07:13] </span><span style=\"color: #000080; text-decoration-color: #000080\">INFO    </span> Downloaded AlphaFold PDB file for: P02754           <a href=\"file://c:\\Users\\Fofinha\\anaconda3\\Lib\\site-packages\\graphein\\protein\\utils.py\"><span style=\"color: #7f7f7f; text-decoration-color: #7f7f7f\">utils.py</span></a><span style=\"color: #7f7f7f; text-decoration-color: #7f7f7f\">:349</span>\n",
       "</pre>\n"
      ],
      "text/plain": [
       "\u001b[2;36m[11/06/24 16:07:13]\u001b[0m\u001b[2;36m \u001b[0m\u001b[34mINFO    \u001b[0m Downloaded AlphaFold PDB file for: P02754           \u001b]8;id=156922;file://c:\\Users\\Fofinha\\anaconda3\\Lib\\site-packages\\graphein\\protein\\utils.py\u001b\\\u001b[2mutils.py\u001b[0m\u001b]8;;\u001b\\\u001b[2m:349\u001b[0m\n"
      ]
     },
     "metadata": {},
     "output_type": "display_data"
    },
    {
     "name": "stdout",
     "output_type": "stream",
     "text": [
      "AlphaFold file downloaded: C:\\Users\\Fofinha\\Desktop\\UNI\\MESTRADO\\propythia\\pdb_files\\P02754.pdb\n"
     ]
    },
    {
     "data": {
      "application/vnd.jupyter.widget-view+json": {
       "model_id": "8e430521a2bc48e2a242f18977ff593f",
       "version_major": 2,
       "version_minor": 0
      },
      "text/plain": [
       "Output()"
      ]
     },
     "metadata": {},
     "output_type": "display_data"
    },
    {
     "data": {
      "text/html": [
       "<pre style=\"white-space:pre;overflow-x:auto;line-height:normal;font-family:Menlo,'DejaVu Sans Mono',consolas,'Courier New',monospace\"><span style=\"color: #7fbfbf; text-decoration-color: #7fbfbf\">                    </span><span style=\"color: #008000; text-decoration-color: #008000\">DEBUG   </span> Deprotonating protein. This removes H atoms from   <a href=\"file://c:\\Users\\Fofinha\\anaconda3\\Lib\\site-packages\\graphein\\protein\\graphs.py\"><span style=\"color: #7f7f7f; text-decoration-color: #7f7f7f\">graphs.py</span></a><span style=\"color: #7f7f7f; text-decoration-color: #7f7f7f\">:188</span>\n",
       "                             the pdb_df dataframe                                            \n",
       "</pre>\n"
      ],
      "text/plain": [
       "\u001b[2;36m                   \u001b[0m\u001b[2;36m \u001b[0m\u001b[32mDEBUG   \u001b[0m Deprotonating protein. This removes H atoms from   \u001b]8;id=775790;file://c:\\Users\\Fofinha\\anaconda3\\Lib\\site-packages\\graphein\\protein\\graphs.py\u001b\\\u001b[2mgraphs.py\u001b[0m\u001b]8;;\u001b\\\u001b[2m:188\u001b[0m\n",
       "                             the pdb_df dataframe                                            \n"
      ]
     },
     "metadata": {},
     "output_type": "display_data"
    },
    {
     "data": {
      "text/html": [
       "<pre style=\"white-space:pre;overflow-x:auto;line-height:normal;font-family:Menlo,'DejaVu Sans Mono',consolas,'Courier New',monospace\"><span style=\"color: #7fbfbf; text-decoration-color: #7fbfbf\">                    </span><span style=\"color: #008000; text-decoration-color: #008000\">DEBUG   </span> Detected <span style=\"color: #008080; text-decoration-color: #008080; font-weight: bold\">178</span> total nodes                           <a href=\"file://c:\\Users\\Fofinha\\anaconda3\\Lib\\site-packages\\graphein\\protein\\graphs.py\"><span style=\"color: #7f7f7f; text-decoration-color: #7f7f7f\">graphs.py</span></a><span style=\"color: #7f7f7f; text-decoration-color: #7f7f7f\">:435</span>\n",
       "</pre>\n"
      ],
      "text/plain": [
       "\u001b[2;36m                   \u001b[0m\u001b[2;36m \u001b[0m\u001b[32mDEBUG   \u001b[0m Detected \u001b[1;36m178\u001b[0m total nodes                           \u001b]8;id=23535;file://c:\\Users\\Fofinha\\anaconda3\\Lib\\site-packages\\graphein\\protein\\graphs.py\u001b\\\u001b[2mgraphs.py\u001b[0m\u001b]8;;\u001b\\\u001b[2m:435\u001b[0m\n"
      ]
     },
     "metadata": {},
     "output_type": "display_data"
    },
    {
     "name": "stderr",
     "output_type": "stream",
     "text": [
      "c:\\Users\\Fofinha\\anaconda3\\Lib\\site-packages\\graphein\\protein\\edges\\distance.py:1213: FutureWarning: The default value of numeric_only in DataFrameGroupBy.mean is deprecated. In a future version, numeric_only will default to False. Either specify numeric_only or select only columns which should be valid for the function.\n",
      "  .mean()[[\"x_coord\", \"y_coord\", \"z_coord\"]]\n",
      "c:\\Users\\Fofinha\\anaconda3\\Lib\\site-packages\\graphein\\protein\\edges\\distance.py:1213: FutureWarning: The default value of numeric_only in DataFrameGroupBy.mean is deprecated. In a future version, numeric_only will default to False. Either specify numeric_only or select only columns which should be valid for the function.\n",
      "  .mean()[[\"x_coord\", \"y_coord\", \"z_coord\"]]\n",
      "c:\\Users\\Fofinha\\anaconda3\\Lib\\site-packages\\graphein\\protein\\edges\\distance.py:1213: FutureWarning: The default value of numeric_only in DataFrameGroupBy.mean is deprecated. In a future version, numeric_only will default to False. Either specify numeric_only or select only columns which should be valid for the function.\n",
      "  .mean()[[\"x_coord\", \"y_coord\", \"z_coord\"]]\n",
      "c:\\Users\\Fofinha\\anaconda3\\Lib\\site-packages\\graphein\\protein\\edges\\distance.py:1213: FutureWarning: The default value of numeric_only in DataFrameGroupBy.mean is deprecated. In a future version, numeric_only will default to False. Either specify numeric_only or select only columns which should be valid for the function.\n",
      "  .mean()[[\"x_coord\", \"y_coord\", \"z_coord\"]]\n"
     ]
    },
    {
     "data": {
      "text/html": [
       "<pre style=\"white-space:pre;overflow-x:auto;line-height:normal;font-family:Menlo,'DejaVu Sans Mono',consolas,'Courier New',monospace\"><span style=\"color: #7fbfbf; text-decoration-color: #7fbfbf\">                    </span><span style=\"color: #000080; text-decoration-color: #000080\">INFO    </span> Found: <span style=\"color: #008080; text-decoration-color: #008080; font-weight: bold\">2</span> aromatic-aromatic interactions          <a href=\"file://c:\\Users\\Fofinha\\anaconda3\\Lib\\site-packages\\graphein\\protein\\edges\\distance.py\"><span style=\"color: #7f7f7f; text-decoration-color: #7f7f7f\">distance.py</span></a><span style=\"color: #7f7f7f; text-decoration-color: #7f7f7f\">:467</span>\n",
       "</pre>\n"
      ],
      "text/plain": [
       "\u001b[2;36m                   \u001b[0m\u001b[2;36m \u001b[0m\u001b[34mINFO    \u001b[0m Found: \u001b[1;36m2\u001b[0m aromatic-aromatic interactions          \u001b]8;id=789347;file://c:\\Users\\Fofinha\\anaconda3\\Lib\\site-packages\\graphein\\protein\\edges\\distance.py\u001b\\\u001b[2mdistance.py\u001b[0m\u001b]8;;\u001b\\\u001b[2m:467\u001b[0m\n"
      ]
     },
     "metadata": {},
     "output_type": "display_data"
    },
    {
     "data": {
      "text/html": [
       "<pre style=\"white-space:pre;overflow-x:auto;line-height:normal;font-family:Menlo,'DejaVu Sans Mono',consolas,'Courier New',monospace\"><span style=\"color: #7fbfbf; text-decoration-color: #7fbfbf\">                    </span><span style=\"color: #000080; text-decoration-color: #000080\">INFO    </span> Found <span style=\"color: #008080; text-decoration-color: #008080; font-weight: bold\">75</span> hbond interactions.                    <a href=\"file://c:\\Users\\Fofinha\\anaconda3\\Lib\\site-packages\\graphein\\protein\\edges\\distance.py\"><span style=\"color: #7f7f7f; text-decoration-color: #7f7f7f\">distance.py</span></a><span style=\"color: #7f7f7f; text-decoration-color: #7f7f7f\">:1344</span>\n",
       "</pre>\n"
      ],
      "text/plain": [
       "\u001b[2;36m                   \u001b[0m\u001b[2;36m \u001b[0m\u001b[34mINFO    \u001b[0m Found \u001b[1;36m75\u001b[0m hbond interactions.                    \u001b]8;id=191914;file://c:\\Users\\Fofinha\\anaconda3\\Lib\\site-packages\\graphein\\protein\\edges\\distance.py\u001b\\\u001b[2mdistance.py\u001b[0m\u001b]8;;\u001b\\\u001b[2m:1344\u001b[0m\n"
      ]
     },
     "metadata": {},
     "output_type": "display_data"
    },
    {
     "data": {
      "text/html": [
       "<pre style=\"white-space:pre;overflow-x:auto;line-height:normal;font-family:Menlo,'DejaVu Sans Mono',consolas,'Courier New',monospace\"><span style=\"color: #7fbfbf; text-decoration-color: #7fbfbf\">                    </span><span style=\"color: #000080; text-decoration-color: #000080\">INFO    </span> Found <span style=\"color: #008080; text-decoration-color: #008080; font-weight: bold\">16</span> hbond interactions.                    <a href=\"file://c:\\Users\\Fofinha\\anaconda3\\Lib\\site-packages\\graphein\\protein\\edges\\distance.py\"><span style=\"color: #7f7f7f; text-decoration-color: #7f7f7f\">distance.py</span></a><span style=\"color: #7f7f7f; text-decoration-color: #7f7f7f\">:1344</span>\n",
       "</pre>\n"
      ],
      "text/plain": [
       "\u001b[2;36m                   \u001b[0m\u001b[2;36m \u001b[0m\u001b[34mINFO    \u001b[0m Found \u001b[1;36m16\u001b[0m hbond interactions.                    \u001b]8;id=628569;file://c:\\Users\\Fofinha\\anaconda3\\Lib\\site-packages\\graphein\\protein\\edges\\distance.py\u001b\\\u001b[2mdistance.py\u001b[0m\u001b]8;;\u001b\\\u001b[2m:1344\u001b[0m\n"
      ]
     },
     "metadata": {},
     "output_type": "display_data"
    },
    {
     "data": {
      "text/html": [
       "<pre style=\"white-space:pre;overflow-x:auto;line-height:normal;font-family:Menlo,'DejaVu Sans Mono',consolas,'Courier New',monospace\"><span style=\"color: #7fbfbf; text-decoration-color: #7fbfbf\">                    </span><span style=\"color: #000080; text-decoration-color: #000080\">INFO    </span> Found <span style=\"color: #008080; text-decoration-color: #008080; font-weight: bold\">11</span> disulfide interactions.                <a href=\"file://c:\\Users\\Fofinha\\anaconda3\\Lib\\site-packages\\graphein\\protein\\edges\\distance.py\"><span style=\"color: #7f7f7f; text-decoration-color: #7f7f7f\">distance.py</span></a><span style=\"color: #7f7f7f; text-decoration-color: #7f7f7f\">:1344</span>\n",
       "</pre>\n"
      ],
      "text/plain": [
       "\u001b[2;36m                   \u001b[0m\u001b[2;36m \u001b[0m\u001b[34mINFO    \u001b[0m Found \u001b[1;36m11\u001b[0m disulfide interactions.                \u001b]8;id=847237;file://c:\\Users\\Fofinha\\anaconda3\\Lib\\site-packages\\graphein\\protein\\edges\\distance.py\u001b\\\u001b[2mdistance.py\u001b[0m\u001b]8;;\u001b\\\u001b[2m:1344\u001b[0m\n"
      ]
     },
     "metadata": {},
     "output_type": "display_data"
    },
    {
     "data": {
      "text/html": [
       "<pre style=\"white-space:pre;overflow-x:auto;line-height:normal;font-family:Menlo,'DejaVu Sans Mono',consolas,'Courier New',monospace\"><span style=\"color: #7fbfbf; text-decoration-color: #7fbfbf\">                    </span><span style=\"color: #000080; text-decoration-color: #000080\">INFO    </span> Found <span style=\"color: #008080; text-decoration-color: #008080; font-weight: bold\">1403</span> ionic interactions.                  <a href=\"file://c:\\Users\\Fofinha\\anaconda3\\Lib\\site-packages\\graphein\\protein\\edges\\distance.py\"><span style=\"color: #7f7f7f; text-decoration-color: #7f7f7f\">distance.py</span></a><span style=\"color: #7f7f7f; text-decoration-color: #7f7f7f\">:1344</span>\n",
       "</pre>\n"
      ],
      "text/plain": [
       "\u001b[2;36m                   \u001b[0m\u001b[2;36m \u001b[0m\u001b[34mINFO    \u001b[0m Found \u001b[1;36m1403\u001b[0m ionic interactions.                  \u001b]8;id=282988;file://c:\\Users\\Fofinha\\anaconda3\\Lib\\site-packages\\graphein\\protein\\edges\\distance.py\u001b\\\u001b[2mdistance.py\u001b[0m\u001b]8;;\u001b\\\u001b[2m:1344\u001b[0m\n"
      ]
     },
     "metadata": {},
     "output_type": "display_data"
    },
    {
     "data": {
      "text/html": [
       "<pre style=\"white-space:pre;overflow-x:auto;line-height:normal;font-family:Menlo,'DejaVu Sans Mono',consolas,'Courier New',monospace\"><span style=\"color: #7fbfbf; text-decoration-color: #7fbfbf\">                    </span><span style=\"color: #000080; text-decoration-color: #000080\">INFO    </span> Found <span style=\"color: #008080; text-decoration-color: #008080; font-weight: bold\">388</span> hydrophobic interactions.             <a href=\"file://c:\\Users\\Fofinha\\anaconda3\\Lib\\site-packages\\graphein\\protein\\edges\\distance.py\"><span style=\"color: #7f7f7f; text-decoration-color: #7f7f7f\">distance.py</span></a><span style=\"color: #7f7f7f; text-decoration-color: #7f7f7f\">:1344</span>\n",
       "</pre>\n"
      ],
      "text/plain": [
       "\u001b[2;36m                   \u001b[0m\u001b[2;36m \u001b[0m\u001b[34mINFO    \u001b[0m Found \u001b[1;36m388\u001b[0m hydrophobic interactions.             \u001b]8;id=55339;file://c:\\Users\\Fofinha\\anaconda3\\Lib\\site-packages\\graphein\\protein\\edges\\distance.py\u001b\\\u001b[2mdistance.py\u001b[0m\u001b]8;;\u001b\\\u001b[2m:1344\u001b[0m\n"
      ]
     },
     "metadata": {},
     "output_type": "display_data"
    },
    {
     "data": {
      "text/html": [
       "<pre style=\"white-space:pre;overflow-x:auto;line-height:normal;font-family:Menlo,'DejaVu Sans Mono',consolas,'Courier New',monospace\"><span style=\"color: #7fbfbf; text-decoration-color: #7fbfbf\">                    </span><span style=\"color: #000080; text-decoration-color: #000080\">INFO    </span> Found <span style=\"color: #008080; text-decoration-color: #008080; font-weight: bold\">1340</span> vdw interactions.                    <a href=\"file://c:\\Users\\Fofinha\\anaconda3\\Lib\\site-packages\\graphein\\protein\\edges\\distance.py\"><span style=\"color: #7f7f7f; text-decoration-color: #7f7f7f\">distance.py</span></a><span style=\"color: #7f7f7f; text-decoration-color: #7f7f7f\">:1344</span>\n",
       "</pre>\n"
      ],
      "text/plain": [
       "\u001b[2;36m                   \u001b[0m\u001b[2;36m \u001b[0m\u001b[34mINFO    \u001b[0m Found \u001b[1;36m1340\u001b[0m vdw interactions.                    \u001b]8;id=284996;file://c:\\Users\\Fofinha\\anaconda3\\Lib\\site-packages\\graphein\\protein\\edges\\distance.py\u001b\\\u001b[2mdistance.py\u001b[0m\u001b]8;;\u001b\\\u001b[2m:1344\u001b[0m\n"
      ]
     },
     "metadata": {},
     "output_type": "display_data"
    },
    {
     "data": {
      "text/html": [
       "<pre style=\"white-space:pre;overflow-x:auto;line-height:normal;font-family:Menlo,'DejaVu Sans Mono',consolas,'Courier New',monospace\"><span style=\"color: #7fbfbf; text-decoration-color: #7fbfbf\">                    </span><span style=\"color: #000080; text-decoration-color: #000080\">INFO    </span> Found <span style=\"color: #008080; text-decoration-color: #008080; font-weight: bold\">102</span> bb_carbonyl_carbonyl interactions.    <a href=\"file://c:\\Users\\Fofinha\\anaconda3\\Lib\\site-packages\\graphein\\protein\\edges\\distance.py\"><span style=\"color: #7f7f7f; text-decoration-color: #7f7f7f\">distance.py</span></a><span style=\"color: #7f7f7f; text-decoration-color: #7f7f7f\">:1344</span>\n",
       "</pre>\n"
      ],
      "text/plain": [
       "\u001b[2;36m                   \u001b[0m\u001b[2;36m \u001b[0m\u001b[34mINFO    \u001b[0m Found \u001b[1;36m102\u001b[0m bb_carbonyl_carbonyl interactions.    \u001b]8;id=18148;file://c:\\Users\\Fofinha\\anaconda3\\Lib\\site-packages\\graphein\\protein\\edges\\distance.py\u001b\\\u001b[2mdistance.py\u001b[0m\u001b]8;;\u001b\\\u001b[2m:1344\u001b[0m\n"
      ]
     },
     "metadata": {},
     "output_type": "display_data"
    },
    {
     "data": {
      "text/html": [
       "<pre style=\"white-space:pre;overflow-x:auto;line-height:normal;font-family:Menlo,'DejaVu Sans Mono',consolas,'Courier New',monospace\"><span style=\"color: #7fbfbf; text-decoration-color: #7fbfbf\">                    </span><span style=\"color: #000080; text-decoration-color: #000080\">INFO    </span> Found <span style=\"color: #008080; text-decoration-color: #008080; font-weight: bold\">61</span> salt_bridge interactions.              <a href=\"file://c:\\Users\\Fofinha\\anaconda3\\Lib\\site-packages\\graphein\\protein\\edges\\distance.py\"><span style=\"color: #7f7f7f; text-decoration-color: #7f7f7f\">distance.py</span></a><span style=\"color: #7f7f7f; text-decoration-color: #7f7f7f\">:1344</span>\n",
       "</pre>\n"
      ],
      "text/plain": [
       "\u001b[2;36m                   \u001b[0m\u001b[2;36m \u001b[0m\u001b[34mINFO    \u001b[0m Found \u001b[1;36m61\u001b[0m salt_bridge interactions.              \u001b]8;id=467298;file://c:\\Users\\Fofinha\\anaconda3\\Lib\\site-packages\\graphein\\protein\\edges\\distance.py\u001b\\\u001b[2mdistance.py\u001b[0m\u001b]8;;\u001b\\\u001b[2m:1344\u001b[0m\n"
      ]
     },
     "metadata": {},
     "output_type": "display_data"
    },
    {
     "data": {
      "text/html": [
       "<pre style=\"white-space:pre;overflow-x:auto;line-height:normal;font-family:Menlo,'DejaVu Sans Mono',consolas,'Courier New',monospace\"><span style=\"color: #7fbfbf; text-decoration-color: #7fbfbf\">                    </span><span style=\"color: #000080; text-decoration-color: #000080\">INFO    </span> Found: <span style=\"color: #008080; text-decoration-color: #008080; font-weight: bold\">534</span> distance edges                        <a href=\"file://c:\\Users\\Fofinha\\anaconda3\\Lib\\site-packages\\graphein\\protein\\edges\\distance.py\"><span style=\"color: #7f7f7f; text-decoration-color: #7f7f7f\">distance.py</span></a><span style=\"color: #7f7f7f; text-decoration-color: #7f7f7f\">:964</span>\n",
       "</pre>\n"
      ],
      "text/plain": [
       "\u001b[2;36m                   \u001b[0m\u001b[2;36m \u001b[0m\u001b[34mINFO    \u001b[0m Found: \u001b[1;36m534\u001b[0m distance edges                        \u001b]8;id=808786;file://c:\\Users\\Fofinha\\anaconda3\\Lib\\site-packages\\graphein\\protein\\edges\\distance.py\u001b\\\u001b[2mdistance.py\u001b[0m\u001b]8;;\u001b\\\u001b[2m:964\u001b[0m\n"
      ]
     },
     "metadata": {},
     "output_type": "display_data"
    },
    {
     "data": {
      "text/html": [
       "<pre style=\"white-space:pre;overflow-x:auto;line-height:normal;font-family:Menlo,'DejaVu Sans Mono',consolas,'Courier New',monospace\"><span style=\"color: #7fbfbf; text-decoration-color: #7fbfbf\">                    </span><span style=\"color: #000080; text-decoration-color: #000080\">INFO    </span> Added <span style=\"color: #008080; text-decoration-color: #008080; font-weight: bold\">2</span> distance edges. <span style=\"font-weight: bold\">(</span><span style=\"color: #008080; text-decoration-color: #008080; font-weight: bold\">532</span>            removed  <a href=\"file://c:\\Users\\Fofinha\\anaconda3\\Lib\\site-packages\\graphein\\protein\\edges\\distance.py\"><span style=\"color: #7f7f7f; text-decoration-color: #7f7f7f\">distance.py</span></a><span style=\"color: #7f7f7f; text-decoration-color: #7f7f7f\">:983</span>\n",
       "                             by LIN<span style=\"font-weight: bold\">)</span>                                                         \n",
       "</pre>\n"
      ],
      "text/plain": [
       "\u001b[2;36m                   \u001b[0m\u001b[2;36m \u001b[0m\u001b[34mINFO    \u001b[0m Added \u001b[1;36m2\u001b[0m distance edges. \u001b[1m(\u001b[0m\u001b[1;36m532\u001b[0m            removed  \u001b]8;id=737620;file://c:\\Users\\Fofinha\\anaconda3\\Lib\\site-packages\\graphein\\protein\\edges\\distance.py\u001b\\\u001b[2mdistance.py\u001b[0m\u001b]8;;\u001b\\\u001b[2m:983\u001b[0m\n",
       "                             by LIN\u001b[1m)\u001b[0m                                                         \n"
      ]
     },
     "metadata": {},
     "output_type": "display_data"
    },
    {
     "data": {
      "text/html": [
       "<pre style=\"white-space:pre;overflow-x:auto;line-height:normal;font-family:Menlo,'DejaVu Sans Mono',consolas,'Courier New',monospace\"></pre>\n"
      ],
      "text/plain": []
     },
     "metadata": {},
     "output_type": "display_data"
    },
    {
     "name": "stdout",
     "output_type": "stream",
     "text": [
      "<src.propythia.protein.structure.Graph object at 0x0000020782C37890>\n",
      "P09582\n"
     ]
    },
    {
     "data": {
      "text/html": [
       "<pre style=\"white-space:pre;overflow-x:auto;line-height:normal;font-family:Menlo,'DejaVu Sans Mono',consolas,'Courier New',monospace\"><span style=\"color: #7fbfbf; text-decoration-color: #7fbfbf\">[11/06/24 16:07:14] </span><span style=\"color: #000080; text-decoration-color: #000080\">INFO    </span> Downloaded AlphaFold PDB file for: P09582           <a href=\"file://c:\\Users\\Fofinha\\anaconda3\\Lib\\site-packages\\graphein\\protein\\utils.py\"><span style=\"color: #7f7f7f; text-decoration-color: #7f7f7f\">utils.py</span></a><span style=\"color: #7f7f7f; text-decoration-color: #7f7f7f\">:349</span>\n",
       "</pre>\n"
      ],
      "text/plain": [
       "\u001b[2;36m[11/06/24 16:07:14]\u001b[0m\u001b[2;36m \u001b[0m\u001b[34mINFO    \u001b[0m Downloaded AlphaFold PDB file for: P09582           \u001b]8;id=397869;file://c:\\Users\\Fofinha\\anaconda3\\Lib\\site-packages\\graphein\\protein\\utils.py\u001b\\\u001b[2mutils.py\u001b[0m\u001b]8;;\u001b\\\u001b[2m:349\u001b[0m\n"
      ]
     },
     "metadata": {},
     "output_type": "display_data"
    },
    {
     "name": "stdout",
     "output_type": "stream",
     "text": [
      "AlphaFold file downloaded: C:\\Users\\Fofinha\\Desktop\\UNI\\MESTRADO\\propythia\\pdb_files\\P09582.pdb\n"
     ]
    },
    {
     "data": {
      "application/vnd.jupyter.widget-view+json": {
       "model_id": "02e9df1ca6b34b34be9b835cbd2270f3",
       "version_major": 2,
       "version_minor": 0
      },
      "text/plain": [
       "Output()"
      ]
     },
     "metadata": {},
     "output_type": "display_data"
    },
    {
     "data": {
      "text/html": [
       "<pre style=\"white-space:pre;overflow-x:auto;line-height:normal;font-family:Menlo,'DejaVu Sans Mono',consolas,'Courier New',monospace\"><span style=\"color: #7fbfbf; text-decoration-color: #7fbfbf\">[11/06/24 16:07:15] </span><span style=\"color: #008000; text-decoration-color: #008000\">DEBUG   </span> Deprotonating protein. This removes H atoms from   <a href=\"file://c:\\Users\\Fofinha\\anaconda3\\Lib\\site-packages\\graphein\\protein\\graphs.py\"><span style=\"color: #7f7f7f; text-decoration-color: #7f7f7f\">graphs.py</span></a><span style=\"color: #7f7f7f; text-decoration-color: #7f7f7f\">:188</span>\n",
       "                             the pdb_df dataframe                                            \n",
       "</pre>\n"
      ],
      "text/plain": [
       "\u001b[2;36m[11/06/24 16:07:15]\u001b[0m\u001b[2;36m \u001b[0m\u001b[32mDEBUG   \u001b[0m Deprotonating protein. This removes H atoms from   \u001b]8;id=406560;file://c:\\Users\\Fofinha\\anaconda3\\Lib\\site-packages\\graphein\\protein\\graphs.py\u001b\\\u001b[2mgraphs.py\u001b[0m\u001b]8;;\u001b\\\u001b[2m:188\u001b[0m\n",
       "                             the pdb_df dataframe                                            \n"
      ]
     },
     "metadata": {},
     "output_type": "display_data"
    },
    {
     "data": {
      "text/html": [
       "<pre style=\"white-space:pre;overflow-x:auto;line-height:normal;font-family:Menlo,'DejaVu Sans Mono',consolas,'Courier New',monospace\"><span style=\"color: #7fbfbf; text-decoration-color: #7fbfbf\">                    </span><span style=\"color: #008000; text-decoration-color: #008000\">DEBUG   </span> Detected <span style=\"color: #008080; text-decoration-color: #008080; font-weight: bold\">260</span> total nodes                           <a href=\"file://c:\\Users\\Fofinha\\anaconda3\\Lib\\site-packages\\graphein\\protein\\graphs.py\"><span style=\"color: #7f7f7f; text-decoration-color: #7f7f7f\">graphs.py</span></a><span style=\"color: #7f7f7f; text-decoration-color: #7f7f7f\">:435</span>\n",
       "</pre>\n"
      ],
      "text/plain": [
       "\u001b[2;36m                   \u001b[0m\u001b[2;36m \u001b[0m\u001b[32mDEBUG   \u001b[0m Detected \u001b[1;36m260\u001b[0m total nodes                           \u001b]8;id=815763;file://c:\\Users\\Fofinha\\anaconda3\\Lib\\site-packages\\graphein\\protein\\graphs.py\u001b\\\u001b[2mgraphs.py\u001b[0m\u001b]8;;\u001b\\\u001b[2m:435\u001b[0m\n"
      ]
     },
     "metadata": {},
     "output_type": "display_data"
    },
    {
     "name": "stderr",
     "output_type": "stream",
     "text": [
      "c:\\Users\\Fofinha\\anaconda3\\Lib\\site-packages\\graphein\\protein\\edges\\distance.py:1213: FutureWarning: The default value of numeric_only in DataFrameGroupBy.mean is deprecated. In a future version, numeric_only will default to False. Either specify numeric_only or select only columns which should be valid for the function.\n",
      "  .mean()[[\"x_coord\", \"y_coord\", \"z_coord\"]]\n",
      "c:\\Users\\Fofinha\\anaconda3\\Lib\\site-packages\\graphein\\protein\\edges\\distance.py:1213: FutureWarning: The default value of numeric_only in DataFrameGroupBy.mean is deprecated. In a future version, numeric_only will default to False. Either specify numeric_only or select only columns which should be valid for the function.\n",
      "  .mean()[[\"x_coord\", \"y_coord\", \"z_coord\"]]\n"
     ]
    },
    {
     "data": {
      "text/html": [
       "<pre style=\"white-space:pre;overflow-x:auto;line-height:normal;font-family:Menlo,'DejaVu Sans Mono',consolas,'Courier New',monospace\"><span style=\"color: #7fbfbf; text-decoration-color: #7fbfbf\">                    </span><span style=\"color: #000080; text-decoration-color: #000080\">INFO    </span> Found: <span style=\"color: #008080; text-decoration-color: #008080; font-weight: bold\">26</span> aromatic-aromatic interactions         <a href=\"file://c:\\Users\\Fofinha\\anaconda3\\Lib\\site-packages\\graphein\\protein\\edges\\distance.py\"><span style=\"color: #7f7f7f; text-decoration-color: #7f7f7f\">distance.py</span></a><span style=\"color: #7f7f7f; text-decoration-color: #7f7f7f\">:467</span>\n",
       "</pre>\n"
      ],
      "text/plain": [
       "\u001b[2;36m                   \u001b[0m\u001b[2;36m \u001b[0m\u001b[34mINFO    \u001b[0m Found: \u001b[1;36m26\u001b[0m aromatic-aromatic interactions         \u001b]8;id=623879;file://c:\\Users\\Fofinha\\anaconda3\\Lib\\site-packages\\graphein\\protein\\edges\\distance.py\u001b\\\u001b[2mdistance.py\u001b[0m\u001b]8;;\u001b\\\u001b[2m:467\u001b[0m\n"
      ]
     },
     "metadata": {},
     "output_type": "display_data"
    },
    {
     "data": {
      "text/html": [
       "<pre style=\"white-space:pre;overflow-x:auto;line-height:normal;font-family:Menlo,'DejaVu Sans Mono',consolas,'Courier New',monospace\"><span style=\"color: #7fbfbf; text-decoration-color: #7fbfbf\">                    </span><span style=\"color: #000080; text-decoration-color: #000080\">INFO    </span> Found <span style=\"color: #008080; text-decoration-color: #008080; font-weight: bold\">105</span> hbond interactions.                   <a href=\"file://c:\\Users\\Fofinha\\anaconda3\\Lib\\site-packages\\graphein\\protein\\edges\\distance.py\"><span style=\"color: #7f7f7f; text-decoration-color: #7f7f7f\">distance.py</span></a><span style=\"color: #7f7f7f; text-decoration-color: #7f7f7f\">:1344</span>\n",
       "</pre>\n"
      ],
      "text/plain": [
       "\u001b[2;36m                   \u001b[0m\u001b[2;36m \u001b[0m\u001b[34mINFO    \u001b[0m Found \u001b[1;36m105\u001b[0m hbond interactions.                   \u001b]8;id=815824;file://c:\\Users\\Fofinha\\anaconda3\\Lib\\site-packages\\graphein\\protein\\edges\\distance.py\u001b\\\u001b[2mdistance.py\u001b[0m\u001b]8;;\u001b\\\u001b[2m:1344\u001b[0m\n"
      ]
     },
     "metadata": {},
     "output_type": "display_data"
    },
    {
     "data": {
      "text/html": [
       "<pre style=\"white-space:pre;overflow-x:auto;line-height:normal;font-family:Menlo,'DejaVu Sans Mono',consolas,'Courier New',monospace\"><span style=\"color: #7fbfbf; text-decoration-color: #7fbfbf\">                    </span><span style=\"color: #000080; text-decoration-color: #000080\">INFO    </span> Found <span style=\"color: #008080; text-decoration-color: #008080; font-weight: bold\">31</span> hbond interactions.                    <a href=\"file://c:\\Users\\Fofinha\\anaconda3\\Lib\\site-packages\\graphein\\protein\\edges\\distance.py\"><span style=\"color: #7f7f7f; text-decoration-color: #7f7f7f\">distance.py</span></a><span style=\"color: #7f7f7f; text-decoration-color: #7f7f7f\">:1344</span>\n",
       "</pre>\n"
      ],
      "text/plain": [
       "\u001b[2;36m                   \u001b[0m\u001b[2;36m \u001b[0m\u001b[34mINFO    \u001b[0m Found \u001b[1;36m31\u001b[0m hbond interactions.                    \u001b]8;id=922862;file://c:\\Users\\Fofinha\\anaconda3\\Lib\\site-packages\\graphein\\protein\\edges\\distance.py\u001b\\\u001b[2mdistance.py\u001b[0m\u001b]8;;\u001b\\\u001b[2m:1344\u001b[0m\n"
      ]
     },
     "metadata": {},
     "output_type": "display_data"
    },
    {
     "data": {
      "text/html": [
       "<pre style=\"white-space:pre;overflow-x:auto;line-height:normal;font-family:Menlo,'DejaVu Sans Mono',consolas,'Courier New',monospace\"><span style=\"color: #7fbfbf; text-decoration-color: #7fbfbf\">                    </span><span style=\"color: #000080; text-decoration-color: #000080\">INFO    </span> Found <span style=\"color: #008080; text-decoration-color: #008080; font-weight: bold\">22</span> disulfide interactions.                <a href=\"file://c:\\Users\\Fofinha\\anaconda3\\Lib\\site-packages\\graphein\\protein\\edges\\distance.py\"><span style=\"color: #7f7f7f; text-decoration-color: #7f7f7f\">distance.py</span></a><span style=\"color: #7f7f7f; text-decoration-color: #7f7f7f\">:1344</span>\n",
       "</pre>\n"
      ],
      "text/plain": [
       "\u001b[2;36m                   \u001b[0m\u001b[2;36m \u001b[0m\u001b[34mINFO    \u001b[0m Found \u001b[1;36m22\u001b[0m disulfide interactions.                \u001b]8;id=985350;file://c:\\Users\\Fofinha\\anaconda3\\Lib\\site-packages\\graphein\\protein\\edges\\distance.py\u001b\\\u001b[2mdistance.py\u001b[0m\u001b]8;;\u001b\\\u001b[2m:1344\u001b[0m\n"
      ]
     },
     "metadata": {},
     "output_type": "display_data"
    },
    {
     "data": {
      "text/html": [
       "<pre style=\"white-space:pre;overflow-x:auto;line-height:normal;font-family:Menlo,'DejaVu Sans Mono',consolas,'Courier New',monospace\"><span style=\"color: #7fbfbf; text-decoration-color: #7fbfbf\">                    </span><span style=\"color: #000080; text-decoration-color: #000080\">INFO    </span> Found <span style=\"color: #008080; text-decoration-color: #008080; font-weight: bold\">1899</span> ionic interactions.                  <a href=\"file://c:\\Users\\Fofinha\\anaconda3\\Lib\\site-packages\\graphein\\protein\\edges\\distance.py\"><span style=\"color: #7f7f7f; text-decoration-color: #7f7f7f\">distance.py</span></a><span style=\"color: #7f7f7f; text-decoration-color: #7f7f7f\">:1344</span>\n",
       "</pre>\n"
      ],
      "text/plain": [
       "\u001b[2;36m                   \u001b[0m\u001b[2;36m \u001b[0m\u001b[34mINFO    \u001b[0m Found \u001b[1;36m1899\u001b[0m ionic interactions.                  \u001b]8;id=37762;file://c:\\Users\\Fofinha\\anaconda3\\Lib\\site-packages\\graphein\\protein\\edges\\distance.py\u001b\\\u001b[2mdistance.py\u001b[0m\u001b]8;;\u001b\\\u001b[2m:1344\u001b[0m\n"
      ]
     },
     "metadata": {},
     "output_type": "display_data"
    },
    {
     "data": {
      "text/html": [
       "<pre style=\"white-space:pre;overflow-x:auto;line-height:normal;font-family:Menlo,'DejaVu Sans Mono',consolas,'Courier New',monospace\"><span style=\"color: #7fbfbf; text-decoration-color: #7fbfbf\">                    </span><span style=\"color: #000080; text-decoration-color: #000080\">INFO    </span> Found <span style=\"color: #008080; text-decoration-color: #008080; font-weight: bold\">486</span> hydrophobic interactions.             <a href=\"file://c:\\Users\\Fofinha\\anaconda3\\Lib\\site-packages\\graphein\\protein\\edges\\distance.py\"><span style=\"color: #7f7f7f; text-decoration-color: #7f7f7f\">distance.py</span></a><span style=\"color: #7f7f7f; text-decoration-color: #7f7f7f\">:1344</span>\n",
       "</pre>\n"
      ],
      "text/plain": [
       "\u001b[2;36m                   \u001b[0m\u001b[2;36m \u001b[0m\u001b[34mINFO    \u001b[0m Found \u001b[1;36m486\u001b[0m hydrophobic interactions.             \u001b]8;id=159846;file://c:\\Users\\Fofinha\\anaconda3\\Lib\\site-packages\\graphein\\protein\\edges\\distance.py\u001b\\\u001b[2mdistance.py\u001b[0m\u001b]8;;\u001b\\\u001b[2m:1344\u001b[0m\n"
      ]
     },
     "metadata": {},
     "output_type": "display_data"
    },
    {
     "data": {
      "text/html": [
       "<pre style=\"white-space:pre;overflow-x:auto;line-height:normal;font-family:Menlo,'DejaVu Sans Mono',consolas,'Courier New',monospace\"><span style=\"color: #7fbfbf; text-decoration-color: #7fbfbf\">                    </span><span style=\"color: #000080; text-decoration-color: #000080\">INFO    </span> Found <span style=\"color: #008080; text-decoration-color: #008080; font-weight: bold\">1918</span> vdw interactions.                    <a href=\"file://c:\\Users\\Fofinha\\anaconda3\\Lib\\site-packages\\graphein\\protein\\edges\\distance.py\"><span style=\"color: #7f7f7f; text-decoration-color: #7f7f7f\">distance.py</span></a><span style=\"color: #7f7f7f; text-decoration-color: #7f7f7f\">:1344</span>\n",
       "</pre>\n"
      ],
      "text/plain": [
       "\u001b[2;36m                   \u001b[0m\u001b[2;36m \u001b[0m\u001b[34mINFO    \u001b[0m Found \u001b[1;36m1918\u001b[0m vdw interactions.                    \u001b]8;id=425820;file://c:\\Users\\Fofinha\\anaconda3\\Lib\\site-packages\\graphein\\protein\\edges\\distance.py\u001b\\\u001b[2mdistance.py\u001b[0m\u001b]8;;\u001b\\\u001b[2m:1344\u001b[0m\n"
      ]
     },
     "metadata": {},
     "output_type": "display_data"
    },
    {
     "data": {
      "text/html": [
       "<pre style=\"white-space:pre;overflow-x:auto;line-height:normal;font-family:Menlo,'DejaVu Sans Mono',consolas,'Courier New',monospace\"><span style=\"color: #7fbfbf; text-decoration-color: #7fbfbf\">                    </span><span style=\"color: #000080; text-decoration-color: #000080\">INFO    </span> Found <span style=\"color: #008080; text-decoration-color: #008080; font-weight: bold\">194</span> bb_carbonyl_carbonyl interactions.    <a href=\"file://c:\\Users\\Fofinha\\anaconda3\\Lib\\site-packages\\graphein\\protein\\edges\\distance.py\"><span style=\"color: #7f7f7f; text-decoration-color: #7f7f7f\">distance.py</span></a><span style=\"color: #7f7f7f; text-decoration-color: #7f7f7f\">:1344</span>\n",
       "</pre>\n"
      ],
      "text/plain": [
       "\u001b[2;36m                   \u001b[0m\u001b[2;36m \u001b[0m\u001b[34mINFO    \u001b[0m Found \u001b[1;36m194\u001b[0m bb_carbonyl_carbonyl interactions.    \u001b]8;id=177621;file://c:\\Users\\Fofinha\\anaconda3\\Lib\\site-packages\\graphein\\protein\\edges\\distance.py\u001b\\\u001b[2mdistance.py\u001b[0m\u001b]8;;\u001b\\\u001b[2m:1344\u001b[0m\n"
      ]
     },
     "metadata": {},
     "output_type": "display_data"
    },
    {
     "data": {
      "text/html": [
       "<pre style=\"white-space:pre;overflow-x:auto;line-height:normal;font-family:Menlo,'DejaVu Sans Mono',consolas,'Courier New',monospace\"><span style=\"color: #7fbfbf; text-decoration-color: #7fbfbf\">                    </span><span style=\"color: #000080; text-decoration-color: #000080\">INFO    </span> Found <span style=\"color: #008080; text-decoration-color: #008080; font-weight: bold\">60</span> salt_bridge interactions.              <a href=\"file://c:\\Users\\Fofinha\\anaconda3\\Lib\\site-packages\\graphein\\protein\\edges\\distance.py\"><span style=\"color: #7f7f7f; text-decoration-color: #7f7f7f\">distance.py</span></a><span style=\"color: #7f7f7f; text-decoration-color: #7f7f7f\">:1344</span>\n",
       "</pre>\n"
      ],
      "text/plain": [
       "\u001b[2;36m                   \u001b[0m\u001b[2;36m \u001b[0m\u001b[34mINFO    \u001b[0m Found \u001b[1;36m60\u001b[0m salt_bridge interactions.              \u001b]8;id=215071;file://c:\\Users\\Fofinha\\anaconda3\\Lib\\site-packages\\graphein\\protein\\edges\\distance.py\u001b\\\u001b[2mdistance.py\u001b[0m\u001b]8;;\u001b\\\u001b[2m:1344\u001b[0m\n"
      ]
     },
     "metadata": {},
     "output_type": "display_data"
    },
    {
     "data": {
      "text/html": [
       "<pre style=\"white-space:pre;overflow-x:auto;line-height:normal;font-family:Menlo,'DejaVu Sans Mono',consolas,'Courier New',monospace\"><span style=\"color: #7fbfbf; text-decoration-color: #7fbfbf\">                    </span><span style=\"color: #000080; text-decoration-color: #000080\">INFO    </span> Found: <span style=\"color: #008080; text-decoration-color: #008080; font-weight: bold\">784</span> distance edges                        <a href=\"file://c:\\Users\\Fofinha\\anaconda3\\Lib\\site-packages\\graphein\\protein\\edges\\distance.py\"><span style=\"color: #7f7f7f; text-decoration-color: #7f7f7f\">distance.py</span></a><span style=\"color: #7f7f7f; text-decoration-color: #7f7f7f\">:964</span>\n",
       "</pre>\n"
      ],
      "text/plain": [
       "\u001b[2;36m                   \u001b[0m\u001b[2;36m \u001b[0m\u001b[34mINFO    \u001b[0m Found: \u001b[1;36m784\u001b[0m distance edges                        \u001b]8;id=191109;file://c:\\Users\\Fofinha\\anaconda3\\Lib\\site-packages\\graphein\\protein\\edges\\distance.py\u001b\\\u001b[2mdistance.py\u001b[0m\u001b]8;;\u001b\\\u001b[2m:964\u001b[0m\n"
      ]
     },
     "metadata": {},
     "output_type": "display_data"
    },
    {
     "data": {
      "text/html": [
       "<pre style=\"white-space:pre;overflow-x:auto;line-height:normal;font-family:Menlo,'DejaVu Sans Mono',consolas,'Courier New',monospace\"><span style=\"color: #7fbfbf; text-decoration-color: #7fbfbf\">                    </span><span style=\"color: #000080; text-decoration-color: #000080\">INFO    </span> Added <span style=\"color: #008080; text-decoration-color: #008080; font-weight: bold\">6</span> distance edges. <span style=\"font-weight: bold\">(</span><span style=\"color: #008080; text-decoration-color: #008080; font-weight: bold\">778</span>            removed  <a href=\"file://c:\\Users\\Fofinha\\anaconda3\\Lib\\site-packages\\graphein\\protein\\edges\\distance.py\"><span style=\"color: #7f7f7f; text-decoration-color: #7f7f7f\">distance.py</span></a><span style=\"color: #7f7f7f; text-decoration-color: #7f7f7f\">:983</span>\n",
       "                             by LIN<span style=\"font-weight: bold\">)</span>                                                         \n",
       "</pre>\n"
      ],
      "text/plain": [
       "\u001b[2;36m                   \u001b[0m\u001b[2;36m \u001b[0m\u001b[34mINFO    \u001b[0m Added \u001b[1;36m6\u001b[0m distance edges. \u001b[1m(\u001b[0m\u001b[1;36m778\u001b[0m            removed  \u001b]8;id=753400;file://c:\\Users\\Fofinha\\anaconda3\\Lib\\site-packages\\graphein\\protein\\edges\\distance.py\u001b\\\u001b[2mdistance.py\u001b[0m\u001b]8;;\u001b\\\u001b[2m:983\u001b[0m\n",
       "                             by LIN\u001b[1m)\u001b[0m                                                         \n"
      ]
     },
     "metadata": {},
     "output_type": "display_data"
    },
    {
     "data": {
      "text/html": [
       "<pre style=\"white-space:pre;overflow-x:auto;line-height:normal;font-family:Menlo,'DejaVu Sans Mono',consolas,'Courier New',monospace\"></pre>\n"
      ],
      "text/plain": []
     },
     "metadata": {},
     "output_type": "display_data"
    },
    {
     "name": "stdout",
     "output_type": "stream",
     "text": [
      "<src.propythia.protein.structure.Graph object at 0x00000207EF7B4090>\n",
      "P59262\n"
     ]
    },
    {
     "data": {
      "text/html": [
       "<pre style=\"white-space:pre;overflow-x:auto;line-height:normal;font-family:Menlo,'DejaVu Sans Mono',consolas,'Courier New',monospace\"><span style=\"color: #7fbfbf; text-decoration-color: #7fbfbf\">[11/06/24 16:07:16] </span><span style=\"color: #000080; text-decoration-color: #000080\">INFO    </span> Downloaded AlphaFold PDB file for: P59262           <a href=\"file://c:\\Users\\Fofinha\\anaconda3\\Lib\\site-packages\\graphein\\protein\\utils.py\"><span style=\"color: #7f7f7f; text-decoration-color: #7f7f7f\">utils.py</span></a><span style=\"color: #7f7f7f; text-decoration-color: #7f7f7f\">:349</span>\n",
       "</pre>\n"
      ],
      "text/plain": [
       "\u001b[2;36m[11/06/24 16:07:16]\u001b[0m\u001b[2;36m \u001b[0m\u001b[34mINFO    \u001b[0m Downloaded AlphaFold PDB file for: P59262           \u001b]8;id=161884;file://c:\\Users\\Fofinha\\anaconda3\\Lib\\site-packages\\graphein\\protein\\utils.py\u001b\\\u001b[2mutils.py\u001b[0m\u001b]8;;\u001b\\\u001b[2m:349\u001b[0m\n"
      ]
     },
     "metadata": {},
     "output_type": "display_data"
    },
    {
     "name": "stdout",
     "output_type": "stream",
     "text": [
      "AlphaFold file downloaded: C:\\Users\\Fofinha\\Desktop\\UNI\\MESTRADO\\propythia\\pdb_files\\P59262.pdb\n"
     ]
    },
    {
     "data": {
      "application/vnd.jupyter.widget-view+json": {
       "model_id": "524853e8d9c341cbb0ec070ce40949d7",
       "version_major": 2,
       "version_minor": 0
      },
      "text/plain": [
       "Output()"
      ]
     },
     "metadata": {},
     "output_type": "display_data"
    },
    {
     "data": {
      "text/html": [
       "<pre style=\"white-space:pre;overflow-x:auto;line-height:normal;font-family:Menlo,'DejaVu Sans Mono',consolas,'Courier New',monospace\"><span style=\"color: #7fbfbf; text-decoration-color: #7fbfbf\">[11/06/24 16:07:17] </span><span style=\"color: #008000; text-decoration-color: #008000\">DEBUG   </span> Deprotonating protein. This removes H atoms from   <a href=\"file://c:\\Users\\Fofinha\\anaconda3\\Lib\\site-packages\\graphein\\protein\\graphs.py\"><span style=\"color: #7f7f7f; text-decoration-color: #7f7f7f\">graphs.py</span></a><span style=\"color: #7f7f7f; text-decoration-color: #7f7f7f\">:188</span>\n",
       "                             the pdb_df dataframe                                            \n",
       "</pre>\n"
      ],
      "text/plain": [
       "\u001b[2;36m[11/06/24 16:07:17]\u001b[0m\u001b[2;36m \u001b[0m\u001b[32mDEBUG   \u001b[0m Deprotonating protein. This removes H atoms from   \u001b]8;id=149896;file://c:\\Users\\Fofinha\\anaconda3\\Lib\\site-packages\\graphein\\protein\\graphs.py\u001b\\\u001b[2mgraphs.py\u001b[0m\u001b]8;;\u001b\\\u001b[2m:188\u001b[0m\n",
       "                             the pdb_df dataframe                                            \n"
      ]
     },
     "metadata": {},
     "output_type": "display_data"
    },
    {
     "data": {
      "text/html": [
       "<pre style=\"white-space:pre;overflow-x:auto;line-height:normal;font-family:Menlo,'DejaVu Sans Mono',consolas,'Courier New',monospace\"><span style=\"color: #7fbfbf; text-decoration-color: #7fbfbf\">                    </span><span style=\"color: #008000; text-decoration-color: #008000\">DEBUG   </span> Detected <span style=\"color: #008080; text-decoration-color: #008080; font-weight: bold\">70</span> total nodes                            <a href=\"file://c:\\Users\\Fofinha\\anaconda3\\Lib\\site-packages\\graphein\\protein\\graphs.py\"><span style=\"color: #7f7f7f; text-decoration-color: #7f7f7f\">graphs.py</span></a><span style=\"color: #7f7f7f; text-decoration-color: #7f7f7f\">:435</span>\n",
       "</pre>\n"
      ],
      "text/plain": [
       "\u001b[2;36m                   \u001b[0m\u001b[2;36m \u001b[0m\u001b[32mDEBUG   \u001b[0m Detected \u001b[1;36m70\u001b[0m total nodes                            \u001b]8;id=953356;file://c:\\Users\\Fofinha\\anaconda3\\Lib\\site-packages\\graphein\\protein\\graphs.py\u001b\\\u001b[2mgraphs.py\u001b[0m\u001b]8;;\u001b\\\u001b[2m:435\u001b[0m\n"
      ]
     },
     "metadata": {},
     "output_type": "display_data"
    },
    {
     "name": "stderr",
     "output_type": "stream",
     "text": [
      "c:\\Users\\Fofinha\\anaconda3\\Lib\\site-packages\\graphein\\protein\\edges\\distance.py:1213: FutureWarning: The default value of numeric_only in DataFrameGroupBy.mean is deprecated. In a future version, numeric_only will default to False. Either specify numeric_only or select only columns which should be valid for the function.\n",
      "  .mean()[[\"x_coord\", \"y_coord\", \"z_coord\"]]\n",
      "c:\\Users\\Fofinha\\anaconda3\\Lib\\site-packages\\graphein\\protein\\edges\\distance.py:1213: FutureWarning: The default value of numeric_only in DataFrameGroupBy.mean is deprecated. In a future version, numeric_only will default to False. Either specify numeric_only or select only columns which should be valid for the function.\n",
      "  .mean()[[\"x_coord\", \"y_coord\", \"z_coord\"]]\n",
      "c:\\Users\\Fofinha\\anaconda3\\Lib\\site-packages\\graphein\\protein\\edges\\distance.py:1213: FutureWarning: The default value of numeric_only in DataFrameGroupBy.mean is deprecated. In a future version, numeric_only will default to False. Either specify numeric_only or select only columns which should be valid for the function.\n",
      "  .mean()[[\"x_coord\", \"y_coord\", \"z_coord\"]]\n",
      "c:\\Users\\Fofinha\\anaconda3\\Lib\\site-packages\\graphein\\protein\\edges\\distance.py:1213: FutureWarning: The default value of numeric_only in DataFrameGroupBy.mean is deprecated. In a future version, numeric_only will default to False. Either specify numeric_only or select only columns which should be valid for the function.\n",
      "  .mean()[[\"x_coord\", \"y_coord\", \"z_coord\"]]\n"
     ]
    },
    {
     "data": {
      "text/html": [
       "<pre style=\"white-space:pre;overflow-x:auto;line-height:normal;font-family:Menlo,'DejaVu Sans Mono',consolas,'Courier New',monospace\"><span style=\"color: #7fbfbf; text-decoration-color: #7fbfbf\">                    </span><span style=\"color: #000080; text-decoration-color: #000080\">INFO    </span> Found: <span style=\"color: #008080; text-decoration-color: #008080; font-weight: bold\">0</span> aromatic-aromatic interactions          <a href=\"file://c:\\Users\\Fofinha\\anaconda3\\Lib\\site-packages\\graphein\\protein\\edges\\distance.py\"><span style=\"color: #7f7f7f; text-decoration-color: #7f7f7f\">distance.py</span></a><span style=\"color: #7f7f7f; text-decoration-color: #7f7f7f\">:467</span>\n",
       "</pre>\n"
      ],
      "text/plain": [
       "\u001b[2;36m                   \u001b[0m\u001b[2;36m \u001b[0m\u001b[34mINFO    \u001b[0m Found: \u001b[1;36m0\u001b[0m aromatic-aromatic interactions          \u001b]8;id=12099;file://c:\\Users\\Fofinha\\anaconda3\\Lib\\site-packages\\graphein\\protein\\edges\\distance.py\u001b\\\u001b[2mdistance.py\u001b[0m\u001b]8;;\u001b\\\u001b[2m:467\u001b[0m\n"
      ]
     },
     "metadata": {},
     "output_type": "display_data"
    },
    {
     "data": {
      "text/html": [
       "<pre style=\"white-space:pre;overflow-x:auto;line-height:normal;font-family:Menlo,'DejaVu Sans Mono',consolas,'Courier New',monospace\"><span style=\"color: #7fbfbf; text-decoration-color: #7fbfbf\">                    </span><span style=\"color: #000080; text-decoration-color: #000080\">INFO    </span> Found <span style=\"color: #008080; text-decoration-color: #008080; font-weight: bold\">343</span> ionic interactions.                   <a href=\"file://c:\\Users\\Fofinha\\anaconda3\\Lib\\site-packages\\graphein\\protein\\edges\\distance.py\"><span style=\"color: #7f7f7f; text-decoration-color: #7f7f7f\">distance.py</span></a><span style=\"color: #7f7f7f; text-decoration-color: #7f7f7f\">:1344</span>\n",
       "</pre>\n"
      ],
      "text/plain": [
       "\u001b[2;36m                   \u001b[0m\u001b[2;36m \u001b[0m\u001b[34mINFO    \u001b[0m Found \u001b[1;36m343\u001b[0m ionic interactions.                   \u001b]8;id=156345;file://c:\\Users\\Fofinha\\anaconda3\\Lib\\site-packages\\graphein\\protein\\edges\\distance.py\u001b\\\u001b[2mdistance.py\u001b[0m\u001b]8;;\u001b\\\u001b[2m:1344\u001b[0m\n"
      ]
     },
     "metadata": {},
     "output_type": "display_data"
    },
    {
     "data": {
      "text/html": [
       "<pre style=\"white-space:pre;overflow-x:auto;line-height:normal;font-family:Menlo,'DejaVu Sans Mono',consolas,'Courier New',monospace\"><span style=\"color: #7fbfbf; text-decoration-color: #7fbfbf\">                    </span><span style=\"color: #000080; text-decoration-color: #000080\">INFO    </span> Found <span style=\"color: #008080; text-decoration-color: #008080; font-weight: bold\">86</span> hydrophobic interactions.              <a href=\"file://c:\\Users\\Fofinha\\anaconda3\\Lib\\site-packages\\graphein\\protein\\edges\\distance.py\"><span style=\"color: #7f7f7f; text-decoration-color: #7f7f7f\">distance.py</span></a><span style=\"color: #7f7f7f; text-decoration-color: #7f7f7f\">:1344</span>\n",
       "</pre>\n"
      ],
      "text/plain": [
       "\u001b[2;36m                   \u001b[0m\u001b[2;36m \u001b[0m\u001b[34mINFO    \u001b[0m Found \u001b[1;36m86\u001b[0m hydrophobic interactions.              \u001b]8;id=85623;file://c:\\Users\\Fofinha\\anaconda3\\Lib\\site-packages\\graphein\\protein\\edges\\distance.py\u001b\\\u001b[2mdistance.py\u001b[0m\u001b]8;;\u001b\\\u001b[2m:1344\u001b[0m\n"
      ]
     },
     "metadata": {},
     "output_type": "display_data"
    },
    {
     "data": {
      "text/html": [
       "<pre style=\"white-space:pre;overflow-x:auto;line-height:normal;font-family:Menlo,'DejaVu Sans Mono',consolas,'Courier New',monospace\"><span style=\"color: #7fbfbf; text-decoration-color: #7fbfbf\">                    </span><span style=\"color: #000080; text-decoration-color: #000080\">INFO    </span> Found <span style=\"color: #008080; text-decoration-color: #008080; font-weight: bold\">496</span> vdw interactions.                     <a href=\"file://c:\\Users\\Fofinha\\anaconda3\\Lib\\site-packages\\graphein\\protein\\edges\\distance.py\"><span style=\"color: #7f7f7f; text-decoration-color: #7f7f7f\">distance.py</span></a><span style=\"color: #7f7f7f; text-decoration-color: #7f7f7f\">:1344</span>\n",
       "</pre>\n"
      ],
      "text/plain": [
       "\u001b[2;36m                   \u001b[0m\u001b[2;36m \u001b[0m\u001b[34mINFO    \u001b[0m Found \u001b[1;36m496\u001b[0m vdw interactions.                     \u001b]8;id=258304;file://c:\\Users\\Fofinha\\anaconda3\\Lib\\site-packages\\graphein\\protein\\edges\\distance.py\u001b\\\u001b[2mdistance.py\u001b[0m\u001b]8;;\u001b\\\u001b[2m:1344\u001b[0m\n"
      ]
     },
     "metadata": {},
     "output_type": "display_data"
    },
    {
     "data": {
      "text/html": [
       "<pre style=\"white-space:pre;overflow-x:auto;line-height:normal;font-family:Menlo,'DejaVu Sans Mono',consolas,'Courier New',monospace\"><span style=\"color: #7fbfbf; text-decoration-color: #7fbfbf\">                    </span><span style=\"color: #000080; text-decoration-color: #000080\">INFO    </span> Found <span style=\"color: #008080; text-decoration-color: #008080; font-weight: bold\">116</span> bb_carbonyl_carbonyl interactions.    <a href=\"file://c:\\Users\\Fofinha\\anaconda3\\Lib\\site-packages\\graphein\\protein\\edges\\distance.py\"><span style=\"color: #7f7f7f; text-decoration-color: #7f7f7f\">distance.py</span></a><span style=\"color: #7f7f7f; text-decoration-color: #7f7f7f\">:1344</span>\n",
       "</pre>\n"
      ],
      "text/plain": [
       "\u001b[2;36m                   \u001b[0m\u001b[2;36m \u001b[0m\u001b[34mINFO    \u001b[0m Found \u001b[1;36m116\u001b[0m bb_carbonyl_carbonyl interactions.    \u001b]8;id=394183;file://c:\\Users\\Fofinha\\anaconda3\\Lib\\site-packages\\graphein\\protein\\edges\\distance.py\u001b\\\u001b[2mdistance.py\u001b[0m\u001b]8;;\u001b\\\u001b[2m:1344\u001b[0m\n"
      ]
     },
     "metadata": {},
     "output_type": "display_data"
    },
    {
     "data": {
      "text/html": [
       "<pre style=\"white-space:pre;overflow-x:auto;line-height:normal;font-family:Menlo,'DejaVu Sans Mono',consolas,'Courier New',monospace\"><span style=\"color: #7fbfbf; text-decoration-color: #7fbfbf\">                    </span><span style=\"color: #000080; text-decoration-color: #000080\">INFO    </span> Found <span style=\"color: #008080; text-decoration-color: #008080; font-weight: bold\">15</span> salt_bridge interactions.              <a href=\"file://c:\\Users\\Fofinha\\anaconda3\\Lib\\site-packages\\graphein\\protein\\edges\\distance.py\"><span style=\"color: #7f7f7f; text-decoration-color: #7f7f7f\">distance.py</span></a><span style=\"color: #7f7f7f; text-decoration-color: #7f7f7f\">:1344</span>\n",
       "</pre>\n"
      ],
      "text/plain": [
       "\u001b[2;36m                   \u001b[0m\u001b[2;36m \u001b[0m\u001b[34mINFO    \u001b[0m Found \u001b[1;36m15\u001b[0m salt_bridge interactions.              \u001b]8;id=932873;file://c:\\Users\\Fofinha\\anaconda3\\Lib\\site-packages\\graphein\\protein\\edges\\distance.py\u001b\\\u001b[2mdistance.py\u001b[0m\u001b]8;;\u001b\\\u001b[2m:1344\u001b[0m\n"
      ]
     },
     "metadata": {},
     "output_type": "display_data"
    },
    {
     "data": {
      "text/html": [
       "<pre style=\"white-space:pre;overflow-x:auto;line-height:normal;font-family:Menlo,'DejaVu Sans Mono',consolas,'Courier New',monospace\"><span style=\"color: #7fbfbf; text-decoration-color: #7fbfbf\">                    </span><span style=\"color: #000080; text-decoration-color: #000080\">INFO    </span> Found: <span style=\"color: #008080; text-decoration-color: #008080; font-weight: bold\">208</span> distance edges                        <a href=\"file://c:\\Users\\Fofinha\\anaconda3\\Lib\\site-packages\\graphein\\protein\\edges\\distance.py\"><span style=\"color: #7f7f7f; text-decoration-color: #7f7f7f\">distance.py</span></a><span style=\"color: #7f7f7f; text-decoration-color: #7f7f7f\">:964</span>\n",
       "</pre>\n"
      ],
      "text/plain": [
       "\u001b[2;36m                   \u001b[0m\u001b[2;36m \u001b[0m\u001b[34mINFO    \u001b[0m Found: \u001b[1;36m208\u001b[0m distance edges                        \u001b]8;id=501341;file://c:\\Users\\Fofinha\\anaconda3\\Lib\\site-packages\\graphein\\protein\\edges\\distance.py\u001b\\\u001b[2mdistance.py\u001b[0m\u001b]8;;\u001b\\\u001b[2m:964\u001b[0m\n"
      ]
     },
     "metadata": {},
     "output_type": "display_data"
    },
    {
     "data": {
      "text/html": [
       "<pre style=\"white-space:pre;overflow-x:auto;line-height:normal;font-family:Menlo,'DejaVu Sans Mono',consolas,'Courier New',monospace\"><span style=\"color: #7fbfbf; text-decoration-color: #7fbfbf\">                    </span><span style=\"color: #000080; text-decoration-color: #000080\">INFO    </span> Added <span style=\"color: #008080; text-decoration-color: #008080; font-weight: bold\">0</span> distance edges. <span style=\"font-weight: bold\">(</span><span style=\"color: #008080; text-decoration-color: #008080; font-weight: bold\">208</span>            removed  <a href=\"file://c:\\Users\\Fofinha\\anaconda3\\Lib\\site-packages\\graphein\\protein\\edges\\distance.py\"><span style=\"color: #7f7f7f; text-decoration-color: #7f7f7f\">distance.py</span></a><span style=\"color: #7f7f7f; text-decoration-color: #7f7f7f\">:983</span>\n",
       "                             by LIN<span style=\"font-weight: bold\">)</span>                                                         \n",
       "</pre>\n"
      ],
      "text/plain": [
       "\u001b[2;36m                   \u001b[0m\u001b[2;36m \u001b[0m\u001b[34mINFO    \u001b[0m Added \u001b[1;36m0\u001b[0m distance edges. \u001b[1m(\u001b[0m\u001b[1;36m208\u001b[0m            removed  \u001b]8;id=348582;file://c:\\Users\\Fofinha\\anaconda3\\Lib\\site-packages\\graphein\\protein\\edges\\distance.py\u001b\\\u001b[2mdistance.py\u001b[0m\u001b]8;;\u001b\\\u001b[2m:983\u001b[0m\n",
       "                             by LIN\u001b[1m)\u001b[0m                                                         \n"
      ]
     },
     "metadata": {},
     "output_type": "display_data"
    },
    {
     "data": {
      "text/html": [
       "<pre style=\"white-space:pre;overflow-x:auto;line-height:normal;font-family:Menlo,'DejaVu Sans Mono',consolas,'Courier New',monospace\"></pre>\n"
      ],
      "text/plain": []
     },
     "metadata": {},
     "output_type": "display_data"
    },
    {
     "name": "stdout",
     "output_type": "stream",
     "text": [
      "<src.propythia.protein.structure.Graph object at 0x0000020782CF6290>\n",
      "A5HII1\n"
     ]
    },
    {
     "data": {
      "text/html": [
       "<pre style=\"white-space:pre;overflow-x:auto;line-height:normal;font-family:Menlo,'DejaVu Sans Mono',consolas,'Courier New',monospace\"><span style=\"color: #7fbfbf; text-decoration-color: #7fbfbf\">                    </span><span style=\"color: #000080; text-decoration-color: #000080\">INFO    </span> Downloaded AlphaFold PDB file for: A5HII1           <a href=\"file://c:\\Users\\Fofinha\\anaconda3\\Lib\\site-packages\\graphein\\protein\\utils.py\"><span style=\"color: #7f7f7f; text-decoration-color: #7f7f7f\">utils.py</span></a><span style=\"color: #7f7f7f; text-decoration-color: #7f7f7f\">:349</span>\n",
       "</pre>\n"
      ],
      "text/plain": [
       "\u001b[2;36m                   \u001b[0m\u001b[2;36m \u001b[0m\u001b[34mINFO    \u001b[0m Downloaded AlphaFold PDB file for: A5HII1           \u001b]8;id=103019;file://c:\\Users\\Fofinha\\anaconda3\\Lib\\site-packages\\graphein\\protein\\utils.py\u001b\\\u001b[2mutils.py\u001b[0m\u001b]8;;\u001b\\\u001b[2m:349\u001b[0m\n"
      ]
     },
     "metadata": {},
     "output_type": "display_data"
    },
    {
     "name": "stdout",
     "output_type": "stream",
     "text": [
      "AlphaFold file downloaded: C:\\Users\\Fofinha\\Desktop\\UNI\\MESTRADO\\propythia\\pdb_files\\A5HII1.pdb\n"
     ]
    },
    {
     "data": {
      "application/vnd.jupyter.widget-view+json": {
       "model_id": "8ede8c60572b4ca0baa5ced5d5693544",
       "version_major": 2,
       "version_minor": 0
      },
      "text/plain": [
       "Output()"
      ]
     },
     "metadata": {},
     "output_type": "display_data"
    },
    {
     "data": {
      "text/html": [
       "<pre style=\"white-space:pre;overflow-x:auto;line-height:normal;font-family:Menlo,'DejaVu Sans Mono',consolas,'Courier New',monospace\"><span style=\"color: #7fbfbf; text-decoration-color: #7fbfbf\">[11/06/24 16:07:18] </span><span style=\"color: #008000; text-decoration-color: #008000\">DEBUG   </span> Deprotonating protein. This removes H atoms from   <a href=\"file://c:\\Users\\Fofinha\\anaconda3\\Lib\\site-packages\\graphein\\protein\\graphs.py\"><span style=\"color: #7f7f7f; text-decoration-color: #7f7f7f\">graphs.py</span></a><span style=\"color: #7f7f7f; text-decoration-color: #7f7f7f\">:188</span>\n",
       "                             the pdb_df dataframe                                            \n",
       "</pre>\n"
      ],
      "text/plain": [
       "\u001b[2;36m[11/06/24 16:07:18]\u001b[0m\u001b[2;36m \u001b[0m\u001b[32mDEBUG   \u001b[0m Deprotonating protein. This removes H atoms from   \u001b]8;id=760908;file://c:\\Users\\Fofinha\\anaconda3\\Lib\\site-packages\\graphein\\protein\\graphs.py\u001b\\\u001b[2mgraphs.py\u001b[0m\u001b]8;;\u001b\\\u001b[2m:188\u001b[0m\n",
       "                             the pdb_df dataframe                                            \n"
      ]
     },
     "metadata": {},
     "output_type": "display_data"
    },
    {
     "data": {
      "text/html": [
       "<pre style=\"white-space:pre;overflow-x:auto;line-height:normal;font-family:Menlo,'DejaVu Sans Mono',consolas,'Courier New',monospace\"><span style=\"color: #7fbfbf; text-decoration-color: #7fbfbf\">                    </span><span style=\"color: #008000; text-decoration-color: #008000\">DEBUG   </span> Detected <span style=\"color: #008080; text-decoration-color: #008080; font-weight: bold\">380</span> total nodes                           <a href=\"file://c:\\Users\\Fofinha\\anaconda3\\Lib\\site-packages\\graphein\\protein\\graphs.py\"><span style=\"color: #7f7f7f; text-decoration-color: #7f7f7f\">graphs.py</span></a><span style=\"color: #7f7f7f; text-decoration-color: #7f7f7f\">:435</span>\n",
       "</pre>\n"
      ],
      "text/plain": [
       "\u001b[2;36m                   \u001b[0m\u001b[2;36m \u001b[0m\u001b[32mDEBUG   \u001b[0m Detected \u001b[1;36m380\u001b[0m total nodes                           \u001b]8;id=481314;file://c:\\Users\\Fofinha\\anaconda3\\Lib\\site-packages\\graphein\\protein\\graphs.py\u001b\\\u001b[2mgraphs.py\u001b[0m\u001b]8;;\u001b\\\u001b[2m:435\u001b[0m\n"
      ]
     },
     "metadata": {},
     "output_type": "display_data"
    },
    {
     "name": "stderr",
     "output_type": "stream",
     "text": [
      "c:\\Users\\Fofinha\\anaconda3\\Lib\\site-packages\\graphein\\protein\\edges\\distance.py:1213: FutureWarning: The default value of numeric_only in DataFrameGroupBy.mean is deprecated. In a future version, numeric_only will default to False. Either specify numeric_only or select only columns which should be valid for the function.\n",
      "  .mean()[[\"x_coord\", \"y_coord\", \"z_coord\"]]\n",
      "c:\\Users\\Fofinha\\anaconda3\\Lib\\site-packages\\graphein\\protein\\edges\\distance.py:1213: FutureWarning: The default value of numeric_only in DataFrameGroupBy.mean is deprecated. In a future version, numeric_only will default to False. Either specify numeric_only or select only columns which should be valid for the function.\n",
      "  .mean()[[\"x_coord\", \"y_coord\", \"z_coord\"]]\n",
      "c:\\Users\\Fofinha\\anaconda3\\Lib\\site-packages\\graphein\\protein\\edges\\distance.py:1213: FutureWarning: The default value of numeric_only in DataFrameGroupBy.mean is deprecated. In a future version, numeric_only will default to False. Either specify numeric_only or select only columns which should be valid for the function.\n",
      "  .mean()[[\"x_coord\", \"y_coord\", \"z_coord\"]]\n",
      "c:\\Users\\Fofinha\\anaconda3\\Lib\\site-packages\\graphein\\protein\\edges\\distance.py:1213: FutureWarning: The default value of numeric_only in DataFrameGroupBy.mean is deprecated. In a future version, numeric_only will default to False. Either specify numeric_only or select only columns which should be valid for the function.\n",
      "  .mean()[[\"x_coord\", \"y_coord\", \"z_coord\"]]\n"
     ]
    },
    {
     "data": {
      "text/html": [
       "<pre style=\"white-space:pre;overflow-x:auto;line-height:normal;font-family:Menlo,'DejaVu Sans Mono',consolas,'Courier New',monospace\"><span style=\"color: #7fbfbf; text-decoration-color: #7fbfbf\">                    </span><span style=\"color: #000080; text-decoration-color: #000080\">INFO    </span> Found: <span style=\"color: #008080; text-decoration-color: #008080; font-weight: bold\">66</span> aromatic-aromatic interactions         <a href=\"file://c:\\Users\\Fofinha\\anaconda3\\Lib\\site-packages\\graphein\\protein\\edges\\distance.py\"><span style=\"color: #7f7f7f; text-decoration-color: #7f7f7f\">distance.py</span></a><span style=\"color: #7f7f7f; text-decoration-color: #7f7f7f\">:467</span>\n",
       "</pre>\n"
      ],
      "text/plain": [
       "\u001b[2;36m                   \u001b[0m\u001b[2;36m \u001b[0m\u001b[34mINFO    \u001b[0m Found: \u001b[1;36m66\u001b[0m aromatic-aromatic interactions         \u001b]8;id=387945;file://c:\\Users\\Fofinha\\anaconda3\\Lib\\site-packages\\graphein\\protein\\edges\\distance.py\u001b\\\u001b[2mdistance.py\u001b[0m\u001b]8;;\u001b\\\u001b[2m:467\u001b[0m\n"
      ]
     },
     "metadata": {},
     "output_type": "display_data"
    },
    {
     "data": {
      "text/html": [
       "<pre style=\"white-space:pre;overflow-x:auto;line-height:normal;font-family:Menlo,'DejaVu Sans Mono',consolas,'Courier New',monospace\"><span style=\"color: #7fbfbf; text-decoration-color: #7fbfbf\">                    </span><span style=\"color: #000080; text-decoration-color: #000080\">INFO    </span> Found <span style=\"color: #008080; text-decoration-color: #008080; font-weight: bold\">178</span> hbond interactions.                   <a href=\"file://c:\\Users\\Fofinha\\anaconda3\\Lib\\site-packages\\graphein\\protein\\edges\\distance.py\"><span style=\"color: #7f7f7f; text-decoration-color: #7f7f7f\">distance.py</span></a><span style=\"color: #7f7f7f; text-decoration-color: #7f7f7f\">:1344</span>\n",
       "</pre>\n"
      ],
      "text/plain": [
       "\u001b[2;36m                   \u001b[0m\u001b[2;36m \u001b[0m\u001b[34mINFO    \u001b[0m Found \u001b[1;36m178\u001b[0m hbond interactions.                   \u001b]8;id=616019;file://c:\\Users\\Fofinha\\anaconda3\\Lib\\site-packages\\graphein\\protein\\edges\\distance.py\u001b\\\u001b[2mdistance.py\u001b[0m\u001b]8;;\u001b\\\u001b[2m:1344\u001b[0m\n"
      ]
     },
     "metadata": {},
     "output_type": "display_data"
    },
    {
     "data": {
      "text/html": [
       "<pre style=\"white-space:pre;overflow-x:auto;line-height:normal;font-family:Menlo,'DejaVu Sans Mono',consolas,'Courier New',monospace\"><span style=\"color: #7fbfbf; text-decoration-color: #7fbfbf\">                    </span><span style=\"color: #000080; text-decoration-color: #000080\">INFO    </span> Found <span style=\"color: #008080; text-decoration-color: #008080; font-weight: bold\">19</span> hbond interactions.                    <a href=\"file://c:\\Users\\Fofinha\\anaconda3\\Lib\\site-packages\\graphein\\protein\\edges\\distance.py\"><span style=\"color: #7f7f7f; text-decoration-color: #7f7f7f\">distance.py</span></a><span style=\"color: #7f7f7f; text-decoration-color: #7f7f7f\">:1344</span>\n",
       "</pre>\n"
      ],
      "text/plain": [
       "\u001b[2;36m                   \u001b[0m\u001b[2;36m \u001b[0m\u001b[34mINFO    \u001b[0m Found \u001b[1;36m19\u001b[0m hbond interactions.                    \u001b]8;id=295074;file://c:\\Users\\Fofinha\\anaconda3\\Lib\\site-packages\\graphein\\protein\\edges\\distance.py\u001b\\\u001b[2mdistance.py\u001b[0m\u001b]8;;\u001b\\\u001b[2m:1344\u001b[0m\n"
      ]
     },
     "metadata": {},
     "output_type": "display_data"
    },
    {
     "data": {
      "text/html": [
       "<pre style=\"white-space:pre;overflow-x:auto;line-height:normal;font-family:Menlo,'DejaVu Sans Mono',consolas,'Courier New',monospace\"><span style=\"color: #7fbfbf; text-decoration-color: #7fbfbf\">                    </span><span style=\"color: #000080; text-decoration-color: #000080\">INFO    </span> Found <span style=\"color: #008080; text-decoration-color: #008080; font-weight: bold\">13</span> disulfide interactions.                <a href=\"file://c:\\Users\\Fofinha\\anaconda3\\Lib\\site-packages\\graphein\\protein\\edges\\distance.py\"><span style=\"color: #7f7f7f; text-decoration-color: #7f7f7f\">distance.py</span></a><span style=\"color: #7f7f7f; text-decoration-color: #7f7f7f\">:1344</span>\n",
       "</pre>\n"
      ],
      "text/plain": [
       "\u001b[2;36m                   \u001b[0m\u001b[2;36m \u001b[0m\u001b[34mINFO    \u001b[0m Found \u001b[1;36m13\u001b[0m disulfide interactions.                \u001b]8;id=540343;file://c:\\Users\\Fofinha\\anaconda3\\Lib\\site-packages\\graphein\\protein\\edges\\distance.py\u001b\\\u001b[2mdistance.py\u001b[0m\u001b]8;;\u001b\\\u001b[2m:1344\u001b[0m\n"
      ]
     },
     "metadata": {},
     "output_type": "display_data"
    },
    {
     "data": {
      "text/html": [
       "<pre style=\"white-space:pre;overflow-x:auto;line-height:normal;font-family:Menlo,'DejaVu Sans Mono',consolas,'Courier New',monospace\"><span style=\"color: #7fbfbf; text-decoration-color: #7fbfbf\">                    </span><span style=\"color: #000080; text-decoration-color: #000080\">INFO    </span> Found <span style=\"color: #008080; text-decoration-color: #008080; font-weight: bold\">2852</span> ionic interactions.                  <a href=\"file://c:\\Users\\Fofinha\\anaconda3\\Lib\\site-packages\\graphein\\protein\\edges\\distance.py\"><span style=\"color: #7f7f7f; text-decoration-color: #7f7f7f\">distance.py</span></a><span style=\"color: #7f7f7f; text-decoration-color: #7f7f7f\">:1344</span>\n",
       "</pre>\n"
      ],
      "text/plain": [
       "\u001b[2;36m                   \u001b[0m\u001b[2;36m \u001b[0m\u001b[34mINFO    \u001b[0m Found \u001b[1;36m2852\u001b[0m ionic interactions.                  \u001b]8;id=205603;file://c:\\Users\\Fofinha\\anaconda3\\Lib\\site-packages\\graphein\\protein\\edges\\distance.py\u001b\\\u001b[2mdistance.py\u001b[0m\u001b]8;;\u001b\\\u001b[2m:1344\u001b[0m\n"
      ]
     },
     "metadata": {},
     "output_type": "display_data"
    },
    {
     "data": {
      "text/html": [
       "<pre style=\"white-space:pre;overflow-x:auto;line-height:normal;font-family:Menlo,'DejaVu Sans Mono',consolas,'Courier New',monospace\"><span style=\"color: #7fbfbf; text-decoration-color: #7fbfbf\">                    </span><span style=\"color: #000080; text-decoration-color: #000080\">INFO    </span> Found <span style=\"color: #008080; text-decoration-color: #008080; font-weight: bold\">700</span> hydrophobic interactions.             <a href=\"file://c:\\Users\\Fofinha\\anaconda3\\Lib\\site-packages\\graphein\\protein\\edges\\distance.py\"><span style=\"color: #7f7f7f; text-decoration-color: #7f7f7f\">distance.py</span></a><span style=\"color: #7f7f7f; text-decoration-color: #7f7f7f\">:1344</span>\n",
       "</pre>\n"
      ],
      "text/plain": [
       "\u001b[2;36m                   \u001b[0m\u001b[2;36m \u001b[0m\u001b[34mINFO    \u001b[0m Found \u001b[1;36m700\u001b[0m hydrophobic interactions.             \u001b]8;id=196366;file://c:\\Users\\Fofinha\\anaconda3\\Lib\\site-packages\\graphein\\protein\\edges\\distance.py\u001b\\\u001b[2mdistance.py\u001b[0m\u001b]8;;\u001b\\\u001b[2m:1344\u001b[0m\n"
      ]
     },
     "metadata": {},
     "output_type": "display_data"
    },
    {
     "data": {
      "text/html": [
       "<pre style=\"white-space:pre;overflow-x:auto;line-height:normal;font-family:Menlo,'DejaVu Sans Mono',consolas,'Courier New',monospace\"><span style=\"color: #7fbfbf; text-decoration-color: #7fbfbf\">[11/06/24 16:07:19] </span><span style=\"color: #000080; text-decoration-color: #000080\">INFO    </span> Found <span style=\"color: #008080; text-decoration-color: #008080; font-weight: bold\">3156</span> vdw interactions.                    <a href=\"file://c:\\Users\\Fofinha\\anaconda3\\Lib\\site-packages\\graphein\\protein\\edges\\distance.py\"><span style=\"color: #7f7f7f; text-decoration-color: #7f7f7f\">distance.py</span></a><span style=\"color: #7f7f7f; text-decoration-color: #7f7f7f\">:1344</span>\n",
       "</pre>\n"
      ],
      "text/plain": [
       "\u001b[2;36m[11/06/24 16:07:19]\u001b[0m\u001b[2;36m \u001b[0m\u001b[34mINFO    \u001b[0m Found \u001b[1;36m3156\u001b[0m vdw interactions.                    \u001b]8;id=25968;file://c:\\Users\\Fofinha\\anaconda3\\Lib\\site-packages\\graphein\\protein\\edges\\distance.py\u001b\\\u001b[2mdistance.py\u001b[0m\u001b]8;;\u001b\\\u001b[2m:1344\u001b[0m\n"
      ]
     },
     "metadata": {},
     "output_type": "display_data"
    },
    {
     "data": {
      "text/html": [
       "<pre style=\"white-space:pre;overflow-x:auto;line-height:normal;font-family:Menlo,'DejaVu Sans Mono',consolas,'Courier New',monospace\"><span style=\"color: #7fbfbf; text-decoration-color: #7fbfbf\">                    </span><span style=\"color: #000080; text-decoration-color: #000080\">INFO    </span> Found <span style=\"color: #008080; text-decoration-color: #008080; font-weight: bold\">376</span> bb_carbonyl_carbonyl interactions.    <a href=\"file://c:\\Users\\Fofinha\\anaconda3\\Lib\\site-packages\\graphein\\protein\\edges\\distance.py\"><span style=\"color: #7f7f7f; text-decoration-color: #7f7f7f\">distance.py</span></a><span style=\"color: #7f7f7f; text-decoration-color: #7f7f7f\">:1344</span>\n",
       "</pre>\n"
      ],
      "text/plain": [
       "\u001b[2;36m                   \u001b[0m\u001b[2;36m \u001b[0m\u001b[34mINFO    \u001b[0m Found \u001b[1;36m376\u001b[0m bb_carbonyl_carbonyl interactions.    \u001b]8;id=599707;file://c:\\Users\\Fofinha\\anaconda3\\Lib\\site-packages\\graphein\\protein\\edges\\distance.py\u001b\\\u001b[2mdistance.py\u001b[0m\u001b]8;;\u001b\\\u001b[2m:1344\u001b[0m\n"
      ]
     },
     "metadata": {},
     "output_type": "display_data"
    },
    {
     "data": {
      "text/html": [
       "<pre style=\"white-space:pre;overflow-x:auto;line-height:normal;font-family:Menlo,'DejaVu Sans Mono',consolas,'Courier New',monospace\"><span style=\"color: #7fbfbf; text-decoration-color: #7fbfbf\">                    </span><span style=\"color: #000080; text-decoration-color: #000080\">INFO    </span> Found <span style=\"color: #008080; text-decoration-color: #008080; font-weight: bold\">122</span> salt_bridge interactions.             <a href=\"file://c:\\Users\\Fofinha\\anaconda3\\Lib\\site-packages\\graphein\\protein\\edges\\distance.py\"><span style=\"color: #7f7f7f; text-decoration-color: #7f7f7f\">distance.py</span></a><span style=\"color: #7f7f7f; text-decoration-color: #7f7f7f\">:1344</span>\n",
       "</pre>\n"
      ],
      "text/plain": [
       "\u001b[2;36m                   \u001b[0m\u001b[2;36m \u001b[0m\u001b[34mINFO    \u001b[0m Found \u001b[1;36m122\u001b[0m salt_bridge interactions.             \u001b]8;id=126601;file://c:\\Users\\Fofinha\\anaconda3\\Lib\\site-packages\\graphein\\protein\\edges\\distance.py\u001b\\\u001b[2mdistance.py\u001b[0m\u001b]8;;\u001b\\\u001b[2m:1344\u001b[0m\n"
      ]
     },
     "metadata": {},
     "output_type": "display_data"
    },
    {
     "data": {
      "text/html": [
       "<pre style=\"white-space:pre;overflow-x:auto;line-height:normal;font-family:Menlo,'DejaVu Sans Mono',consolas,'Courier New',monospace\"><span style=\"color: #7fbfbf; text-decoration-color: #7fbfbf\">                    </span><span style=\"color: #000080; text-decoration-color: #000080\">INFO    </span> Found: <span style=\"color: #008080; text-decoration-color: #008080; font-weight: bold\">1146</span> distance edges                       <a href=\"file://c:\\Users\\Fofinha\\anaconda3\\Lib\\site-packages\\graphein\\protein\\edges\\distance.py\"><span style=\"color: #7f7f7f; text-decoration-color: #7f7f7f\">distance.py</span></a><span style=\"color: #7f7f7f; text-decoration-color: #7f7f7f\">:964</span>\n",
       "</pre>\n"
      ],
      "text/plain": [
       "\u001b[2;36m                   \u001b[0m\u001b[2;36m \u001b[0m\u001b[34mINFO    \u001b[0m Found: \u001b[1;36m1146\u001b[0m distance edges                       \u001b]8;id=720821;file://c:\\Users\\Fofinha\\anaconda3\\Lib\\site-packages\\graphein\\protein\\edges\\distance.py\u001b\\\u001b[2mdistance.py\u001b[0m\u001b]8;;\u001b\\\u001b[2m:964\u001b[0m\n"
      ]
     },
     "metadata": {},
     "output_type": "display_data"
    },
    {
     "data": {
      "text/html": [
       "<pre style=\"white-space:pre;overflow-x:auto;line-height:normal;font-family:Menlo,'DejaVu Sans Mono',consolas,'Courier New',monospace\"><span style=\"color: #7fbfbf; text-decoration-color: #7fbfbf\">                    </span><span style=\"color: #000080; text-decoration-color: #000080\">INFO    </span> Added <span style=\"color: #008080; text-decoration-color: #008080; font-weight: bold\">8</span> distance edges. <span style=\"font-weight: bold\">(</span><span style=\"color: #008080; text-decoration-color: #008080; font-weight: bold\">1138</span>            removed <a href=\"file://c:\\Users\\Fofinha\\anaconda3\\Lib\\site-packages\\graphein\\protein\\edges\\distance.py\"><span style=\"color: #7f7f7f; text-decoration-color: #7f7f7f\">distance.py</span></a><span style=\"color: #7f7f7f; text-decoration-color: #7f7f7f\">:983</span>\n",
       "                             by LIN<span style=\"font-weight: bold\">)</span>                                                         \n",
       "</pre>\n"
      ],
      "text/plain": [
       "\u001b[2;36m                   \u001b[0m\u001b[2;36m \u001b[0m\u001b[34mINFO    \u001b[0m Added \u001b[1;36m8\u001b[0m distance edges. \u001b[1m(\u001b[0m\u001b[1;36m1138\u001b[0m            removed \u001b]8;id=465884;file://c:\\Users\\Fofinha\\anaconda3\\Lib\\site-packages\\graphein\\protein\\edges\\distance.py\u001b\\\u001b[2mdistance.py\u001b[0m\u001b]8;;\u001b\\\u001b[2m:983\u001b[0m\n",
       "                             by LIN\u001b[1m)\u001b[0m                                                         \n"
      ]
     },
     "metadata": {},
     "output_type": "display_data"
    },
    {
     "data": {
      "text/html": [
       "<pre style=\"white-space:pre;overflow-x:auto;line-height:normal;font-family:Menlo,'DejaVu Sans Mono',consolas,'Courier New',monospace\"></pre>\n"
      ],
      "text/plain": []
     },
     "metadata": {},
     "output_type": "display_data"
    },
    {
     "name": "stdout",
     "output_type": "stream",
     "text": [
      "<src.propythia.protein.structure.Graph object at 0x00000207EF7B4090>\n",
      "P27740\n"
     ]
    },
    {
     "data": {
      "text/html": [
       "<pre style=\"white-space:pre;overflow-x:auto;line-height:normal;font-family:Menlo,'DejaVu Sans Mono',consolas,'Courier New',monospace\"><span style=\"color: #7fbfbf; text-decoration-color: #7fbfbf\">                    </span><span style=\"color: #000080; text-decoration-color: #000080\">INFO    </span> Downloaded AlphaFold PDB file for: P27740           <a href=\"file://c:\\Users\\Fofinha\\anaconda3\\Lib\\site-packages\\graphein\\protein\\utils.py\"><span style=\"color: #7f7f7f; text-decoration-color: #7f7f7f\">utils.py</span></a><span style=\"color: #7f7f7f; text-decoration-color: #7f7f7f\">:349</span>\n",
       "</pre>\n"
      ],
      "text/plain": [
       "\u001b[2;36m                   \u001b[0m\u001b[2;36m \u001b[0m\u001b[34mINFO    \u001b[0m Downloaded AlphaFold PDB file for: P27740           \u001b]8;id=70665;file://c:\\Users\\Fofinha\\anaconda3\\Lib\\site-packages\\graphein\\protein\\utils.py\u001b\\\u001b[2mutils.py\u001b[0m\u001b]8;;\u001b\\\u001b[2m:349\u001b[0m\n"
      ]
     },
     "metadata": {},
     "output_type": "display_data"
    },
    {
     "name": "stdout",
     "output_type": "stream",
     "text": [
      "AlphaFold file downloaded: C:\\Users\\Fofinha\\Desktop\\UNI\\MESTRADO\\propythia\\pdb_files\\P27740.pdb\n"
     ]
    },
    {
     "data": {
      "application/vnd.jupyter.widget-view+json": {
       "model_id": "8940167e43c04edfa54224e3d918c3c4",
       "version_major": 2,
       "version_minor": 0
      },
      "text/plain": [
       "Output()"
      ]
     },
     "metadata": {},
     "output_type": "display_data"
    },
    {
     "data": {
      "text/html": [
       "<pre style=\"white-space:pre;overflow-x:auto;line-height:normal;font-family:Menlo,'DejaVu Sans Mono',consolas,'Courier New',monospace\"><span style=\"color: #7fbfbf; text-decoration-color: #7fbfbf\">                    </span><span style=\"color: #008000; text-decoration-color: #008000\">DEBUG   </span> Deprotonating protein. This removes H atoms from   <a href=\"file://c:\\Users\\Fofinha\\anaconda3\\Lib\\site-packages\\graphein\\protein\\graphs.py\"><span style=\"color: #7f7f7f; text-decoration-color: #7f7f7f\">graphs.py</span></a><span style=\"color: #7f7f7f; text-decoration-color: #7f7f7f\">:188</span>\n",
       "                             the pdb_df dataframe                                            \n",
       "</pre>\n"
      ],
      "text/plain": [
       "\u001b[2;36m                   \u001b[0m\u001b[2;36m \u001b[0m\u001b[32mDEBUG   \u001b[0m Deprotonating protein. This removes H atoms from   \u001b]8;id=279208;file://c:\\Users\\Fofinha\\anaconda3\\Lib\\site-packages\\graphein\\protein\\graphs.py\u001b\\\u001b[2mgraphs.py\u001b[0m\u001b]8;;\u001b\\\u001b[2m:188\u001b[0m\n",
       "                             the pdb_df dataframe                                            \n"
      ]
     },
     "metadata": {},
     "output_type": "display_data"
    },
    {
     "data": {
      "text/html": [
       "<pre style=\"white-space:pre;overflow-x:auto;line-height:normal;font-family:Menlo,'DejaVu Sans Mono',consolas,'Courier New',monospace\"><span style=\"color: #7fbfbf; text-decoration-color: #7fbfbf\">                    </span><span style=\"color: #008000; text-decoration-color: #008000\">DEBUG   </span> Detected <span style=\"color: #008080; text-decoration-color: #008080; font-weight: bold\">178</span> total nodes                           <a href=\"file://c:\\Users\\Fofinha\\anaconda3\\Lib\\site-packages\\graphein\\protein\\graphs.py\"><span style=\"color: #7f7f7f; text-decoration-color: #7f7f7f\">graphs.py</span></a><span style=\"color: #7f7f7f; text-decoration-color: #7f7f7f\">:435</span>\n",
       "</pre>\n"
      ],
      "text/plain": [
       "\u001b[2;36m                   \u001b[0m\u001b[2;36m \u001b[0m\u001b[32mDEBUG   \u001b[0m Detected \u001b[1;36m178\u001b[0m total nodes                           \u001b]8;id=966005;file://c:\\Users\\Fofinha\\anaconda3\\Lib\\site-packages\\graphein\\protein\\graphs.py\u001b\\\u001b[2mgraphs.py\u001b[0m\u001b]8;;\u001b\\\u001b[2m:435\u001b[0m\n"
      ]
     },
     "metadata": {},
     "output_type": "display_data"
    },
    {
     "name": "stderr",
     "output_type": "stream",
     "text": [
      "c:\\Users\\Fofinha\\anaconda3\\Lib\\site-packages\\graphein\\protein\\edges\\distance.py:1213: FutureWarning: The default value of numeric_only in DataFrameGroupBy.mean is deprecated. In a future version, numeric_only will default to False. Either specify numeric_only or select only columns which should be valid for the function.\n",
      "  .mean()[[\"x_coord\", \"y_coord\", \"z_coord\"]]\n",
      "c:\\Users\\Fofinha\\anaconda3\\Lib\\site-packages\\graphein\\protein\\edges\\distance.py:1213: FutureWarning: The default value of numeric_only in DataFrameGroupBy.mean is deprecated. In a future version, numeric_only will default to False. Either specify numeric_only or select only columns which should be valid for the function.\n",
      "  .mean()[[\"x_coord\", \"y_coord\", \"z_coord\"]]\n",
      "c:\\Users\\Fofinha\\anaconda3\\Lib\\site-packages\\graphein\\protein\\edges\\distance.py:1213: FutureWarning: The default value of numeric_only in DataFrameGroupBy.mean is deprecated. In a future version, numeric_only will default to False. Either specify numeric_only or select only columns which should be valid for the function.\n",
      "  .mean()[[\"x_coord\", \"y_coord\", \"z_coord\"]]\n",
      "c:\\Users\\Fofinha\\anaconda3\\Lib\\site-packages\\graphein\\protein\\edges\\distance.py:1213: FutureWarning: The default value of numeric_only in DataFrameGroupBy.mean is deprecated. In a future version, numeric_only will default to False. Either specify numeric_only or select only columns which should be valid for the function.\n",
      "  .mean()[[\"x_coord\", \"y_coord\", \"z_coord\"]]\n"
     ]
    },
    {
     "data": {
      "text/html": [
       "<pre style=\"white-space:pre;overflow-x:auto;line-height:normal;font-family:Menlo,'DejaVu Sans Mono',consolas,'Courier New',monospace\"><span style=\"color: #7fbfbf; text-decoration-color: #7fbfbf\">[11/06/24 16:07:20] </span><span style=\"color: #000080; text-decoration-color: #000080\">INFO    </span> Found: <span style=\"color: #008080; text-decoration-color: #008080; font-weight: bold\">6</span> aromatic-aromatic interactions          <a href=\"file://c:\\Users\\Fofinha\\anaconda3\\Lib\\site-packages\\graphein\\protein\\edges\\distance.py\"><span style=\"color: #7f7f7f; text-decoration-color: #7f7f7f\">distance.py</span></a><span style=\"color: #7f7f7f; text-decoration-color: #7f7f7f\">:467</span>\n",
       "</pre>\n"
      ],
      "text/plain": [
       "\u001b[2;36m[11/06/24 16:07:20]\u001b[0m\u001b[2;36m \u001b[0m\u001b[34mINFO    \u001b[0m Found: \u001b[1;36m6\u001b[0m aromatic-aromatic interactions          \u001b]8;id=41534;file://c:\\Users\\Fofinha\\anaconda3\\Lib\\site-packages\\graphein\\protein\\edges\\distance.py\u001b\\\u001b[2mdistance.py\u001b[0m\u001b]8;;\u001b\\\u001b[2m:467\u001b[0m\n"
      ]
     },
     "metadata": {},
     "output_type": "display_data"
    },
    {
     "data": {
      "text/html": [
       "<pre style=\"white-space:pre;overflow-x:auto;line-height:normal;font-family:Menlo,'DejaVu Sans Mono',consolas,'Courier New',monospace\"><span style=\"color: #7fbfbf; text-decoration-color: #7fbfbf\">                    </span><span style=\"color: #000080; text-decoration-color: #000080\">INFO    </span> Found <span style=\"color: #008080; text-decoration-color: #008080; font-weight: bold\">68</span> hbond interactions.                    <a href=\"file://c:\\Users\\Fofinha\\anaconda3\\Lib\\site-packages\\graphein\\protein\\edges\\distance.py\"><span style=\"color: #7f7f7f; text-decoration-color: #7f7f7f\">distance.py</span></a><span style=\"color: #7f7f7f; text-decoration-color: #7f7f7f\">:1344</span>\n",
       "</pre>\n"
      ],
      "text/plain": [
       "\u001b[2;36m                   \u001b[0m\u001b[2;36m \u001b[0m\u001b[34mINFO    \u001b[0m Found \u001b[1;36m68\u001b[0m hbond interactions.                    \u001b]8;id=385971;file://c:\\Users\\Fofinha\\anaconda3\\Lib\\site-packages\\graphein\\protein\\edges\\distance.py\u001b\\\u001b[2mdistance.py\u001b[0m\u001b]8;;\u001b\\\u001b[2m:1344\u001b[0m\n"
      ]
     },
     "metadata": {},
     "output_type": "display_data"
    },
    {
     "data": {
      "text/html": [
       "<pre style=\"white-space:pre;overflow-x:auto;line-height:normal;font-family:Menlo,'DejaVu Sans Mono',consolas,'Courier New',monospace\"><span style=\"color: #7fbfbf; text-decoration-color: #7fbfbf\">                    </span><span style=\"color: #000080; text-decoration-color: #000080\">INFO    </span> Found <span style=\"color: #008080; text-decoration-color: #008080; font-weight: bold\">21</span> hbond interactions.                    <a href=\"file://c:\\Users\\Fofinha\\anaconda3\\Lib\\site-packages\\graphein\\protein\\edges\\distance.py\"><span style=\"color: #7f7f7f; text-decoration-color: #7f7f7f\">distance.py</span></a><span style=\"color: #7f7f7f; text-decoration-color: #7f7f7f\">:1344</span>\n",
       "</pre>\n"
      ],
      "text/plain": [
       "\u001b[2;36m                   \u001b[0m\u001b[2;36m \u001b[0m\u001b[34mINFO    \u001b[0m Found \u001b[1;36m21\u001b[0m hbond interactions.                    \u001b]8;id=349916;file://c:\\Users\\Fofinha\\anaconda3\\Lib\\site-packages\\graphein\\protein\\edges\\distance.py\u001b\\\u001b[2mdistance.py\u001b[0m\u001b]8;;\u001b\\\u001b[2m:1344\u001b[0m\n"
      ]
     },
     "metadata": {},
     "output_type": "display_data"
    },
    {
     "data": {
      "text/html": [
       "<pre style=\"white-space:pre;overflow-x:auto;line-height:normal;font-family:Menlo,'DejaVu Sans Mono',consolas,'Courier New',monospace\"><span style=\"color: #7fbfbf; text-decoration-color: #7fbfbf\">                    </span><span style=\"color: #000080; text-decoration-color: #000080\">INFO    </span> Found <span style=\"color: #008080; text-decoration-color: #008080; font-weight: bold\">1165</span> ionic interactions.                  <a href=\"file://c:\\Users\\Fofinha\\anaconda3\\Lib\\site-packages\\graphein\\protein\\edges\\distance.py\"><span style=\"color: #7f7f7f; text-decoration-color: #7f7f7f\">distance.py</span></a><span style=\"color: #7f7f7f; text-decoration-color: #7f7f7f\">:1344</span>\n",
       "</pre>\n"
      ],
      "text/plain": [
       "\u001b[2;36m                   \u001b[0m\u001b[2;36m \u001b[0m\u001b[34mINFO    \u001b[0m Found \u001b[1;36m1165\u001b[0m ionic interactions.                  \u001b]8;id=508839;file://c:\\Users\\Fofinha\\anaconda3\\Lib\\site-packages\\graphein\\protein\\edges\\distance.py\u001b\\\u001b[2mdistance.py\u001b[0m\u001b]8;;\u001b\\\u001b[2m:1344\u001b[0m\n"
      ]
     },
     "metadata": {},
     "output_type": "display_data"
    },
    {
     "data": {
      "text/html": [
       "<pre style=\"white-space:pre;overflow-x:auto;line-height:normal;font-family:Menlo,'DejaVu Sans Mono',consolas,'Courier New',monospace\"><span style=\"color: #7fbfbf; text-decoration-color: #7fbfbf\">                    </span><span style=\"color: #000080; text-decoration-color: #000080\">INFO    </span> Found <span style=\"color: #008080; text-decoration-color: #008080; font-weight: bold\">216</span> hydrophobic interactions.             <a href=\"file://c:\\Users\\Fofinha\\anaconda3\\Lib\\site-packages\\graphein\\protein\\edges\\distance.py\"><span style=\"color: #7f7f7f; text-decoration-color: #7f7f7f\">distance.py</span></a><span style=\"color: #7f7f7f; text-decoration-color: #7f7f7f\">:1344</span>\n",
       "</pre>\n"
      ],
      "text/plain": [
       "\u001b[2;36m                   \u001b[0m\u001b[2;36m \u001b[0m\u001b[34mINFO    \u001b[0m Found \u001b[1;36m216\u001b[0m hydrophobic interactions.             \u001b]8;id=715445;file://c:\\Users\\Fofinha\\anaconda3\\Lib\\site-packages\\graphein\\protein\\edges\\distance.py\u001b\\\u001b[2mdistance.py\u001b[0m\u001b]8;;\u001b\\\u001b[2m:1344\u001b[0m\n"
      ]
     },
     "metadata": {},
     "output_type": "display_data"
    },
    {
     "data": {
      "text/html": [
       "<pre style=\"white-space:pre;overflow-x:auto;line-height:normal;font-family:Menlo,'DejaVu Sans Mono',consolas,'Courier New',monospace\"><span style=\"color: #7fbfbf; text-decoration-color: #7fbfbf\">                    </span><span style=\"color: #000080; text-decoration-color: #000080\">INFO    </span> Found <span style=\"color: #008080; text-decoration-color: #008080; font-weight: bold\">1338</span> vdw interactions.                    <a href=\"file://c:\\Users\\Fofinha\\anaconda3\\Lib\\site-packages\\graphein\\protein\\edges\\distance.py\"><span style=\"color: #7f7f7f; text-decoration-color: #7f7f7f\">distance.py</span></a><span style=\"color: #7f7f7f; text-decoration-color: #7f7f7f\">:1344</span>\n",
       "</pre>\n"
      ],
      "text/plain": [
       "\u001b[2;36m                   \u001b[0m\u001b[2;36m \u001b[0m\u001b[34mINFO    \u001b[0m Found \u001b[1;36m1338\u001b[0m vdw interactions.                    \u001b]8;id=574781;file://c:\\Users\\Fofinha\\anaconda3\\Lib\\site-packages\\graphein\\protein\\edges\\distance.py\u001b\\\u001b[2mdistance.py\u001b[0m\u001b]8;;\u001b\\\u001b[2m:1344\u001b[0m\n"
      ]
     },
     "metadata": {},
     "output_type": "display_data"
    },
    {
     "data": {
      "text/html": [
       "<pre style=\"white-space:pre;overflow-x:auto;line-height:normal;font-family:Menlo,'DejaVu Sans Mono',consolas,'Courier New',monospace\"><span style=\"color: #7fbfbf; text-decoration-color: #7fbfbf\">                    </span><span style=\"color: #000080; text-decoration-color: #000080\">INFO    </span> Found <span style=\"color: #008080; text-decoration-color: #008080; font-weight: bold\">37</span> salt_bridge interactions.              <a href=\"file://c:\\Users\\Fofinha\\anaconda3\\Lib\\site-packages\\graphein\\protein\\edges\\distance.py\"><span style=\"color: #7f7f7f; text-decoration-color: #7f7f7f\">distance.py</span></a><span style=\"color: #7f7f7f; text-decoration-color: #7f7f7f\">:1344</span>\n",
       "</pre>\n"
      ],
      "text/plain": [
       "\u001b[2;36m                   \u001b[0m\u001b[2;36m \u001b[0m\u001b[34mINFO    \u001b[0m Found \u001b[1;36m37\u001b[0m salt_bridge interactions.              \u001b]8;id=435525;file://c:\\Users\\Fofinha\\anaconda3\\Lib\\site-packages\\graphein\\protein\\edges\\distance.py\u001b\\\u001b[2mdistance.py\u001b[0m\u001b]8;;\u001b\\\u001b[2m:1344\u001b[0m\n"
      ]
     },
     "metadata": {},
     "output_type": "display_data"
    },
    {
     "data": {
      "text/html": [
       "<pre style=\"white-space:pre;overflow-x:auto;line-height:normal;font-family:Menlo,'DejaVu Sans Mono',consolas,'Courier New',monospace\"><span style=\"color: #7fbfbf; text-decoration-color: #7fbfbf\">                    </span><span style=\"color: #000080; text-decoration-color: #000080\">INFO    </span> Found: <span style=\"color: #008080; text-decoration-color: #008080; font-weight: bold\">532</span> distance edges                        <a href=\"file://c:\\Users\\Fofinha\\anaconda3\\Lib\\site-packages\\graphein\\protein\\edges\\distance.py\"><span style=\"color: #7f7f7f; text-decoration-color: #7f7f7f\">distance.py</span></a><span style=\"color: #7f7f7f; text-decoration-color: #7f7f7f\">:964</span>\n",
       "</pre>\n"
      ],
      "text/plain": [
       "\u001b[2;36m                   \u001b[0m\u001b[2;36m \u001b[0m\u001b[34mINFO    \u001b[0m Found: \u001b[1;36m532\u001b[0m distance edges                        \u001b]8;id=981724;file://c:\\Users\\Fofinha\\anaconda3\\Lib\\site-packages\\graphein\\protein\\edges\\distance.py\u001b\\\u001b[2mdistance.py\u001b[0m\u001b]8;;\u001b\\\u001b[2m:964\u001b[0m\n"
      ]
     },
     "metadata": {},
     "output_type": "display_data"
    },
    {
     "data": {
      "text/html": [
       "<pre style=\"white-space:pre;overflow-x:auto;line-height:normal;font-family:Menlo,'DejaVu Sans Mono',consolas,'Courier New',monospace\"><span style=\"color: #7fbfbf; text-decoration-color: #7fbfbf\">                    </span><span style=\"color: #000080; text-decoration-color: #000080\">INFO    </span> Added <span style=\"color: #008080; text-decoration-color: #008080; font-weight: bold\">0</span> distance edges. <span style=\"font-weight: bold\">(</span><span style=\"color: #008080; text-decoration-color: #008080; font-weight: bold\">532</span>            removed  <a href=\"file://c:\\Users\\Fofinha\\anaconda3\\Lib\\site-packages\\graphein\\protein\\edges\\distance.py\"><span style=\"color: #7f7f7f; text-decoration-color: #7f7f7f\">distance.py</span></a><span style=\"color: #7f7f7f; text-decoration-color: #7f7f7f\">:983</span>\n",
       "                             by LIN<span style=\"font-weight: bold\">)</span>                                                         \n",
       "</pre>\n"
      ],
      "text/plain": [
       "\u001b[2;36m                   \u001b[0m\u001b[2;36m \u001b[0m\u001b[34mINFO    \u001b[0m Added \u001b[1;36m0\u001b[0m distance edges. \u001b[1m(\u001b[0m\u001b[1;36m532\u001b[0m            removed  \u001b]8;id=352370;file://c:\\Users\\Fofinha\\anaconda3\\Lib\\site-packages\\graphein\\protein\\edges\\distance.py\u001b\\\u001b[2mdistance.py\u001b[0m\u001b]8;;\u001b\\\u001b[2m:983\u001b[0m\n",
       "                             by LIN\u001b[1m)\u001b[0m                                                         \n"
      ]
     },
     "metadata": {},
     "output_type": "display_data"
    },
    {
     "data": {
      "text/html": [
       "<pre style=\"white-space:pre;overflow-x:auto;line-height:normal;font-family:Menlo,'DejaVu Sans Mono',consolas,'Courier New',monospace\"></pre>\n"
      ],
      "text/plain": []
     },
     "metadata": {},
     "output_type": "display_data"
    },
    {
     "name": "stdout",
     "output_type": "stream",
     "text": [
      "<src.propythia.protein.structure.Graph object at 0x0000020782CF6290>\n",
      "P15494\n"
     ]
    },
    {
     "data": {
      "text/html": [
       "<pre style=\"white-space:pre;overflow-x:auto;line-height:normal;font-family:Menlo,'DejaVu Sans Mono',consolas,'Courier New',monospace\"><span style=\"color: #7fbfbf; text-decoration-color: #7fbfbf\">                    </span><span style=\"color: #000080; text-decoration-color: #000080\">INFO    </span> Downloaded AlphaFold PDB file for: P15494           <a href=\"file://c:\\Users\\Fofinha\\anaconda3\\Lib\\site-packages\\graphein\\protein\\utils.py\"><span style=\"color: #7f7f7f; text-decoration-color: #7f7f7f\">utils.py</span></a><span style=\"color: #7f7f7f; text-decoration-color: #7f7f7f\">:349</span>\n",
       "</pre>\n"
      ],
      "text/plain": [
       "\u001b[2;36m                   \u001b[0m\u001b[2;36m \u001b[0m\u001b[34mINFO    \u001b[0m Downloaded AlphaFold PDB file for: P15494           \u001b]8;id=279447;file://c:\\Users\\Fofinha\\anaconda3\\Lib\\site-packages\\graphein\\protein\\utils.py\u001b\\\u001b[2mutils.py\u001b[0m\u001b]8;;\u001b\\\u001b[2m:349\u001b[0m\n"
      ]
     },
     "metadata": {},
     "output_type": "display_data"
    },
    {
     "name": "stdout",
     "output_type": "stream",
     "text": [
      "AlphaFold file downloaded: C:\\Users\\Fofinha\\Desktop\\UNI\\MESTRADO\\propythia\\pdb_files\\P15494.pdb\n"
     ]
    },
    {
     "data": {
      "application/vnd.jupyter.widget-view+json": {
       "model_id": "c6c0a43c75f046079e20bf9326a2e532",
       "version_major": 2,
       "version_minor": 0
      },
      "text/plain": [
       "Output()"
      ]
     },
     "metadata": {},
     "output_type": "display_data"
    },
    {
     "data": {
      "text/html": [
       "<pre style=\"white-space:pre;overflow-x:auto;line-height:normal;font-family:Menlo,'DejaVu Sans Mono',consolas,'Courier New',monospace\"><span style=\"color: #7fbfbf; text-decoration-color: #7fbfbf\">                    </span><span style=\"color: #008000; text-decoration-color: #008000\">DEBUG   </span> Deprotonating protein. This removes H atoms from   <a href=\"file://c:\\Users\\Fofinha\\anaconda3\\Lib\\site-packages\\graphein\\protein\\graphs.py\"><span style=\"color: #7f7f7f; text-decoration-color: #7f7f7f\">graphs.py</span></a><span style=\"color: #7f7f7f; text-decoration-color: #7f7f7f\">:188</span>\n",
       "                             the pdb_df dataframe                                            \n",
       "</pre>\n"
      ],
      "text/plain": [
       "\u001b[2;36m                   \u001b[0m\u001b[2;36m \u001b[0m\u001b[32mDEBUG   \u001b[0m Deprotonating protein. This removes H atoms from   \u001b]8;id=777155;file://c:\\Users\\Fofinha\\anaconda3\\Lib\\site-packages\\graphein\\protein\\graphs.py\u001b\\\u001b[2mgraphs.py\u001b[0m\u001b]8;;\u001b\\\u001b[2m:188\u001b[0m\n",
       "                             the pdb_df dataframe                                            \n"
      ]
     },
     "metadata": {},
     "output_type": "display_data"
    },
    {
     "data": {
      "text/html": [
       "<pre style=\"white-space:pre;overflow-x:auto;line-height:normal;font-family:Menlo,'DejaVu Sans Mono',consolas,'Courier New',monospace\"><span style=\"color: #7fbfbf; text-decoration-color: #7fbfbf\">                    </span><span style=\"color: #008000; text-decoration-color: #008000\">DEBUG   </span> Detected <span style=\"color: #008080; text-decoration-color: #008080; font-weight: bold\">160</span> total nodes                           <a href=\"file://c:\\Users\\Fofinha\\anaconda3\\Lib\\site-packages\\graphein\\protein\\graphs.py\"><span style=\"color: #7f7f7f; text-decoration-color: #7f7f7f\">graphs.py</span></a><span style=\"color: #7f7f7f; text-decoration-color: #7f7f7f\">:435</span>\n",
       "</pre>\n"
      ],
      "text/plain": [
       "\u001b[2;36m                   \u001b[0m\u001b[2;36m \u001b[0m\u001b[32mDEBUG   \u001b[0m Detected \u001b[1;36m160\u001b[0m total nodes                           \u001b]8;id=26246;file://c:\\Users\\Fofinha\\anaconda3\\Lib\\site-packages\\graphein\\protein\\graphs.py\u001b\\\u001b[2mgraphs.py\u001b[0m\u001b]8;;\u001b\\\u001b[2m:435\u001b[0m\n"
      ]
     },
     "metadata": {},
     "output_type": "display_data"
    },
    {
     "name": "stderr",
     "output_type": "stream",
     "text": [
      "c:\\Users\\Fofinha\\anaconda3\\Lib\\site-packages\\graphein\\protein\\edges\\distance.py:1213: FutureWarning: The default value of numeric_only in DataFrameGroupBy.mean is deprecated. In a future version, numeric_only will default to False. Either specify numeric_only or select only columns which should be valid for the function.\n",
      "  .mean()[[\"x_coord\", \"y_coord\", \"z_coord\"]]\n",
      "c:\\Users\\Fofinha\\anaconda3\\Lib\\site-packages\\graphein\\protein\\edges\\distance.py:1213: FutureWarning: The default value of numeric_only in DataFrameGroupBy.mean is deprecated. In a future version, numeric_only will default to False. Either specify numeric_only or select only columns which should be valid for the function.\n",
      "  .mean()[[\"x_coord\", \"y_coord\", \"z_coord\"]]\n"
     ]
    },
    {
     "data": {
      "text/html": [
       "<pre style=\"white-space:pre;overflow-x:auto;line-height:normal;font-family:Menlo,'DejaVu Sans Mono',consolas,'Courier New',monospace\"><span style=\"color: #7fbfbf; text-decoration-color: #7fbfbf\">                    </span><span style=\"color: #000080; text-decoration-color: #000080\">INFO    </span> Found <span style=\"color: #008080; text-decoration-color: #008080; font-weight: bold\">76</span> hbond interactions.                    <a href=\"file://c:\\Users\\Fofinha\\anaconda3\\Lib\\site-packages\\graphein\\protein\\edges\\distance.py\"><span style=\"color: #7f7f7f; text-decoration-color: #7f7f7f\">distance.py</span></a><span style=\"color: #7f7f7f; text-decoration-color: #7f7f7f\">:1344</span>\n",
       "</pre>\n"
      ],
      "text/plain": [
       "\u001b[2;36m                   \u001b[0m\u001b[2;36m \u001b[0m\u001b[34mINFO    \u001b[0m Found \u001b[1;36m76\u001b[0m hbond interactions.                    \u001b]8;id=894026;file://c:\\Users\\Fofinha\\anaconda3\\Lib\\site-packages\\graphein\\protein\\edges\\distance.py\u001b\\\u001b[2mdistance.py\u001b[0m\u001b]8;;\u001b\\\u001b[2m:1344\u001b[0m\n"
      ]
     },
     "metadata": {},
     "output_type": "display_data"
    },
    {
     "data": {
      "text/html": [
       "<pre style=\"white-space:pre;overflow-x:auto;line-height:normal;font-family:Menlo,'DejaVu Sans Mono',consolas,'Courier New',monospace\"><span style=\"color: #7fbfbf; text-decoration-color: #7fbfbf\">                    </span><span style=\"color: #000080; text-decoration-color: #000080\">INFO    </span> Found <span style=\"color: #008080; text-decoration-color: #008080; font-weight: bold\">2</span> hbond interactions.                     <a href=\"file://c:\\Users\\Fofinha\\anaconda3\\Lib\\site-packages\\graphein\\protein\\edges\\distance.py\"><span style=\"color: #7f7f7f; text-decoration-color: #7f7f7f\">distance.py</span></a><span style=\"color: #7f7f7f; text-decoration-color: #7f7f7f\">:1344</span>\n",
       "</pre>\n"
      ],
      "text/plain": [
       "\u001b[2;36m                   \u001b[0m\u001b[2;36m \u001b[0m\u001b[34mINFO    \u001b[0m Found \u001b[1;36m2\u001b[0m hbond interactions.                     \u001b]8;id=455376;file://c:\\Users\\Fofinha\\anaconda3\\Lib\\site-packages\\graphein\\protein\\edges\\distance.py\u001b\\\u001b[2mdistance.py\u001b[0m\u001b]8;;\u001b\\\u001b[2m:1344\u001b[0m\n"
      ]
     },
     "metadata": {},
     "output_type": "display_data"
    },
    {
     "data": {
      "text/html": [
       "<pre style=\"white-space:pre;overflow-x:auto;line-height:normal;font-family:Menlo,'DejaVu Sans Mono',consolas,'Courier New',monospace\"><span style=\"color: #7fbfbf; text-decoration-color: #7fbfbf\">                    </span><span style=\"color: #008000; text-decoration-color: #008000\">DEBUG   </span> <span style=\"color: #008080; text-decoration-color: #008080; font-weight: bold\">0</span> CYS residues found. Cannot add disulfide       <a href=\"file://c:\\Users\\Fofinha\\anaconda3\\Lib\\site-packages\\graphein\\protein\\edges\\distance.py\"><span style=\"color: #7f7f7f; text-decoration-color: #7f7f7f\">distance.py</span></a><span style=\"color: #7f7f7f; text-decoration-color: #7f7f7f\">:310</span>\n",
       "                             interactions with fewer than two CYS residues.                  \n",
       "</pre>\n"
      ],
      "text/plain": [
       "\u001b[2;36m                   \u001b[0m\u001b[2;36m \u001b[0m\u001b[32mDEBUG   \u001b[0m \u001b[1;36m0\u001b[0m CYS residues found. Cannot add disulfide       \u001b]8;id=864142;file://c:\\Users\\Fofinha\\anaconda3\\Lib\\site-packages\\graphein\\protein\\edges\\distance.py\u001b\\\u001b[2mdistance.py\u001b[0m\u001b]8;;\u001b\\\u001b[2m:310\u001b[0m\n",
       "                             interactions with fewer than two CYS residues.                  \n"
      ]
     },
     "metadata": {},
     "output_type": "display_data"
    },
    {
     "data": {
      "text/html": [
       "<pre style=\"white-space:pre;overflow-x:auto;line-height:normal;font-family:Menlo,'DejaVu Sans Mono',consolas,'Courier New',monospace\"><span style=\"color: #7fbfbf; text-decoration-color: #7fbfbf\">                    </span><span style=\"color: #000080; text-decoration-color: #000080\">INFO    </span> Found <span style=\"color: #008080; text-decoration-color: #008080; font-weight: bold\">1144</span> ionic interactions.                  <a href=\"file://c:\\Users\\Fofinha\\anaconda3\\Lib\\site-packages\\graphein\\protein\\edges\\distance.py\"><span style=\"color: #7f7f7f; text-decoration-color: #7f7f7f\">distance.py</span></a><span style=\"color: #7f7f7f; text-decoration-color: #7f7f7f\">:1344</span>\n",
       "</pre>\n"
      ],
      "text/plain": [
       "\u001b[2;36m                   \u001b[0m\u001b[2;36m \u001b[0m\u001b[34mINFO    \u001b[0m Found \u001b[1;36m1144\u001b[0m ionic interactions.                  \u001b]8;id=395891;file://c:\\Users\\Fofinha\\anaconda3\\Lib\\site-packages\\graphein\\protein\\edges\\distance.py\u001b\\\u001b[2mdistance.py\u001b[0m\u001b]8;;\u001b\\\u001b[2m:1344\u001b[0m\n"
      ]
     },
     "metadata": {},
     "output_type": "display_data"
    },
    {
     "data": {
      "text/html": [
       "<pre style=\"white-space:pre;overflow-x:auto;line-height:normal;font-family:Menlo,'DejaVu Sans Mono',consolas,'Courier New',monospace\"><span style=\"color: #7fbfbf; text-decoration-color: #7fbfbf\">                    </span><span style=\"color: #000080; text-decoration-color: #000080\">INFO    </span> Found <span style=\"color: #008080; text-decoration-color: #008080; font-weight: bold\">326</span> hydrophobic interactions.             <a href=\"file://c:\\Users\\Fofinha\\anaconda3\\Lib\\site-packages\\graphein\\protein\\edges\\distance.py\"><span style=\"color: #7f7f7f; text-decoration-color: #7f7f7f\">distance.py</span></a><span style=\"color: #7f7f7f; text-decoration-color: #7f7f7f\">:1344</span>\n",
       "</pre>\n"
      ],
      "text/plain": [
       "\u001b[2;36m                   \u001b[0m\u001b[2;36m \u001b[0m\u001b[34mINFO    \u001b[0m Found \u001b[1;36m326\u001b[0m hydrophobic interactions.             \u001b]8;id=58766;file://c:\\Users\\Fofinha\\anaconda3\\Lib\\site-packages\\graphein\\protein\\edges\\distance.py\u001b\\\u001b[2mdistance.py\u001b[0m\u001b]8;;\u001b\\\u001b[2m:1344\u001b[0m\n"
      ]
     },
     "metadata": {},
     "output_type": "display_data"
    },
    {
     "data": {
      "text/html": [
       "<pre style=\"white-space:pre;overflow-x:auto;line-height:normal;font-family:Menlo,'DejaVu Sans Mono',consolas,'Courier New',monospace\"><span style=\"color: #7fbfbf; text-decoration-color: #7fbfbf\">                    </span><span style=\"color: #000080; text-decoration-color: #000080\">INFO    </span> Found <span style=\"color: #008080; text-decoration-color: #008080; font-weight: bold\">1246</span> vdw interactions.                    <a href=\"file://c:\\Users\\Fofinha\\anaconda3\\Lib\\site-packages\\graphein\\protein\\edges\\distance.py\"><span style=\"color: #7f7f7f; text-decoration-color: #7f7f7f\">distance.py</span></a><span style=\"color: #7f7f7f; text-decoration-color: #7f7f7f\">:1344</span>\n",
       "</pre>\n"
      ],
      "text/plain": [
       "\u001b[2;36m                   \u001b[0m\u001b[2;36m \u001b[0m\u001b[34mINFO    \u001b[0m Found \u001b[1;36m1246\u001b[0m vdw interactions.                    \u001b]8;id=591776;file://c:\\Users\\Fofinha\\anaconda3\\Lib\\site-packages\\graphein\\protein\\edges\\distance.py\u001b\\\u001b[2mdistance.py\u001b[0m\u001b]8;;\u001b\\\u001b[2m:1344\u001b[0m\n"
      ]
     },
     "metadata": {},
     "output_type": "display_data"
    },
    {
     "data": {
      "text/html": [
       "<pre style=\"white-space:pre;overflow-x:auto;line-height:normal;font-family:Menlo,'DejaVu Sans Mono',consolas,'Courier New',monospace\"><span style=\"color: #7fbfbf; text-decoration-color: #7fbfbf\">                    </span><span style=\"color: #000080; text-decoration-color: #000080\">INFO    </span> Found <span style=\"color: #008080; text-decoration-color: #008080; font-weight: bold\">112</span> bb_carbonyl_carbonyl interactions.    <a href=\"file://c:\\Users\\Fofinha\\anaconda3\\Lib\\site-packages\\graphein\\protein\\edges\\distance.py\"><span style=\"color: #7f7f7f; text-decoration-color: #7f7f7f\">distance.py</span></a><span style=\"color: #7f7f7f; text-decoration-color: #7f7f7f\">:1344</span>\n",
       "</pre>\n"
      ],
      "text/plain": [
       "\u001b[2;36m                   \u001b[0m\u001b[2;36m \u001b[0m\u001b[34mINFO    \u001b[0m Found \u001b[1;36m112\u001b[0m bb_carbonyl_carbonyl interactions.    \u001b]8;id=429213;file://c:\\Users\\Fofinha\\anaconda3\\Lib\\site-packages\\graphein\\protein\\edges\\distance.py\u001b\\\u001b[2mdistance.py\u001b[0m\u001b]8;;\u001b\\\u001b[2m:1344\u001b[0m\n"
      ]
     },
     "metadata": {},
     "output_type": "display_data"
    },
    {
     "data": {
      "text/html": [
       "<pre style=\"white-space:pre;overflow-x:auto;line-height:normal;font-family:Menlo,'DejaVu Sans Mono',consolas,'Courier New',monospace\"><span style=\"color: #7fbfbf; text-decoration-color: #7fbfbf\">                    </span><span style=\"color: #000080; text-decoration-color: #000080\">INFO    </span> Found <span style=\"color: #008080; text-decoration-color: #008080; font-weight: bold\">57</span> salt_bridge interactions.              <a href=\"file://c:\\Users\\Fofinha\\anaconda3\\Lib\\site-packages\\graphein\\protein\\edges\\distance.py\"><span style=\"color: #7f7f7f; text-decoration-color: #7f7f7f\">distance.py</span></a><span style=\"color: #7f7f7f; text-decoration-color: #7f7f7f\">:1344</span>\n",
       "</pre>\n"
      ],
      "text/plain": [
       "\u001b[2;36m                   \u001b[0m\u001b[2;36m \u001b[0m\u001b[34mINFO    \u001b[0m Found \u001b[1;36m57\u001b[0m salt_bridge interactions.              \u001b]8;id=574804;file://c:\\Users\\Fofinha\\anaconda3\\Lib\\site-packages\\graphein\\protein\\edges\\distance.py\u001b\\\u001b[2mdistance.py\u001b[0m\u001b]8;;\u001b\\\u001b[2m:1344\u001b[0m\n"
      ]
     },
     "metadata": {},
     "output_type": "display_data"
    },
    {
     "data": {
      "text/html": [
       "<pre style=\"white-space:pre;overflow-x:auto;line-height:normal;font-family:Menlo,'DejaVu Sans Mono',consolas,'Courier New',monospace\"><span style=\"color: #7fbfbf; text-decoration-color: #7fbfbf\">                    </span><span style=\"color: #000080; text-decoration-color: #000080\">INFO    </span> Found: <span style=\"color: #008080; text-decoration-color: #008080; font-weight: bold\">478</span> distance edges                        <a href=\"file://c:\\Users\\Fofinha\\anaconda3\\Lib\\site-packages\\graphein\\protein\\edges\\distance.py\"><span style=\"color: #7f7f7f; text-decoration-color: #7f7f7f\">distance.py</span></a><span style=\"color: #7f7f7f; text-decoration-color: #7f7f7f\">:964</span>\n",
       "</pre>\n"
      ],
      "text/plain": [
       "\u001b[2;36m                   \u001b[0m\u001b[2;36m \u001b[0m\u001b[34mINFO    \u001b[0m Found: \u001b[1;36m478\u001b[0m distance edges                        \u001b]8;id=194253;file://c:\\Users\\Fofinha\\anaconda3\\Lib\\site-packages\\graphein\\protein\\edges\\distance.py\u001b\\\u001b[2mdistance.py\u001b[0m\u001b]8;;\u001b\\\u001b[2m:964\u001b[0m\n"
      ]
     },
     "metadata": {},
     "output_type": "display_data"
    },
    {
     "data": {
      "text/html": [
       "<pre style=\"white-space:pre;overflow-x:auto;line-height:normal;font-family:Menlo,'DejaVu Sans Mono',consolas,'Courier New',monospace\"><span style=\"color: #7fbfbf; text-decoration-color: #7fbfbf\">                    </span><span style=\"color: #000080; text-decoration-color: #000080\">INFO    </span> Added <span style=\"color: #008080; text-decoration-color: #008080; font-weight: bold\">0</span> distance edges. <span style=\"font-weight: bold\">(</span><span style=\"color: #008080; text-decoration-color: #008080; font-weight: bold\">478</span>            removed  <a href=\"file://c:\\Users\\Fofinha\\anaconda3\\Lib\\site-packages\\graphein\\protein\\edges\\distance.py\"><span style=\"color: #7f7f7f; text-decoration-color: #7f7f7f\">distance.py</span></a><span style=\"color: #7f7f7f; text-decoration-color: #7f7f7f\">:983</span>\n",
       "                             by LIN<span style=\"font-weight: bold\">)</span>                                                         \n",
       "</pre>\n"
      ],
      "text/plain": [
       "\u001b[2;36m                   \u001b[0m\u001b[2;36m \u001b[0m\u001b[34mINFO    \u001b[0m Added \u001b[1;36m0\u001b[0m distance edges. \u001b[1m(\u001b[0m\u001b[1;36m478\u001b[0m            removed  \u001b]8;id=473318;file://c:\\Users\\Fofinha\\anaconda3\\Lib\\site-packages\\graphein\\protein\\edges\\distance.py\u001b\\\u001b[2mdistance.py\u001b[0m\u001b]8;;\u001b\\\u001b[2m:983\u001b[0m\n",
       "                             by LIN\u001b[1m)\u001b[0m                                                         \n"
      ]
     },
     "metadata": {},
     "output_type": "display_data"
    },
    {
     "data": {
      "text/html": [
       "<pre style=\"white-space:pre;overflow-x:auto;line-height:normal;font-family:Menlo,'DejaVu Sans Mono',consolas,'Courier New',monospace\"></pre>\n"
      ],
      "text/plain": []
     },
     "metadata": {},
     "output_type": "display_data"
    },
    {
     "name": "stdout",
     "output_type": "stream",
     "text": [
      "<src.propythia.protein.structure.Graph object at 0x00000207EF7B4090>\n",
      "P0DO15\n"
     ]
    },
    {
     "data": {
      "text/html": [
       "<pre style=\"white-space:pre;overflow-x:auto;line-height:normal;font-family:Menlo,'DejaVu Sans Mono',consolas,'Courier New',monospace\"><span style=\"color: #7fbfbf; text-decoration-color: #7fbfbf\">[11/06/24 16:07:21] </span><span style=\"color: #000080; text-decoration-color: #000080\">INFO    </span> Downloaded AlphaFold PDB file for: P0DO15           <a href=\"file://c:\\Users\\Fofinha\\anaconda3\\Lib\\site-packages\\graphein\\protein\\utils.py\"><span style=\"color: #7f7f7f; text-decoration-color: #7f7f7f\">utils.py</span></a><span style=\"color: #7f7f7f; text-decoration-color: #7f7f7f\">:349</span>\n",
       "</pre>\n"
      ],
      "text/plain": [
       "\u001b[2;36m[11/06/24 16:07:21]\u001b[0m\u001b[2;36m \u001b[0m\u001b[34mINFO    \u001b[0m Downloaded AlphaFold PDB file for: P0DO15           \u001b]8;id=530537;file://c:\\Users\\Fofinha\\anaconda3\\Lib\\site-packages\\graphein\\protein\\utils.py\u001b\\\u001b[2mutils.py\u001b[0m\u001b]8;;\u001b\\\u001b[2m:349\u001b[0m\n"
      ]
     },
     "metadata": {},
     "output_type": "display_data"
    },
    {
     "name": "stdout",
     "output_type": "stream",
     "text": [
      "AlphaFold file downloaded: C:\\Users\\Fofinha\\Desktop\\UNI\\MESTRADO\\propythia\\pdb_files\\P0DO15.pdb\n"
     ]
    },
    {
     "data": {
      "application/vnd.jupyter.widget-view+json": {
       "model_id": "60c99a40286c45059419d2427108434e",
       "version_major": 2,
       "version_minor": 0
      },
      "text/plain": [
       "Output()"
      ]
     },
     "metadata": {},
     "output_type": "display_data"
    },
    {
     "data": {
      "text/html": [
       "<pre style=\"white-space:pre;overflow-x:auto;line-height:normal;font-family:Menlo,'DejaVu Sans Mono',consolas,'Courier New',monospace\"><span style=\"color: #7fbfbf; text-decoration-color: #7fbfbf\">[11/06/24 16:07:22] </span><span style=\"color: #008000; text-decoration-color: #008000\">DEBUG   </span> Deprotonating protein. This removes H atoms from   <a href=\"file://c:\\Users\\Fofinha\\anaconda3\\Lib\\site-packages\\graphein\\protein\\graphs.py\"><span style=\"color: #7f7f7f; text-decoration-color: #7f7f7f\">graphs.py</span></a><span style=\"color: #7f7f7f; text-decoration-color: #7f7f7f\">:188</span>\n",
       "                             the pdb_df dataframe                                            \n",
       "</pre>\n"
      ],
      "text/plain": [
       "\u001b[2;36m[11/06/24 16:07:22]\u001b[0m\u001b[2;36m \u001b[0m\u001b[32mDEBUG   \u001b[0m Deprotonating protein. This removes H atoms from   \u001b]8;id=51632;file://c:\\Users\\Fofinha\\anaconda3\\Lib\\site-packages\\graphein\\protein\\graphs.py\u001b\\\u001b[2mgraphs.py\u001b[0m\u001b]8;;\u001b\\\u001b[2m:188\u001b[0m\n",
       "                             the pdb_df dataframe                                            \n"
      ]
     },
     "metadata": {},
     "output_type": "display_data"
    },
    {
     "data": {
      "text/html": [
       "<pre style=\"white-space:pre;overflow-x:auto;line-height:normal;font-family:Menlo,'DejaVu Sans Mono',consolas,'Courier New',monospace\"><span style=\"color: #7fbfbf; text-decoration-color: #7fbfbf\">                    </span><span style=\"color: #008000; text-decoration-color: #008000\">DEBUG   </span> Detected <span style=\"color: #008080; text-decoration-color: #008080; font-weight: bold\">605</span> total nodes                           <a href=\"file://c:\\Users\\Fofinha\\anaconda3\\Lib\\site-packages\\graphein\\protein\\graphs.py\"><span style=\"color: #7f7f7f; text-decoration-color: #7f7f7f\">graphs.py</span></a><span style=\"color: #7f7f7f; text-decoration-color: #7f7f7f\">:435</span>\n",
       "</pre>\n"
      ],
      "text/plain": [
       "\u001b[2;36m                   \u001b[0m\u001b[2;36m \u001b[0m\u001b[32mDEBUG   \u001b[0m Detected \u001b[1;36m605\u001b[0m total nodes                           \u001b]8;id=203219;file://c:\\Users\\Fofinha\\anaconda3\\Lib\\site-packages\\graphein\\protein\\graphs.py\u001b\\\u001b[2mgraphs.py\u001b[0m\u001b]8;;\u001b\\\u001b[2m:435\u001b[0m\n"
      ]
     },
     "metadata": {},
     "output_type": "display_data"
    },
    {
     "name": "stderr",
     "output_type": "stream",
     "text": [
      "c:\\Users\\Fofinha\\anaconda3\\Lib\\site-packages\\graphein\\protein\\edges\\distance.py:1213: FutureWarning: The default value of numeric_only in DataFrameGroupBy.mean is deprecated. In a future version, numeric_only will default to False. Either specify numeric_only or select only columns which should be valid for the function.\n",
      "  .mean()[[\"x_coord\", \"y_coord\", \"z_coord\"]]\n",
      "c:\\Users\\Fofinha\\anaconda3\\Lib\\site-packages\\graphein\\protein\\edges\\distance.py:1213: FutureWarning: The default value of numeric_only in DataFrameGroupBy.mean is deprecated. In a future version, numeric_only will default to False. Either specify numeric_only or select only columns which should be valid for the function.\n",
      "  .mean()[[\"x_coord\", \"y_coord\", \"z_coord\"]]\n",
      "c:\\Users\\Fofinha\\anaconda3\\Lib\\site-packages\\graphein\\protein\\edges\\distance.py:1213: FutureWarning: The default value of numeric_only in DataFrameGroupBy.mean is deprecated. In a future version, numeric_only will default to False. Either specify numeric_only or select only columns which should be valid for the function.\n",
      "  .mean()[[\"x_coord\", \"y_coord\", \"z_coord\"]]\n",
      "c:\\Users\\Fofinha\\anaconda3\\Lib\\site-packages\\graphein\\protein\\edges\\distance.py:1213: FutureWarning: The default value of numeric_only in DataFrameGroupBy.mean is deprecated. In a future version, numeric_only will default to False. Either specify numeric_only or select only columns which should be valid for the function.\n",
      "  .mean()[[\"x_coord\", \"y_coord\", \"z_coord\"]]\n"
     ]
    },
    {
     "data": {
      "text/html": [
       "<pre style=\"white-space:pre;overflow-x:auto;line-height:normal;font-family:Menlo,'DejaVu Sans Mono',consolas,'Courier New',monospace\"><span style=\"color: #7fbfbf; text-decoration-color: #7fbfbf\">[11/06/24 16:07:23] </span><span style=\"color: #000080; text-decoration-color: #000080\">INFO    </span> Found: <span style=\"color: #008080; text-decoration-color: #008080; font-weight: bold\">34</span> aromatic-aromatic interactions         <a href=\"file://c:\\Users\\Fofinha\\anaconda3\\Lib\\site-packages\\graphein\\protein\\edges\\distance.py\"><span style=\"color: #7f7f7f; text-decoration-color: #7f7f7f\">distance.py</span></a><span style=\"color: #7f7f7f; text-decoration-color: #7f7f7f\">:467</span>\n",
       "</pre>\n"
      ],
      "text/plain": [
       "\u001b[2;36m[11/06/24 16:07:23]\u001b[0m\u001b[2;36m \u001b[0m\u001b[34mINFO    \u001b[0m Found: \u001b[1;36m34\u001b[0m aromatic-aromatic interactions         \u001b]8;id=283125;file://c:\\Users\\Fofinha\\anaconda3\\Lib\\site-packages\\graphein\\protein\\edges\\distance.py\u001b\\\u001b[2mdistance.py\u001b[0m\u001b]8;;\u001b\\\u001b[2m:467\u001b[0m\n"
      ]
     },
     "metadata": {},
     "output_type": "display_data"
    },
    {
     "data": {
      "text/html": [
       "<pre style=\"white-space:pre;overflow-x:auto;line-height:normal;font-family:Menlo,'DejaVu Sans Mono',consolas,'Courier New',monospace\"><span style=\"color: #7fbfbf; text-decoration-color: #7fbfbf\">                    </span><span style=\"color: #000080; text-decoration-color: #000080\">INFO    </span> Found <span style=\"color: #008080; text-decoration-color: #008080; font-weight: bold\">261</span> hbond interactions.                   <a href=\"file://c:\\Users\\Fofinha\\anaconda3\\Lib\\site-packages\\graphein\\protein\\edges\\distance.py\"><span style=\"color: #7f7f7f; text-decoration-color: #7f7f7f\">distance.py</span></a><span style=\"color: #7f7f7f; text-decoration-color: #7f7f7f\">:1344</span>\n",
       "</pre>\n"
      ],
      "text/plain": [
       "\u001b[2;36m                   \u001b[0m\u001b[2;36m \u001b[0m\u001b[34mINFO    \u001b[0m Found \u001b[1;36m261\u001b[0m hbond interactions.                   \u001b]8;id=471730;file://c:\\Users\\Fofinha\\anaconda3\\Lib\\site-packages\\graphein\\protein\\edges\\distance.py\u001b\\\u001b[2mdistance.py\u001b[0m\u001b]8;;\u001b\\\u001b[2m:1344\u001b[0m\n"
      ]
     },
     "metadata": {},
     "output_type": "display_data"
    },
    {
     "data": {
      "text/html": [
       "<pre style=\"white-space:pre;overflow-x:auto;line-height:normal;font-family:Menlo,'DejaVu Sans Mono',consolas,'Courier New',monospace\"><span style=\"color: #7fbfbf; text-decoration-color: #7fbfbf\">                    </span><span style=\"color: #000080; text-decoration-color: #000080\">INFO    </span> Found <span style=\"color: #008080; text-decoration-color: #008080; font-weight: bold\">14</span> hbond interactions.                    <a href=\"file://c:\\Users\\Fofinha\\anaconda3\\Lib\\site-packages\\graphein\\protein\\edges\\distance.py\"><span style=\"color: #7f7f7f; text-decoration-color: #7f7f7f\">distance.py</span></a><span style=\"color: #7f7f7f; text-decoration-color: #7f7f7f\">:1344</span>\n",
       "</pre>\n"
      ],
      "text/plain": [
       "\u001b[2;36m                   \u001b[0m\u001b[2;36m \u001b[0m\u001b[34mINFO    \u001b[0m Found \u001b[1;36m14\u001b[0m hbond interactions.                    \u001b]8;id=163093;file://c:\\Users\\Fofinha\\anaconda3\\Lib\\site-packages\\graphein\\protein\\edges\\distance.py\u001b\\\u001b[2mdistance.py\u001b[0m\u001b]8;;\u001b\\\u001b[2m:1344\u001b[0m\n"
      ]
     },
     "metadata": {},
     "output_type": "display_data"
    },
    {
     "data": {
      "text/html": [
       "<pre style=\"white-space:pre;overflow-x:auto;line-height:normal;font-family:Menlo,'DejaVu Sans Mono',consolas,'Courier New',monospace\"><span style=\"color: #7fbfbf; text-decoration-color: #7fbfbf\">                    </span><span style=\"color: #000080; text-decoration-color: #000080\">INFO    </span> Found <span style=\"color: #008080; text-decoration-color: #008080; font-weight: bold\">9</span> disulfide interactions.                 <a href=\"file://c:\\Users\\Fofinha\\anaconda3\\Lib\\site-packages\\graphein\\protein\\edges\\distance.py\"><span style=\"color: #7f7f7f; text-decoration-color: #7f7f7f\">distance.py</span></a><span style=\"color: #7f7f7f; text-decoration-color: #7f7f7f\">:1344</span>\n",
       "</pre>\n"
      ],
      "text/plain": [
       "\u001b[2;36m                   \u001b[0m\u001b[2;36m \u001b[0m\u001b[34mINFO    \u001b[0m Found \u001b[1;36m9\u001b[0m disulfide interactions.                 \u001b]8;id=53031;file://c:\\Users\\Fofinha\\anaconda3\\Lib\\site-packages\\graphein\\protein\\edges\\distance.py\u001b\\\u001b[2mdistance.py\u001b[0m\u001b]8;;\u001b\\\u001b[2m:1344\u001b[0m\n"
      ]
     },
     "metadata": {},
     "output_type": "display_data"
    },
    {
     "data": {
      "text/html": [
       "<pre style=\"white-space:pre;overflow-x:auto;line-height:normal;font-family:Menlo,'DejaVu Sans Mono',consolas,'Courier New',monospace\"><span style=\"color: #7fbfbf; text-decoration-color: #7fbfbf\">                    </span><span style=\"color: #000080; text-decoration-color: #000080\">INFO    </span> Found <span style=\"color: #008080; text-decoration-color: #008080; font-weight: bold\">4155</span> ionic interactions.                  <a href=\"file://c:\\Users\\Fofinha\\anaconda3\\Lib\\site-packages\\graphein\\protein\\edges\\distance.py\"><span style=\"color: #7f7f7f; text-decoration-color: #7f7f7f\">distance.py</span></a><span style=\"color: #7f7f7f; text-decoration-color: #7f7f7f\">:1344</span>\n",
       "</pre>\n"
      ],
      "text/plain": [
       "\u001b[2;36m                   \u001b[0m\u001b[2;36m \u001b[0m\u001b[34mINFO    \u001b[0m Found \u001b[1;36m4155\u001b[0m ionic interactions.                  \u001b]8;id=412300;file://c:\\Users\\Fofinha\\anaconda3\\Lib\\site-packages\\graphein\\protein\\edges\\distance.py\u001b\\\u001b[2mdistance.py\u001b[0m\u001b]8;;\u001b\\\u001b[2m:1344\u001b[0m\n"
      ]
     },
     "metadata": {},
     "output_type": "display_data"
    },
    {
     "data": {
      "text/html": [
       "<pre style=\"white-space:pre;overflow-x:auto;line-height:normal;font-family:Menlo,'DejaVu Sans Mono',consolas,'Courier New',monospace\"><span style=\"color: #7fbfbf; text-decoration-color: #7fbfbf\">                    </span><span style=\"color: #000080; text-decoration-color: #000080\">INFO    </span> Found <span style=\"color: #008080; text-decoration-color: #008080; font-weight: bold\">986</span> hydrophobic interactions.             <a href=\"file://c:\\Users\\Fofinha\\anaconda3\\Lib\\site-packages\\graphein\\protein\\edges\\distance.py\"><span style=\"color: #7f7f7f; text-decoration-color: #7f7f7f\">distance.py</span></a><span style=\"color: #7f7f7f; text-decoration-color: #7f7f7f\">:1344</span>\n",
       "</pre>\n"
      ],
      "text/plain": [
       "\u001b[2;36m                   \u001b[0m\u001b[2;36m \u001b[0m\u001b[34mINFO    \u001b[0m Found \u001b[1;36m986\u001b[0m hydrophobic interactions.             \u001b]8;id=392984;file://c:\\Users\\Fofinha\\anaconda3\\Lib\\site-packages\\graphein\\protein\\edges\\distance.py\u001b\\\u001b[2mdistance.py\u001b[0m\u001b]8;;\u001b\\\u001b[2m:1344\u001b[0m\n"
      ]
     },
     "metadata": {},
     "output_type": "display_data"
    },
    {
     "data": {
      "text/html": [
       "<pre style=\"white-space:pre;overflow-x:auto;line-height:normal;font-family:Menlo,'DejaVu Sans Mono',consolas,'Courier New',monospace\"><span style=\"color: #7fbfbf; text-decoration-color: #7fbfbf\">                    </span><span style=\"color: #000080; text-decoration-color: #000080\">INFO    </span> Found <span style=\"color: #008080; text-decoration-color: #008080; font-weight: bold\">4227</span> vdw interactions.                    <a href=\"file://c:\\Users\\Fofinha\\anaconda3\\Lib\\site-packages\\graphein\\protein\\edges\\distance.py\"><span style=\"color: #7f7f7f; text-decoration-color: #7f7f7f\">distance.py</span></a><span style=\"color: #7f7f7f; text-decoration-color: #7f7f7f\">:1344</span>\n",
       "</pre>\n"
      ],
      "text/plain": [
       "\u001b[2;36m                   \u001b[0m\u001b[2;36m \u001b[0m\u001b[34mINFO    \u001b[0m Found \u001b[1;36m4227\u001b[0m vdw interactions.                    \u001b]8;id=598360;file://c:\\Users\\Fofinha\\anaconda3\\Lib\\site-packages\\graphein\\protein\\edges\\distance.py\u001b\\\u001b[2mdistance.py\u001b[0m\u001b]8;;\u001b\\\u001b[2m:1344\u001b[0m\n"
      ]
     },
     "metadata": {},
     "output_type": "display_data"
    },
    {
     "data": {
      "text/html": [
       "<pre style=\"white-space:pre;overflow-x:auto;line-height:normal;font-family:Menlo,'DejaVu Sans Mono',consolas,'Courier New',monospace\"><span style=\"color: #7fbfbf; text-decoration-color: #7fbfbf\">                    </span><span style=\"color: #000080; text-decoration-color: #000080\">INFO    </span> Found <span style=\"color: #008080; text-decoration-color: #008080; font-weight: bold\">456</span> bb_carbonyl_carbonyl interactions.    <a href=\"file://c:\\Users\\Fofinha\\anaconda3\\Lib\\site-packages\\graphein\\protein\\edges\\distance.py\"><span style=\"color: #7f7f7f; text-decoration-color: #7f7f7f\">distance.py</span></a><span style=\"color: #7f7f7f; text-decoration-color: #7f7f7f\">:1344</span>\n",
       "</pre>\n"
      ],
      "text/plain": [
       "\u001b[2;36m                   \u001b[0m\u001b[2;36m \u001b[0m\u001b[34mINFO    \u001b[0m Found \u001b[1;36m456\u001b[0m bb_carbonyl_carbonyl interactions.    \u001b]8;id=192;file://c:\\Users\\Fofinha\\anaconda3\\Lib\\site-packages\\graphein\\protein\\edges\\distance.py\u001b\\\u001b[2mdistance.py\u001b[0m\u001b]8;;\u001b\\\u001b[2m:1344\u001b[0m\n"
      ]
     },
     "metadata": {},
     "output_type": "display_data"
    },
    {
     "data": {
      "text/html": [
       "<pre style=\"white-space:pre;overflow-x:auto;line-height:normal;font-family:Menlo,'DejaVu Sans Mono',consolas,'Courier New',monospace\"><span style=\"color: #7fbfbf; text-decoration-color: #7fbfbf\">                    </span><span style=\"color: #000080; text-decoration-color: #000080\">INFO    </span> Found: <span style=\"color: #008080; text-decoration-color: #008080; font-weight: bold\">1817</span> distance edges                       <a href=\"file://c:\\Users\\Fofinha\\anaconda3\\Lib\\site-packages\\graphein\\protein\\edges\\distance.py\"><span style=\"color: #7f7f7f; text-decoration-color: #7f7f7f\">distance.py</span></a><span style=\"color: #7f7f7f; text-decoration-color: #7f7f7f\">:964</span>\n",
       "</pre>\n"
      ],
      "text/plain": [
       "\u001b[2;36m                   \u001b[0m\u001b[2;36m \u001b[0m\u001b[34mINFO    \u001b[0m Found: \u001b[1;36m1817\u001b[0m distance edges                       \u001b]8;id=56706;file://c:\\Users\\Fofinha\\anaconda3\\Lib\\site-packages\\graphein\\protein\\edges\\distance.py\u001b\\\u001b[2mdistance.py\u001b[0m\u001b]8;;\u001b\\\u001b[2m:964\u001b[0m\n"
      ]
     },
     "metadata": {},
     "output_type": "display_data"
    },
    {
     "data": {
      "text/html": [
       "<pre style=\"white-space:pre;overflow-x:auto;line-height:normal;font-family:Menlo,'DejaVu Sans Mono',consolas,'Courier New',monospace\"><span style=\"color: #7fbfbf; text-decoration-color: #7fbfbf\">                    </span><span style=\"color: #000080; text-decoration-color: #000080\">INFO    </span> Added <span style=\"color: #008080; text-decoration-color: #008080; font-weight: bold\">4</span> distance edges. <span style=\"font-weight: bold\">(</span><span style=\"color: #008080; text-decoration-color: #008080; font-weight: bold\">1813</span>            removed <a href=\"file://c:\\Users\\Fofinha\\anaconda3\\Lib\\site-packages\\graphein\\protein\\edges\\distance.py\"><span style=\"color: #7f7f7f; text-decoration-color: #7f7f7f\">distance.py</span></a><span style=\"color: #7f7f7f; text-decoration-color: #7f7f7f\">:983</span>\n",
       "                             by LIN<span style=\"font-weight: bold\">)</span>                                                         \n",
       "</pre>\n"
      ],
      "text/plain": [
       "\u001b[2;36m                   \u001b[0m\u001b[2;36m \u001b[0m\u001b[34mINFO    \u001b[0m Added \u001b[1;36m4\u001b[0m distance edges. \u001b[1m(\u001b[0m\u001b[1;36m1813\u001b[0m            removed \u001b]8;id=193604;file://c:\\Users\\Fofinha\\anaconda3\\Lib\\site-packages\\graphein\\protein\\edges\\distance.py\u001b\\\u001b[2mdistance.py\u001b[0m\u001b]8;;\u001b\\\u001b[2m:983\u001b[0m\n",
       "                             by LIN\u001b[1m)\u001b[0m                                                         \n"
      ]
     },
     "metadata": {},
     "output_type": "display_data"
    },
    {
     "data": {
      "text/html": [
       "<pre style=\"white-space:pre;overflow-x:auto;line-height:normal;font-family:Menlo,'DejaVu Sans Mono',consolas,'Courier New',monospace\"></pre>\n"
      ],
      "text/plain": []
     },
     "metadata": {},
     "output_type": "display_data"
    },
    {
     "name": "stdout",
     "output_type": "stream",
     "text": [
      "<src.propythia.protein.structure.Graph object at 0x0000020782CF6290>\n",
      "P31541\n"
     ]
    },
    {
     "data": {
      "text/html": [
       "<pre style=\"white-space:pre;overflow-x:auto;line-height:normal;font-family:Menlo,'DejaVu Sans Mono',consolas,'Courier New',monospace\"><span style=\"color: #7fbfbf; text-decoration-color: #7fbfbf\">[11/06/24 16:07:24] </span><span style=\"color: #000080; text-decoration-color: #000080\">INFO    </span> Downloaded AlphaFold PDB file for: P31541           <a href=\"file://c:\\Users\\Fofinha\\anaconda3\\Lib\\site-packages\\graphein\\protein\\utils.py\"><span style=\"color: #7f7f7f; text-decoration-color: #7f7f7f\">utils.py</span></a><span style=\"color: #7f7f7f; text-decoration-color: #7f7f7f\">:349</span>\n",
       "</pre>\n"
      ],
      "text/plain": [
       "\u001b[2;36m[11/06/24 16:07:24]\u001b[0m\u001b[2;36m \u001b[0m\u001b[34mINFO    \u001b[0m Downloaded AlphaFold PDB file for: P31541           \u001b]8;id=437899;file://c:\\Users\\Fofinha\\anaconda3\\Lib\\site-packages\\graphein\\protein\\utils.py\u001b\\\u001b[2mutils.py\u001b[0m\u001b]8;;\u001b\\\u001b[2m:349\u001b[0m\n"
      ]
     },
     "metadata": {},
     "output_type": "display_data"
    },
    {
     "name": "stdout",
     "output_type": "stream",
     "text": [
      "AlphaFold file downloaded: C:\\Users\\Fofinha\\Desktop\\UNI\\MESTRADO\\propythia\\pdb_files\\P31541.pdb\n"
     ]
    },
    {
     "data": {
      "application/vnd.jupyter.widget-view+json": {
       "model_id": "9789e1c227fe40aebb941607db6d2309",
       "version_major": 2,
       "version_minor": 0
      },
      "text/plain": [
       "Output()"
      ]
     },
     "metadata": {},
     "output_type": "display_data"
    },
    {
     "data": {
      "text/html": [
       "<pre style=\"white-space:pre;overflow-x:auto;line-height:normal;font-family:Menlo,'DejaVu Sans Mono',consolas,'Courier New',monospace\"><span style=\"color: #7fbfbf; text-decoration-color: #7fbfbf\">                    </span><span style=\"color: #008000; text-decoration-color: #008000\">DEBUG   </span> Detected <span style=\"color: #008080; text-decoration-color: #008080; font-weight: bold\">926</span> total nodes                           <a href=\"file://c:\\Users\\Fofinha\\anaconda3\\Lib\\site-packages\\graphein\\protein\\graphs.py\"><span style=\"color: #7f7f7f; text-decoration-color: #7f7f7f\">graphs.py</span></a><span style=\"color: #7f7f7f; text-decoration-color: #7f7f7f\">:435</span>\n",
       "</pre>\n"
      ],
      "text/plain": [
       "\u001b[2;36m                   \u001b[0m\u001b[2;36m \u001b[0m\u001b[32mDEBUG   \u001b[0m Detected \u001b[1;36m926\u001b[0m total nodes                           \u001b]8;id=595266;file://c:\\Users\\Fofinha\\anaconda3\\Lib\\site-packages\\graphein\\protein\\graphs.py\u001b\\\u001b[2mgraphs.py\u001b[0m\u001b]8;;\u001b\\\u001b[2m:435\u001b[0m\n"
      ]
     },
     "metadata": {},
     "output_type": "display_data"
    },
    {
     "name": "stderr",
     "output_type": "stream",
     "text": [
      "c:\\Users\\Fofinha\\anaconda3\\Lib\\site-packages\\graphein\\protein\\edges\\distance.py:1213: FutureWarning: The default value of numeric_only in DataFrameGroupBy.mean is deprecated. In a future version, numeric_only will default to False. Either specify numeric_only or select only columns which should be valid for the function.\n",
      "  .mean()[[\"x_coord\", \"y_coord\", \"z_coord\"]]\n",
      "c:\\Users\\Fofinha\\anaconda3\\Lib\\site-packages\\graphein\\protein\\edges\\distance.py:1213: FutureWarning: The default value of numeric_only in DataFrameGroupBy.mean is deprecated. In a future version, numeric_only will default to False. Either specify numeric_only or select only columns which should be valid for the function.\n",
      "  .mean()[[\"x_coord\", \"y_coord\", \"z_coord\"]]\n",
      "c:\\Users\\Fofinha\\anaconda3\\Lib\\site-packages\\graphein\\protein\\edges\\distance.py:1213: FutureWarning: The default value of numeric_only in DataFrameGroupBy.mean is deprecated. In a future version, numeric_only will default to False. Either specify numeric_only or select only columns which should be valid for the function.\n",
      "  .mean()[[\"x_coord\", \"y_coord\", \"z_coord\"]]\n",
      "c:\\Users\\Fofinha\\anaconda3\\Lib\\site-packages\\graphein\\protein\\edges\\distance.py:1213: FutureWarning: The default value of numeric_only in DataFrameGroupBy.mean is deprecated. In a future version, numeric_only will default to False. Either specify numeric_only or select only columns which should be valid for the function.\n",
      "  .mean()[[\"x_coord\", \"y_coord\", \"z_coord\"]]\n"
     ]
    },
    {
     "data": {
      "text/html": [
       "<pre style=\"white-space:pre;overflow-x:auto;line-height:normal;font-family:Menlo,'DejaVu Sans Mono',consolas,'Courier New',monospace\"><span style=\"color: #7fbfbf; text-decoration-color: #7fbfbf\">                    </span><span style=\"color: #000080; text-decoration-color: #000080\">INFO    </span> Found: <span style=\"color: #008080; text-decoration-color: #008080; font-weight: bold\">38</span> aromatic-aromatic interactions         <a href=\"file://c:\\Users\\Fofinha\\anaconda3\\Lib\\site-packages\\graphein\\protein\\edges\\distance.py\"><span style=\"color: #7f7f7f; text-decoration-color: #7f7f7f\">distance.py</span></a><span style=\"color: #7f7f7f; text-decoration-color: #7f7f7f\">:467</span>\n",
       "</pre>\n"
      ],
      "text/plain": [
       "\u001b[2;36m                   \u001b[0m\u001b[2;36m \u001b[0m\u001b[34mINFO    \u001b[0m Found: \u001b[1;36m38\u001b[0m aromatic-aromatic interactions         \u001b]8;id=126810;file://c:\\Users\\Fofinha\\anaconda3\\Lib\\site-packages\\graphein\\protein\\edges\\distance.py\u001b\\\u001b[2mdistance.py\u001b[0m\u001b]8;;\u001b\\\u001b[2m:467\u001b[0m\n"
      ]
     },
     "metadata": {},
     "output_type": "display_data"
    },
    {
     "data": {
      "text/html": [
       "<pre style=\"white-space:pre;overflow-x:auto;line-height:normal;font-family:Menlo,'DejaVu Sans Mono',consolas,'Courier New',monospace\"><span style=\"color: #7fbfbf; text-decoration-color: #7fbfbf\">                    </span><span style=\"color: #000080; text-decoration-color: #000080\">INFO    </span> Found <span style=\"color: #008080; text-decoration-color: #008080; font-weight: bold\">336</span> hbond interactions.                   <a href=\"file://c:\\Users\\Fofinha\\anaconda3\\Lib\\site-packages\\graphein\\protein\\edges\\distance.py\"><span style=\"color: #7f7f7f; text-decoration-color: #7f7f7f\">distance.py</span></a><span style=\"color: #7f7f7f; text-decoration-color: #7f7f7f\">:1344</span>\n",
       "</pre>\n"
      ],
      "text/plain": [
       "\u001b[2;36m                   \u001b[0m\u001b[2;36m \u001b[0m\u001b[34mINFO    \u001b[0m Found \u001b[1;36m336\u001b[0m hbond interactions.                   \u001b]8;id=626658;file://c:\\Users\\Fofinha\\anaconda3\\Lib\\site-packages\\graphein\\protein\\edges\\distance.py\u001b\\\u001b[2mdistance.py\u001b[0m\u001b]8;;\u001b\\\u001b[2m:1344\u001b[0m\n"
      ]
     },
     "metadata": {},
     "output_type": "display_data"
    },
    {
     "data": {
      "text/html": [
       "<pre style=\"white-space:pre;overflow-x:auto;line-height:normal;font-family:Menlo,'DejaVu Sans Mono',consolas,'Courier New',monospace\"><span style=\"color: #7fbfbf; text-decoration-color: #7fbfbf\">                    </span><span style=\"color: #000080; text-decoration-color: #000080\">INFO    </span> Found <span style=\"color: #008080; text-decoration-color: #008080; font-weight: bold\">30</span> hbond interactions.                    <a href=\"file://c:\\Users\\Fofinha\\anaconda3\\Lib\\site-packages\\graphein\\protein\\edges\\distance.py\"><span style=\"color: #7f7f7f; text-decoration-color: #7f7f7f\">distance.py</span></a><span style=\"color: #7f7f7f; text-decoration-color: #7f7f7f\">:1344</span>\n",
       "</pre>\n"
      ],
      "text/plain": [
       "\u001b[2;36m                   \u001b[0m\u001b[2;36m \u001b[0m\u001b[34mINFO    \u001b[0m Found \u001b[1;36m30\u001b[0m hbond interactions.                    \u001b]8;id=788080;file://c:\\Users\\Fofinha\\anaconda3\\Lib\\site-packages\\graphein\\protein\\edges\\distance.py\u001b\\\u001b[2mdistance.py\u001b[0m\u001b]8;;\u001b\\\u001b[2m:1344\u001b[0m\n"
      ]
     },
     "metadata": {},
     "output_type": "display_data"
    },
    {
     "data": {
      "text/html": [
       "<pre style=\"white-space:pre;overflow-x:auto;line-height:normal;font-family:Menlo,'DejaVu Sans Mono',consolas,'Courier New',monospace\"><span style=\"color: #7fbfbf; text-decoration-color: #7fbfbf\">                    </span><span style=\"color: #000080; text-decoration-color: #000080\">INFO    </span> Found <span style=\"color: #008080; text-decoration-color: #008080; font-weight: bold\">7</span> disulfide interactions.                 <a href=\"file://c:\\Users\\Fofinha\\anaconda3\\Lib\\site-packages\\graphein\\protein\\edges\\distance.py\"><span style=\"color: #7f7f7f; text-decoration-color: #7f7f7f\">distance.py</span></a><span style=\"color: #7f7f7f; text-decoration-color: #7f7f7f\">:1344</span>\n",
       "</pre>\n"
      ],
      "text/plain": [
       "\u001b[2;36m                   \u001b[0m\u001b[2;36m \u001b[0m\u001b[34mINFO    \u001b[0m Found \u001b[1;36m7\u001b[0m disulfide interactions.                 \u001b]8;id=295202;file://c:\\Users\\Fofinha\\anaconda3\\Lib\\site-packages\\graphein\\protein\\edges\\distance.py\u001b\\\u001b[2mdistance.py\u001b[0m\u001b]8;;\u001b\\\u001b[2m:1344\u001b[0m\n"
      ]
     },
     "metadata": {},
     "output_type": "display_data"
    },
    {
     "data": {
      "text/html": [
       "<pre style=\"white-space:pre;overflow-x:auto;line-height:normal;font-family:Menlo,'DejaVu Sans Mono',consolas,'Courier New',monospace\"><span style=\"color: #7fbfbf; text-decoration-color: #7fbfbf\">                    </span><span style=\"color: #000080; text-decoration-color: #000080\">INFO    </span> Found <span style=\"color: #008080; text-decoration-color: #008080; font-weight: bold\">6540</span> ionic interactions.                  <a href=\"file://c:\\Users\\Fofinha\\anaconda3\\Lib\\site-packages\\graphein\\protein\\edges\\distance.py\"><span style=\"color: #7f7f7f; text-decoration-color: #7f7f7f\">distance.py</span></a><span style=\"color: #7f7f7f; text-decoration-color: #7f7f7f\">:1344</span>\n",
       "</pre>\n"
      ],
      "text/plain": [
       "\u001b[2;36m                   \u001b[0m\u001b[2;36m \u001b[0m\u001b[34mINFO    \u001b[0m Found \u001b[1;36m6540\u001b[0m ionic interactions.                  \u001b]8;id=972943;file://c:\\Users\\Fofinha\\anaconda3\\Lib\\site-packages\\graphein\\protein\\edges\\distance.py\u001b\\\u001b[2mdistance.py\u001b[0m\u001b]8;;\u001b\\\u001b[2m:1344\u001b[0m\n"
      ]
     },
     "metadata": {},
     "output_type": "display_data"
    },
    {
     "data": {
      "text/html": [
       "<pre style=\"white-space:pre;overflow-x:auto;line-height:normal;font-family:Menlo,'DejaVu Sans Mono',consolas,'Courier New',monospace\"><span style=\"color: #7fbfbf; text-decoration-color: #7fbfbf\">                    </span><span style=\"color: #000080; text-decoration-color: #000080\">INFO    </span> Found <span style=\"color: #008080; text-decoration-color: #008080; font-weight: bold\">1709</span> hydrophobic interactions.            <a href=\"file://c:\\Users\\Fofinha\\anaconda3\\Lib\\site-packages\\graphein\\protein\\edges\\distance.py\"><span style=\"color: #7f7f7f; text-decoration-color: #7f7f7f\">distance.py</span></a><span style=\"color: #7f7f7f; text-decoration-color: #7f7f7f\">:1344</span>\n",
       "</pre>\n"
      ],
      "text/plain": [
       "\u001b[2;36m                   \u001b[0m\u001b[2;36m \u001b[0m\u001b[34mINFO    \u001b[0m Found \u001b[1;36m1709\u001b[0m hydrophobic interactions.            \u001b]8;id=758645;file://c:\\Users\\Fofinha\\anaconda3\\Lib\\site-packages\\graphein\\protein\\edges\\distance.py\u001b\\\u001b[2mdistance.py\u001b[0m\u001b]8;;\u001b\\\u001b[2m:1344\u001b[0m\n"
      ]
     },
     "metadata": {},
     "output_type": "display_data"
    },
    {
     "data": {
      "text/html": [
       "<pre style=\"white-space:pre;overflow-x:auto;line-height:normal;font-family:Menlo,'DejaVu Sans Mono',consolas,'Courier New',monospace\"><span style=\"color: #7fbfbf; text-decoration-color: #7fbfbf\">[11/06/24 16:07:29] </span><span style=\"color: #000080; text-decoration-color: #000080\">INFO    </span> Found <span style=\"color: #008080; text-decoration-color: #008080; font-weight: bold\">7182</span> vdw interactions.                    <a href=\"file://c:\\Users\\Fofinha\\anaconda3\\Lib\\site-packages\\graphein\\protein\\edges\\distance.py\"><span style=\"color: #7f7f7f; text-decoration-color: #7f7f7f\">distance.py</span></a><span style=\"color: #7f7f7f; text-decoration-color: #7f7f7f\">:1344</span>\n",
       "</pre>\n"
      ],
      "text/plain": [
       "\u001b[2;36m[11/06/24 16:07:29]\u001b[0m\u001b[2;36m \u001b[0m\u001b[34mINFO    \u001b[0m Found \u001b[1;36m7182\u001b[0m vdw interactions.                    \u001b]8;id=139767;file://c:\\Users\\Fofinha\\anaconda3\\Lib\\site-packages\\graphein\\protein\\edges\\distance.py\u001b\\\u001b[2mdistance.py\u001b[0m\u001b]8;;\u001b\\\u001b[2m:1344\u001b[0m\n"
      ]
     },
     "metadata": {},
     "output_type": "display_data"
    },
    {
     "data": {
      "text/html": [
       "<pre style=\"white-space:pre;overflow-x:auto;line-height:normal;font-family:Menlo,'DejaVu Sans Mono',consolas,'Courier New',monospace\"><span style=\"color: #7fbfbf; text-decoration-color: #7fbfbf\">                    </span><span style=\"color: #000080; text-decoration-color: #000080\">INFO    </span> Found <span style=\"color: #008080; text-decoration-color: #008080; font-weight: bold\">1040</span> bb_carbonyl_carbonyl interactions.   <a href=\"file://c:\\Users\\Fofinha\\anaconda3\\Lib\\site-packages\\graphein\\protein\\edges\\distance.py\"><span style=\"color: #7f7f7f; text-decoration-color: #7f7f7f\">distance.py</span></a><span style=\"color: #7f7f7f; text-decoration-color: #7f7f7f\">:1344</span>\n",
       "</pre>\n"
      ],
      "text/plain": [
       "\u001b[2;36m                   \u001b[0m\u001b[2;36m \u001b[0m\u001b[34mINFO    \u001b[0m Found \u001b[1;36m1040\u001b[0m bb_carbonyl_carbonyl interactions.   \u001b]8;id=588930;file://c:\\Users\\Fofinha\\anaconda3\\Lib\\site-packages\\graphein\\protein\\edges\\distance.py\u001b\\\u001b[2mdistance.py\u001b[0m\u001b]8;;\u001b\\\u001b[2m:1344\u001b[0m\n"
      ]
     },
     "metadata": {},
     "output_type": "display_data"
    },
    {
     "data": {
      "text/html": [
       "<pre style=\"white-space:pre;overflow-x:auto;line-height:normal;font-family:Menlo,'DejaVu Sans Mono',consolas,'Courier New',monospace\"><span style=\"color: #7fbfbf; text-decoration-color: #7fbfbf\">                    </span><span style=\"color: #000080; text-decoration-color: #000080\">INFO    </span> Found <span style=\"color: #008080; text-decoration-color: #008080; font-weight: bold\">385</span> salt_bridge interactions.             <a href=\"file://c:\\Users\\Fofinha\\anaconda3\\Lib\\site-packages\\graphein\\protein\\edges\\distance.py\"><span style=\"color: #7f7f7f; text-decoration-color: #7f7f7f\">distance.py</span></a><span style=\"color: #7f7f7f; text-decoration-color: #7f7f7f\">:1344</span>\n",
       "</pre>\n"
      ],
      "text/plain": [
       "\u001b[2;36m                   \u001b[0m\u001b[2;36m \u001b[0m\u001b[34mINFO    \u001b[0m Found \u001b[1;36m385\u001b[0m salt_bridge interactions.             \u001b]8;id=686478;file://c:\\Users\\Fofinha\\anaconda3\\Lib\\site-packages\\graphein\\protein\\edges\\distance.py\u001b\\\u001b[2mdistance.py\u001b[0m\u001b]8;;\u001b\\\u001b[2m:1344\u001b[0m\n"
      ]
     },
     "metadata": {},
     "output_type": "display_data"
    },
    {
     "data": {
      "text/html": [
       "<pre style=\"white-space:pre;overflow-x:auto;line-height:normal;font-family:Menlo,'DejaVu Sans Mono',consolas,'Courier New',monospace\"><span style=\"color: #7fbfbf; text-decoration-color: #7fbfbf\">                    </span><span style=\"color: #000080; text-decoration-color: #000080\">INFO    </span> Found: <span style=\"color: #008080; text-decoration-color: #008080; font-weight: bold\">2780</span> distance edges                       <a href=\"file://c:\\Users\\Fofinha\\anaconda3\\Lib\\site-packages\\graphein\\protein\\edges\\distance.py\"><span style=\"color: #7f7f7f; text-decoration-color: #7f7f7f\">distance.py</span></a><span style=\"color: #7f7f7f; text-decoration-color: #7f7f7f\">:964</span>\n",
       "</pre>\n"
      ],
      "text/plain": [
       "\u001b[2;36m                   \u001b[0m\u001b[2;36m \u001b[0m\u001b[34mINFO    \u001b[0m Found: \u001b[1;36m2780\u001b[0m distance edges                       \u001b]8;id=228125;file://c:\\Users\\Fofinha\\anaconda3\\Lib\\site-packages\\graphein\\protein\\edges\\distance.py\u001b\\\u001b[2mdistance.py\u001b[0m\u001b]8;;\u001b\\\u001b[2m:964\u001b[0m\n"
      ]
     },
     "metadata": {},
     "output_type": "display_data"
    },
    {
     "data": {
      "text/html": [
       "<pre style=\"white-space:pre;overflow-x:auto;line-height:normal;font-family:Menlo,'DejaVu Sans Mono',consolas,'Courier New',monospace\"></pre>\n"
      ],
      "text/plain": []
     },
     "metadata": {},
     "output_type": "display_data"
    },
    {
     "name": "stdout",
     "output_type": "stream",
     "text": [
      "<src.propythia.protein.structure.Graph object at 0x00000207EF7B4090>\n",
      "P17786\n"
     ]
    },
    {
     "data": {
      "text/html": [
       "<pre style=\"white-space:pre;overflow-x:auto;line-height:normal;font-family:Menlo,'DejaVu Sans Mono',consolas,'Courier New',monospace\"><span style=\"color: #7fbfbf; text-decoration-color: #7fbfbf\">                    </span><span style=\"color: #000080; text-decoration-color: #000080\">INFO    </span> Downloaded AlphaFold PDB file for: P17786           <a href=\"file://c:\\Users\\Fofinha\\anaconda3\\Lib\\site-packages\\graphein\\protein\\utils.py\"><span style=\"color: #7f7f7f; text-decoration-color: #7f7f7f\">utils.py</span></a><span style=\"color: #7f7f7f; text-decoration-color: #7f7f7f\">:349</span>\n",
       "</pre>\n"
      ],
      "text/plain": [
       "\u001b[2;36m                   \u001b[0m\u001b[2;36m \u001b[0m\u001b[34mINFO    \u001b[0m Downloaded AlphaFold PDB file for: P17786           \u001b]8;id=569535;file://c:\\Users\\Fofinha\\anaconda3\\Lib\\site-packages\\graphein\\protein\\utils.py\u001b\\\u001b[2mutils.py\u001b[0m\u001b]8;;\u001b\\\u001b[2m:349\u001b[0m\n"
      ]
     },
     "metadata": {},
     "output_type": "display_data"
    },
    {
     "name": "stdout",
     "output_type": "stream",
     "text": [
      "AlphaFold file downloaded: C:\\Users\\Fofinha\\Desktop\\UNI\\MESTRADO\\propythia\\pdb_files\\P17786.pdb\n"
     ]
    },
    {
     "data": {
      "application/vnd.jupyter.widget-view+json": {
       "model_id": "3cc5b45bfe3340388a31e98c222af219",
       "version_major": 2,
       "version_minor": 0
      },
      "text/plain": [
       "Output()"
      ]
     },
     "metadata": {},
     "output_type": "display_data"
    },
    {
     "data": {
      "text/html": [
       "<pre style=\"white-space:pre;overflow-x:auto;line-height:normal;font-family:Menlo,'DejaVu Sans Mono',consolas,'Courier New',monospace\"><span style=\"color: #7fbfbf; text-decoration-color: #7fbfbf\">[11/06/24 16:07:30] </span><span style=\"color: #008000; text-decoration-color: #008000\">DEBUG   </span> Deprotonating protein. This removes H atoms from   <a href=\"file://c:\\Users\\Fofinha\\anaconda3\\Lib\\site-packages\\graphein\\protein\\graphs.py\"><span style=\"color: #7f7f7f; text-decoration-color: #7f7f7f\">graphs.py</span></a><span style=\"color: #7f7f7f; text-decoration-color: #7f7f7f\">:188</span>\n",
       "                             the pdb_df dataframe                                            \n",
       "</pre>\n"
      ],
      "text/plain": [
       "\u001b[2;36m[11/06/24 16:07:30]\u001b[0m\u001b[2;36m \u001b[0m\u001b[32mDEBUG   \u001b[0m Deprotonating protein. This removes H atoms from   \u001b]8;id=220142;file://c:\\Users\\Fofinha\\anaconda3\\Lib\\site-packages\\graphein\\protein\\graphs.py\u001b\\\u001b[2mgraphs.py\u001b[0m\u001b]8;;\u001b\\\u001b[2m:188\u001b[0m\n",
       "                             the pdb_df dataframe                                            \n"
      ]
     },
     "metadata": {},
     "output_type": "display_data"
    },
    {
     "data": {
      "text/html": [
       "<pre style=\"white-space:pre;overflow-x:auto;line-height:normal;font-family:Menlo,'DejaVu Sans Mono',consolas,'Courier New',monospace\"><span style=\"color: #7fbfbf; text-decoration-color: #7fbfbf\">                    </span><span style=\"color: #008000; text-decoration-color: #008000\">DEBUG   </span> Detected <span style=\"color: #008080; text-decoration-color: #008080; font-weight: bold\">448</span> total nodes                           <a href=\"file://c:\\Users\\Fofinha\\anaconda3\\Lib\\site-packages\\graphein\\protein\\graphs.py\"><span style=\"color: #7f7f7f; text-decoration-color: #7f7f7f\">graphs.py</span></a><span style=\"color: #7f7f7f; text-decoration-color: #7f7f7f\">:435</span>\n",
       "</pre>\n"
      ],
      "text/plain": [
       "\u001b[2;36m                   \u001b[0m\u001b[2;36m \u001b[0m\u001b[32mDEBUG   \u001b[0m Detected \u001b[1;36m448\u001b[0m total nodes                           \u001b]8;id=668233;file://c:\\Users\\Fofinha\\anaconda3\\Lib\\site-packages\\graphein\\protein\\graphs.py\u001b\\\u001b[2mgraphs.py\u001b[0m\u001b]8;;\u001b\\\u001b[2m:435\u001b[0m\n"
      ]
     },
     "metadata": {},
     "output_type": "display_data"
    },
    {
     "name": "stderr",
     "output_type": "stream",
     "text": [
      "c:\\Users\\Fofinha\\anaconda3\\Lib\\site-packages\\graphein\\protein\\edges\\distance.py:1213: FutureWarning: The default value of numeric_only in DataFrameGroupBy.mean is deprecated. In a future version, numeric_only will default to False. Either specify numeric_only or select only columns which should be valid for the function.\n",
      "  .mean()[[\"x_coord\", \"y_coord\", \"z_coord\"]]\n",
      "c:\\Users\\Fofinha\\anaconda3\\Lib\\site-packages\\graphein\\protein\\edges\\distance.py:1213: FutureWarning: The default value of numeric_only in DataFrameGroupBy.mean is deprecated. In a future version, numeric_only will default to False. Either specify numeric_only or select only columns which should be valid for the function.\n",
      "  .mean()[[\"x_coord\", \"y_coord\", \"z_coord\"]]\n"
     ]
    },
    {
     "data": {
      "text/html": [
       "<pre style=\"white-space:pre;overflow-x:auto;line-height:normal;font-family:Menlo,'DejaVu Sans Mono',consolas,'Courier New',monospace\"><span style=\"color: #7fbfbf; text-decoration-color: #7fbfbf\">                    </span><span style=\"color: #000080; text-decoration-color: #000080\">INFO    </span> Found: <span style=\"color: #008080; text-decoration-color: #008080; font-weight: bold\">30</span> aromatic-aromatic interactions         <a href=\"file://c:\\Users\\Fofinha\\anaconda3\\Lib\\site-packages\\graphein\\protein\\edges\\distance.py\"><span style=\"color: #7f7f7f; text-decoration-color: #7f7f7f\">distance.py</span></a><span style=\"color: #7f7f7f; text-decoration-color: #7f7f7f\">:467</span>\n",
       "</pre>\n"
      ],
      "text/plain": [
       "\u001b[2;36m                   \u001b[0m\u001b[2;36m \u001b[0m\u001b[34mINFO    \u001b[0m Found: \u001b[1;36m30\u001b[0m aromatic-aromatic interactions         \u001b]8;id=312887;file://c:\\Users\\Fofinha\\anaconda3\\Lib\\site-packages\\graphein\\protein\\edges\\distance.py\u001b\\\u001b[2mdistance.py\u001b[0m\u001b]8;;\u001b\\\u001b[2m:467\u001b[0m\n"
      ]
     },
     "metadata": {},
     "output_type": "display_data"
    },
    {
     "data": {
      "text/html": [
       "<pre style=\"white-space:pre;overflow-x:auto;line-height:normal;font-family:Menlo,'DejaVu Sans Mono',consolas,'Courier New',monospace\"><span style=\"color: #7fbfbf; text-decoration-color: #7fbfbf\">                    </span><span style=\"color: #000080; text-decoration-color: #000080\">INFO    </span> Found <span style=\"color: #008080; text-decoration-color: #008080; font-weight: bold\">186</span> hbond interactions.                   <a href=\"file://c:\\Users\\Fofinha\\anaconda3\\Lib\\site-packages\\graphein\\protein\\edges\\distance.py\"><span style=\"color: #7f7f7f; text-decoration-color: #7f7f7f\">distance.py</span></a><span style=\"color: #7f7f7f; text-decoration-color: #7f7f7f\">:1344</span>\n",
       "</pre>\n"
      ],
      "text/plain": [
       "\u001b[2;36m                   \u001b[0m\u001b[2;36m \u001b[0m\u001b[34mINFO    \u001b[0m Found \u001b[1;36m186\u001b[0m hbond interactions.                   \u001b]8;id=375064;file://c:\\Users\\Fofinha\\anaconda3\\Lib\\site-packages\\graphein\\protein\\edges\\distance.py\u001b\\\u001b[2mdistance.py\u001b[0m\u001b]8;;\u001b\\\u001b[2m:1344\u001b[0m\n"
      ]
     },
     "metadata": {},
     "output_type": "display_data"
    },
    {
     "data": {
      "text/html": [
       "<pre style=\"white-space:pre;overflow-x:auto;line-height:normal;font-family:Menlo,'DejaVu Sans Mono',consolas,'Courier New',monospace\"><span style=\"color: #7fbfbf; text-decoration-color: #7fbfbf\">                    </span><span style=\"color: #000080; text-decoration-color: #000080\">INFO    </span> Found <span style=\"color: #008080; text-decoration-color: #008080; font-weight: bold\">19</span> hbond interactions.                    <a href=\"file://c:\\Users\\Fofinha\\anaconda3\\Lib\\site-packages\\graphein\\protein\\edges\\distance.py\"><span style=\"color: #7f7f7f; text-decoration-color: #7f7f7f\">distance.py</span></a><span style=\"color: #7f7f7f; text-decoration-color: #7f7f7f\">:1344</span>\n",
       "</pre>\n"
      ],
      "text/plain": [
       "\u001b[2;36m                   \u001b[0m\u001b[2;36m \u001b[0m\u001b[34mINFO    \u001b[0m Found \u001b[1;36m19\u001b[0m hbond interactions.                    \u001b]8;id=817095;file://c:\\Users\\Fofinha\\anaconda3\\Lib\\site-packages\\graphein\\protein\\edges\\distance.py\u001b\\\u001b[2mdistance.py\u001b[0m\u001b]8;;\u001b\\\u001b[2m:1344\u001b[0m\n"
      ]
     },
     "metadata": {},
     "output_type": "display_data"
    },
    {
     "data": {
      "text/html": [
       "<pre style=\"white-space:pre;overflow-x:auto;line-height:normal;font-family:Menlo,'DejaVu Sans Mono',consolas,'Courier New',monospace\"><span style=\"color: #7fbfbf; text-decoration-color: #7fbfbf\">                    </span><span style=\"color: #000080; text-decoration-color: #000080\">INFO    </span> Found <span style=\"color: #008080; text-decoration-color: #008080; font-weight: bold\">6</span> disulfide interactions.                 <a href=\"file://c:\\Users\\Fofinha\\anaconda3\\Lib\\site-packages\\graphein\\protein\\edges\\distance.py\"><span style=\"color: #7f7f7f; text-decoration-color: #7f7f7f\">distance.py</span></a><span style=\"color: #7f7f7f; text-decoration-color: #7f7f7f\">:1344</span>\n",
       "</pre>\n"
      ],
      "text/plain": [
       "\u001b[2;36m                   \u001b[0m\u001b[2;36m \u001b[0m\u001b[34mINFO    \u001b[0m Found \u001b[1;36m6\u001b[0m disulfide interactions.                 \u001b]8;id=77572;file://c:\\Users\\Fofinha\\anaconda3\\Lib\\site-packages\\graphein\\protein\\edges\\distance.py\u001b\\\u001b[2mdistance.py\u001b[0m\u001b]8;;\u001b\\\u001b[2m:1344\u001b[0m\n"
      ]
     },
     "metadata": {},
     "output_type": "display_data"
    },
    {
     "data": {
      "text/html": [
       "<pre style=\"white-space:pre;overflow-x:auto;line-height:normal;font-family:Menlo,'DejaVu Sans Mono',consolas,'Courier New',monospace\"><span style=\"color: #7fbfbf; text-decoration-color: #7fbfbf\">                    </span><span style=\"color: #000080; text-decoration-color: #000080\">INFO    </span> Found <span style=\"color: #008080; text-decoration-color: #008080; font-weight: bold\">3564</span> ionic interactions.                  <a href=\"file://c:\\Users\\Fofinha\\anaconda3\\Lib\\site-packages\\graphein\\protein\\edges\\distance.py\"><span style=\"color: #7f7f7f; text-decoration-color: #7f7f7f\">distance.py</span></a><span style=\"color: #7f7f7f; text-decoration-color: #7f7f7f\">:1344</span>\n",
       "</pre>\n"
      ],
      "text/plain": [
       "\u001b[2;36m                   \u001b[0m\u001b[2;36m \u001b[0m\u001b[34mINFO    \u001b[0m Found \u001b[1;36m3564\u001b[0m ionic interactions.                  \u001b]8;id=43149;file://c:\\Users\\Fofinha\\anaconda3\\Lib\\site-packages\\graphein\\protein\\edges\\distance.py\u001b\\\u001b[2mdistance.py\u001b[0m\u001b]8;;\u001b\\\u001b[2m:1344\u001b[0m\n"
      ]
     },
     "metadata": {},
     "output_type": "display_data"
    },
    {
     "data": {
      "text/html": [
       "<pre style=\"white-space:pre;overflow-x:auto;line-height:normal;font-family:Menlo,'DejaVu Sans Mono',consolas,'Courier New',monospace\"><span style=\"color: #7fbfbf; text-decoration-color: #7fbfbf\">[11/06/24 16:07:31] </span><span style=\"color: #000080; text-decoration-color: #000080\">INFO    </span> Found <span style=\"color: #008080; text-decoration-color: #008080; font-weight: bold\">958</span> hydrophobic interactions.             <a href=\"file://c:\\Users\\Fofinha\\anaconda3\\Lib\\site-packages\\graphein\\protein\\edges\\distance.py\"><span style=\"color: #7f7f7f; text-decoration-color: #7f7f7f\">distance.py</span></a><span style=\"color: #7f7f7f; text-decoration-color: #7f7f7f\">:1344</span>\n",
       "</pre>\n"
      ],
      "text/plain": [
       "\u001b[2;36m[11/06/24 16:07:31]\u001b[0m\u001b[2;36m \u001b[0m\u001b[34mINFO    \u001b[0m Found \u001b[1;36m958\u001b[0m hydrophobic interactions.             \u001b]8;id=908260;file://c:\\Users\\Fofinha\\anaconda3\\Lib\\site-packages\\graphein\\protein\\edges\\distance.py\u001b\\\u001b[2mdistance.py\u001b[0m\u001b]8;;\u001b\\\u001b[2m:1344\u001b[0m\n"
      ]
     },
     "metadata": {},
     "output_type": "display_data"
    },
    {
     "data": {
      "text/html": [
       "<pre style=\"white-space:pre;overflow-x:auto;line-height:normal;font-family:Menlo,'DejaVu Sans Mono',consolas,'Courier New',monospace\"><span style=\"color: #7fbfbf; text-decoration-color: #7fbfbf\">                    </span><span style=\"color: #000080; text-decoration-color: #000080\">INFO    </span> Found <span style=\"color: #008080; text-decoration-color: #008080; font-weight: bold\">3660</span> vdw interactions.                    <a href=\"file://c:\\Users\\Fofinha\\anaconda3\\Lib\\site-packages\\graphein\\protein\\edges\\distance.py\"><span style=\"color: #7f7f7f; text-decoration-color: #7f7f7f\">distance.py</span></a><span style=\"color: #7f7f7f; text-decoration-color: #7f7f7f\">:1344</span>\n",
       "</pre>\n"
      ],
      "text/plain": [
       "\u001b[2;36m                   \u001b[0m\u001b[2;36m \u001b[0m\u001b[34mINFO    \u001b[0m Found \u001b[1;36m3660\u001b[0m vdw interactions.                    \u001b]8;id=290207;file://c:\\Users\\Fofinha\\anaconda3\\Lib\\site-packages\\graphein\\protein\\edges\\distance.py\u001b\\\u001b[2mdistance.py\u001b[0m\u001b]8;;\u001b\\\u001b[2m:1344\u001b[0m\n"
      ]
     },
     "metadata": {},
     "output_type": "display_data"
    },
    {
     "data": {
      "text/html": [
       "<pre style=\"white-space:pre;overflow-x:auto;line-height:normal;font-family:Menlo,'DejaVu Sans Mono',consolas,'Courier New',monospace\"><span style=\"color: #7fbfbf; text-decoration-color: #7fbfbf\">                    </span><span style=\"color: #000080; text-decoration-color: #000080\">INFO    </span> Found <span style=\"color: #008080; text-decoration-color: #008080; font-weight: bold\">376</span> bb_carbonyl_carbonyl interactions.    <a href=\"file://c:\\Users\\Fofinha\\anaconda3\\Lib\\site-packages\\graphein\\protein\\edges\\distance.py\"><span style=\"color: #7f7f7f; text-decoration-color: #7f7f7f\">distance.py</span></a><span style=\"color: #7f7f7f; text-decoration-color: #7f7f7f\">:1344</span>\n",
       "</pre>\n"
      ],
      "text/plain": [
       "\u001b[2;36m                   \u001b[0m\u001b[2;36m \u001b[0m\u001b[34mINFO    \u001b[0m Found \u001b[1;36m376\u001b[0m bb_carbonyl_carbonyl interactions.    \u001b]8;id=427279;file://c:\\Users\\Fofinha\\anaconda3\\Lib\\site-packages\\graphein\\protein\\edges\\distance.py\u001b\\\u001b[2mdistance.py\u001b[0m\u001b]8;;\u001b\\\u001b[2m:1344\u001b[0m\n"
      ]
     },
     "metadata": {},
     "output_type": "display_data"
    },
    {
     "data": {
      "text/html": [
       "<pre style=\"white-space:pre;overflow-x:auto;line-height:normal;font-family:Menlo,'DejaVu Sans Mono',consolas,'Courier New',monospace\"><span style=\"color: #7fbfbf; text-decoration-color: #7fbfbf\">                    </span><span style=\"color: #000080; text-decoration-color: #000080\">INFO    </span> Found <span style=\"color: #008080; text-decoration-color: #008080; font-weight: bold\">171</span> salt_bridge interactions.             <a href=\"file://c:\\Users\\Fofinha\\anaconda3\\Lib\\site-packages\\graphein\\protein\\edges\\distance.py\"><span style=\"color: #7f7f7f; text-decoration-color: #7f7f7f\">distance.py</span></a><span style=\"color: #7f7f7f; text-decoration-color: #7f7f7f\">:1344</span>\n",
       "</pre>\n"
      ],
      "text/plain": [
       "\u001b[2;36m                   \u001b[0m\u001b[2;36m \u001b[0m\u001b[34mINFO    \u001b[0m Found \u001b[1;36m171\u001b[0m salt_bridge interactions.             \u001b]8;id=703497;file://c:\\Users\\Fofinha\\anaconda3\\Lib\\site-packages\\graphein\\protein\\edges\\distance.py\u001b\\\u001b[2mdistance.py\u001b[0m\u001b]8;;\u001b\\\u001b[2m:1344\u001b[0m\n"
      ]
     },
     "metadata": {},
     "output_type": "display_data"
    },
    {
     "data": {
      "text/html": [
       "<pre style=\"white-space:pre;overflow-x:auto;line-height:normal;font-family:Menlo,'DejaVu Sans Mono',consolas,'Courier New',monospace\"><span style=\"color: #7fbfbf; text-decoration-color: #7fbfbf\">                    </span><span style=\"color: #000080; text-decoration-color: #000080\">INFO    </span> Found: <span style=\"color: #008080; text-decoration-color: #008080; font-weight: bold\">1344</span> distance edges                       <a href=\"file://c:\\Users\\Fofinha\\anaconda3\\Lib\\site-packages\\graphein\\protein\\edges\\distance.py\"><span style=\"color: #7f7f7f; text-decoration-color: #7f7f7f\">distance.py</span></a><span style=\"color: #7f7f7f; text-decoration-color: #7f7f7f\">:964</span>\n",
       "</pre>\n"
      ],
      "text/plain": [
       "\u001b[2;36m                   \u001b[0m\u001b[2;36m \u001b[0m\u001b[34mINFO    \u001b[0m Found: \u001b[1;36m1344\u001b[0m distance edges                       \u001b]8;id=218617;file://c:\\Users\\Fofinha\\anaconda3\\Lib\\site-packages\\graphein\\protein\\edges\\distance.py\u001b\\\u001b[2mdistance.py\u001b[0m\u001b]8;;\u001b\\\u001b[2m:964\u001b[0m\n"
      ]
     },
     "metadata": {},
     "output_type": "display_data"
    },
    {
     "data": {
      "text/html": [
       "<pre style=\"white-space:pre;overflow-x:auto;line-height:normal;font-family:Menlo,'DejaVu Sans Mono',consolas,'Courier New',monospace\"><span style=\"color: #7fbfbf; text-decoration-color: #7fbfbf\">                    </span><span style=\"color: #000080; text-decoration-color: #000080\">INFO    </span> Added <span style=\"color: #008080; text-decoration-color: #008080; font-weight: bold\">2</span> distance edges. <span style=\"font-weight: bold\">(</span><span style=\"color: #008080; text-decoration-color: #008080; font-weight: bold\">1342</span>            removed <a href=\"file://c:\\Users\\Fofinha\\anaconda3\\Lib\\site-packages\\graphein\\protein\\edges\\distance.py\"><span style=\"color: #7f7f7f; text-decoration-color: #7f7f7f\">distance.py</span></a><span style=\"color: #7f7f7f; text-decoration-color: #7f7f7f\">:983</span>\n",
       "                             by LIN<span style=\"font-weight: bold\">)</span>                                                         \n",
       "</pre>\n"
      ],
      "text/plain": [
       "\u001b[2;36m                   \u001b[0m\u001b[2;36m \u001b[0m\u001b[34mINFO    \u001b[0m Added \u001b[1;36m2\u001b[0m distance edges. \u001b[1m(\u001b[0m\u001b[1;36m1342\u001b[0m            removed \u001b]8;id=272884;file://c:\\Users\\Fofinha\\anaconda3\\Lib\\site-packages\\graphein\\protein\\edges\\distance.py\u001b\\\u001b[2mdistance.py\u001b[0m\u001b]8;;\u001b\\\u001b[2m:983\u001b[0m\n",
       "                             by LIN\u001b[1m)\u001b[0m                                                         \n"
      ]
     },
     "metadata": {},
     "output_type": "display_data"
    },
    {
     "data": {
      "text/html": [
       "<pre style=\"white-space:pre;overflow-x:auto;line-height:normal;font-family:Menlo,'DejaVu Sans Mono',consolas,'Courier New',monospace\"></pre>\n"
      ],
      "text/plain": []
     },
     "metadata": {},
     "output_type": "display_data"
    },
    {
     "name": "stdout",
     "output_type": "stream",
     "text": [
      "<src.propythia.protein.structure.Graph object at 0x000002078472A1D0>\n",
      "P48980\n"
     ]
    },
    {
     "data": {
      "text/html": [
       "<pre style=\"white-space:pre;overflow-x:auto;line-height:normal;font-family:Menlo,'DejaVu Sans Mono',consolas,'Courier New',monospace\"><span style=\"color: #7fbfbf; text-decoration-color: #7fbfbf\">                    </span><span style=\"color: #000080; text-decoration-color: #000080\">INFO    </span> Downloaded AlphaFold PDB file for: P48980           <a href=\"file://c:\\Users\\Fofinha\\anaconda3\\Lib\\site-packages\\graphein\\protein\\utils.py\"><span style=\"color: #7f7f7f; text-decoration-color: #7f7f7f\">utils.py</span></a><span style=\"color: #7f7f7f; text-decoration-color: #7f7f7f\">:349</span>\n",
       "</pre>\n"
      ],
      "text/plain": [
       "\u001b[2;36m                   \u001b[0m\u001b[2;36m \u001b[0m\u001b[34mINFO    \u001b[0m Downloaded AlphaFold PDB file for: P48980           \u001b]8;id=46927;file://c:\\Users\\Fofinha\\anaconda3\\Lib\\site-packages\\graphein\\protein\\utils.py\u001b\\\u001b[2mutils.py\u001b[0m\u001b]8;;\u001b\\\u001b[2m:349\u001b[0m\n"
      ]
     },
     "metadata": {},
     "output_type": "display_data"
    },
    {
     "name": "stdout",
     "output_type": "stream",
     "text": [
      "AlphaFold file downloaded: C:\\Users\\Fofinha\\Desktop\\UNI\\MESTRADO\\propythia\\pdb_files\\P48980.pdb\n"
     ]
    },
    {
     "data": {
      "application/vnd.jupyter.widget-view+json": {
       "model_id": "4be44cc95c6548eb848740bacafe301f",
       "version_major": 2,
       "version_minor": 0
      },
      "text/plain": [
       "Output()"
      ]
     },
     "metadata": {},
     "output_type": "display_data"
    },
    {
     "data": {
      "text/html": [
       "<pre style=\"white-space:pre;overflow-x:auto;line-height:normal;font-family:Menlo,'DejaVu Sans Mono',consolas,'Courier New',monospace\"><span style=\"color: #7fbfbf; text-decoration-color: #7fbfbf\">[11/06/24 16:07:35] </span><span style=\"color: #008000; text-decoration-color: #008000\">DEBUG   </span> Deprotonating protein. This removes H atoms from   <a href=\"file://c:\\Users\\Fofinha\\anaconda3\\Lib\\site-packages\\graphein\\protein\\graphs.py\"><span style=\"color: #7f7f7f; text-decoration-color: #7f7f7f\">graphs.py</span></a><span style=\"color: #7f7f7f; text-decoration-color: #7f7f7f\">:188</span>\n",
       "                             the pdb_df dataframe                                            \n",
       "</pre>\n"
      ],
      "text/plain": [
       "\u001b[2;36m[11/06/24 16:07:35]\u001b[0m\u001b[2;36m \u001b[0m\u001b[32mDEBUG   \u001b[0m Deprotonating protein. This removes H atoms from   \u001b]8;id=58812;file://c:\\Users\\Fofinha\\anaconda3\\Lib\\site-packages\\graphein\\protein\\graphs.py\u001b\\\u001b[2mgraphs.py\u001b[0m\u001b]8;;\u001b\\\u001b[2m:188\u001b[0m\n",
       "                             the pdb_df dataframe                                            \n"
      ]
     },
     "metadata": {},
     "output_type": "display_data"
    },
    {
     "name": "stderr",
     "output_type": "stream",
     "text": [
      "c:\\Users\\Fofinha\\anaconda3\\Lib\\site-packages\\graphein\\protein\\edges\\distance.py:1213: FutureWarning: The default value of numeric_only in DataFrameGroupBy.mean is deprecated. In a future version, numeric_only will default to False. Either specify numeric_only or select only columns which should be valid for the function.\n",
      "  .mean()[[\"x_coord\", \"y_coord\", \"z_coord\"]]\n",
      "c:\\Users\\Fofinha\\anaconda3\\Lib\\site-packages\\graphein\\protein\\edges\\distance.py:1213: FutureWarning: The default value of numeric_only in DataFrameGroupBy.mean is deprecated. In a future version, numeric_only will default to False. Either specify numeric_only or select only columns which should be valid for the function.\n",
      "  .mean()[[\"x_coord\", \"y_coord\", \"z_coord\"]]\n",
      "c:\\Users\\Fofinha\\anaconda3\\Lib\\site-packages\\graphein\\protein\\edges\\distance.py:1213: FutureWarning: The default value of numeric_only in DataFrameGroupBy.mean is deprecated. In a future version, numeric_only will default to False. Either specify numeric_only or select only columns which should be valid for the function.\n",
      "  .mean()[[\"x_coord\", \"y_coord\", \"z_coord\"]]\n",
      "c:\\Users\\Fofinha\\anaconda3\\Lib\\site-packages\\graphein\\protein\\edges\\distance.py:1213: FutureWarning: The default value of numeric_only in DataFrameGroupBy.mean is deprecated. In a future version, numeric_only will default to False. Either specify numeric_only or select only columns which should be valid for the function.\n",
      "  .mean()[[\"x_coord\", \"y_coord\", \"z_coord\"]]\n"
     ]
    },
    {
     "data": {
      "text/html": [
       "<pre style=\"white-space:pre;overflow-x:auto;line-height:normal;font-family:Menlo,'DejaVu Sans Mono',consolas,'Courier New',monospace\"><span style=\"color: #7fbfbf; text-decoration-color: #7fbfbf\">                    </span><span style=\"color: #000080; text-decoration-color: #000080\">INFO    </span> Found: <span style=\"color: #008080; text-decoration-color: #008080; font-weight: bold\">180</span> aromatic-aromatic interactions        <a href=\"file://c:\\Users\\Fofinha\\anaconda3\\Lib\\site-packages\\graphein\\protein\\edges\\distance.py\"><span style=\"color: #7f7f7f; text-decoration-color: #7f7f7f\">distance.py</span></a><span style=\"color: #7f7f7f; text-decoration-color: #7f7f7f\">:467</span>\n",
       "</pre>\n"
      ],
      "text/plain": [
       "\u001b[2;36m                   \u001b[0m\u001b[2;36m \u001b[0m\u001b[34mINFO    \u001b[0m Found: \u001b[1;36m180\u001b[0m aromatic-aromatic interactions        \u001b]8;id=812778;file://c:\\Users\\Fofinha\\anaconda3\\Lib\\site-packages\\graphein\\protein\\edges\\distance.py\u001b\\\u001b[2mdistance.py\u001b[0m\u001b]8;;\u001b\\\u001b[2m:467\u001b[0m\n"
      ]
     },
     "metadata": {},
     "output_type": "display_data"
    },
    {
     "data": {
      "text/html": [
       "<pre style=\"white-space:pre;overflow-x:auto;line-height:normal;font-family:Menlo,'DejaVu Sans Mono',consolas,'Courier New',monospace\"><span style=\"color: #7fbfbf; text-decoration-color: #7fbfbf\">                    </span><span style=\"color: #000080; text-decoration-color: #000080\">INFO    </span> Found <span style=\"color: #008080; text-decoration-color: #008080; font-weight: bold\">363</span> hbond interactions.                   <a href=\"file://c:\\Users\\Fofinha\\anaconda3\\Lib\\site-packages\\graphein\\protein\\edges\\distance.py\"><span style=\"color: #7f7f7f; text-decoration-color: #7f7f7f\">distance.py</span></a><span style=\"color: #7f7f7f; text-decoration-color: #7f7f7f\">:1344</span>\n",
       "</pre>\n"
      ],
      "text/plain": [
       "\u001b[2;36m                   \u001b[0m\u001b[2;36m \u001b[0m\u001b[34mINFO    \u001b[0m Found \u001b[1;36m363\u001b[0m hbond interactions.                   \u001b]8;id=522123;file://c:\\Users\\Fofinha\\anaconda3\\Lib\\site-packages\\graphein\\protein\\edges\\distance.py\u001b\\\u001b[2mdistance.py\u001b[0m\u001b]8;;\u001b\\\u001b[2m:1344\u001b[0m\n"
      ]
     },
     "metadata": {},
     "output_type": "display_data"
    },
    {
     "data": {
      "text/html": [
       "<pre style=\"white-space:pre;overflow-x:auto;line-height:normal;font-family:Menlo,'DejaVu Sans Mono',consolas,'Courier New',monospace\"><span style=\"color: #7fbfbf; text-decoration-color: #7fbfbf\">                    </span><span style=\"color: #000080; text-decoration-color: #000080\">INFO    </span> Found <span style=\"color: #008080; text-decoration-color: #008080; font-weight: bold\">57</span> hbond interactions.                    <a href=\"file://c:\\Users\\Fofinha\\anaconda3\\Lib\\site-packages\\graphein\\protein\\edges\\distance.py\"><span style=\"color: #7f7f7f; text-decoration-color: #7f7f7f\">distance.py</span></a><span style=\"color: #7f7f7f; text-decoration-color: #7f7f7f\">:1344</span>\n",
       "</pre>\n"
      ],
      "text/plain": [
       "\u001b[2;36m                   \u001b[0m\u001b[2;36m \u001b[0m\u001b[34mINFO    \u001b[0m Found \u001b[1;36m57\u001b[0m hbond interactions.                    \u001b]8;id=670631;file://c:\\Users\\Fofinha\\anaconda3\\Lib\\site-packages\\graphein\\protein\\edges\\distance.py\u001b\\\u001b[2mdistance.py\u001b[0m\u001b]8;;\u001b\\\u001b[2m:1344\u001b[0m\n"
      ]
     },
     "metadata": {},
     "output_type": "display_data"
    },
    {
     "data": {
      "text/html": [
       "<pre style=\"white-space:pre;overflow-x:auto;line-height:normal;font-family:Menlo,'DejaVu Sans Mono',consolas,'Courier New',monospace\"><span style=\"color: #7fbfbf; text-decoration-color: #7fbfbf\">                    </span><span style=\"color: #000080; text-decoration-color: #000080\">INFO    </span> Found <span style=\"color: #008080; text-decoration-color: #008080; font-weight: bold\">37</span> disulfide interactions.                <a href=\"file://c:\\Users\\Fofinha\\anaconda3\\Lib\\site-packages\\graphein\\protein\\edges\\distance.py\"><span style=\"color: #7f7f7f; text-decoration-color: #7f7f7f\">distance.py</span></a><span style=\"color: #7f7f7f; text-decoration-color: #7f7f7f\">:1344</span>\n",
       "</pre>\n"
      ],
      "text/plain": [
       "\u001b[2;36m                   \u001b[0m\u001b[2;36m \u001b[0m\u001b[34mINFO    \u001b[0m Found \u001b[1;36m37\u001b[0m disulfide interactions.                \u001b]8;id=676546;file://c:\\Users\\Fofinha\\anaconda3\\Lib\\site-packages\\graphein\\protein\\edges\\distance.py\u001b\\\u001b[2mdistance.py\u001b[0m\u001b]8;;\u001b\\\u001b[2m:1344\u001b[0m\n"
      ]
     },
     "metadata": {},
     "output_type": "display_data"
    },
    {
     "data": {
      "text/html": [
       "<pre style=\"white-space:pre;overflow-x:auto;line-height:normal;font-family:Menlo,'DejaVu Sans Mono',consolas,'Courier New',monospace\"><span style=\"color: #7fbfbf; text-decoration-color: #7fbfbf\">                    </span><span style=\"color: #000080; text-decoration-color: #000080\">INFO    </span> Found <span style=\"color: #008080; text-decoration-color: #008080; font-weight: bold\">6964</span> ionic interactions.                  <a href=\"file://c:\\Users\\Fofinha\\anaconda3\\Lib\\site-packages\\graphein\\protein\\edges\\distance.py\"><span style=\"color: #7f7f7f; text-decoration-color: #7f7f7f\">distance.py</span></a><span style=\"color: #7f7f7f; text-decoration-color: #7f7f7f\">:1344</span>\n",
       "</pre>\n"
      ],
      "text/plain": [
       "\u001b[2;36m                   \u001b[0m\u001b[2;36m \u001b[0m\u001b[34mINFO    \u001b[0m Found \u001b[1;36m6964\u001b[0m ionic interactions.                  \u001b]8;id=622431;file://c:\\Users\\Fofinha\\anaconda3\\Lib\\site-packages\\graphein\\protein\\edges\\distance.py\u001b\\\u001b[2mdistance.py\u001b[0m\u001b]8;;\u001b\\\u001b[2m:1344\u001b[0m\n"
      ]
     },
     "metadata": {},
     "output_type": "display_data"
    },
    {
     "data": {
      "text/html": [
       "<pre style=\"white-space:pre;overflow-x:auto;line-height:normal;font-family:Menlo,'DejaVu Sans Mono',consolas,'Courier New',monospace\"><span style=\"color: #7fbfbf; text-decoration-color: #7fbfbf\">[11/06/24 16:07:36] </span><span style=\"color: #000080; text-decoration-color: #000080\">INFO    </span> Found <span style=\"color: #008080; text-decoration-color: #008080; font-weight: bold\">1961</span> hydrophobic interactions.            <a href=\"file://c:\\Users\\Fofinha\\anaconda3\\Lib\\site-packages\\graphein\\protein\\edges\\distance.py\"><span style=\"color: #7f7f7f; text-decoration-color: #7f7f7f\">distance.py</span></a><span style=\"color: #7f7f7f; text-decoration-color: #7f7f7f\">:1344</span>\n",
       "</pre>\n"
      ],
      "text/plain": [
       "\u001b[2;36m[11/06/24 16:07:36]\u001b[0m\u001b[2;36m \u001b[0m\u001b[34mINFO    \u001b[0m Found \u001b[1;36m1961\u001b[0m hydrophobic interactions.            \u001b]8;id=575174;file://c:\\Users\\Fofinha\\anaconda3\\Lib\\site-packages\\graphein\\protein\\edges\\distance.py\u001b\\\u001b[2mdistance.py\u001b[0m\u001b]8;;\u001b\\\u001b[2m:1344\u001b[0m\n"
      ]
     },
     "metadata": {},
     "output_type": "display_data"
    },
    {
     "data": {
      "text/html": [
       "<pre style=\"white-space:pre;overflow-x:auto;line-height:normal;font-family:Menlo,'DejaVu Sans Mono',consolas,'Courier New',monospace\"><span style=\"color: #7fbfbf; text-decoration-color: #7fbfbf\">                    </span><span style=\"color: #000080; text-decoration-color: #000080\">INFO    </span> Found <span style=\"color: #008080; text-decoration-color: #008080; font-weight: bold\">6997</span> vdw interactions.                    <a href=\"file://c:\\Users\\Fofinha\\anaconda3\\Lib\\site-packages\\graphein\\protein\\edges\\distance.py\"><span style=\"color: #7f7f7f; text-decoration-color: #7f7f7f\">distance.py</span></a><span style=\"color: #7f7f7f; text-decoration-color: #7f7f7f\">:1344</span>\n",
       "</pre>\n"
      ],
      "text/plain": [
       "\u001b[2;36m                   \u001b[0m\u001b[2;36m \u001b[0m\u001b[34mINFO    \u001b[0m Found \u001b[1;36m6997\u001b[0m vdw interactions.                    \u001b]8;id=826905;file://c:\\Users\\Fofinha\\anaconda3\\Lib\\site-packages\\graphein\\protein\\edges\\distance.py\u001b\\\u001b[2mdistance.py\u001b[0m\u001b]8;;\u001b\\\u001b[2m:1344\u001b[0m\n"
      ]
     },
     "metadata": {},
     "output_type": "display_data"
    },
    {
     "data": {
      "text/html": [
       "<pre style=\"white-space:pre;overflow-x:auto;line-height:normal;font-family:Menlo,'DejaVu Sans Mono',consolas,'Courier New',monospace\"><span style=\"color: #7fbfbf; text-decoration-color: #7fbfbf\">                    </span><span style=\"color: #000080; text-decoration-color: #000080\">INFO    </span> Found <span style=\"color: #008080; text-decoration-color: #008080; font-weight: bold\">642</span> bb_carbonyl_carbonyl interactions.    <a href=\"file://c:\\Users\\Fofinha\\anaconda3\\Lib\\site-packages\\graphein\\protein\\edges\\distance.py\"><span style=\"color: #7f7f7f; text-decoration-color: #7f7f7f\">distance.py</span></a><span style=\"color: #7f7f7f; text-decoration-color: #7f7f7f\">:1344</span>\n",
       "</pre>\n"
      ],
      "text/plain": [
       "\u001b[2;36m                   \u001b[0m\u001b[2;36m \u001b[0m\u001b[34mINFO    \u001b[0m Found \u001b[1;36m642\u001b[0m bb_carbonyl_carbonyl interactions.    \u001b]8;id=13470;file://c:\\Users\\Fofinha\\anaconda3\\Lib\\site-packages\\graphein\\protein\\edges\\distance.py\u001b\\\u001b[2mdistance.py\u001b[0m\u001b]8;;\u001b\\\u001b[2m:1344\u001b[0m\n"
      ]
     },
     "metadata": {},
     "output_type": "display_data"
    },
    {
     "data": {
      "text/html": [
       "<pre style=\"white-space:pre;overflow-x:auto;line-height:normal;font-family:Menlo,'DejaVu Sans Mono',consolas,'Courier New',monospace\"><span style=\"color: #7fbfbf; text-decoration-color: #7fbfbf\">                    </span><span style=\"color: #000080; text-decoration-color: #000080\">INFO    </span> Found <span style=\"color: #008080; text-decoration-color: #008080; font-weight: bold\">234</span> salt_bridge interactions.             <a href=\"file://c:\\Users\\Fofinha\\anaconda3\\Lib\\site-packages\\graphein\\protein\\edges\\distance.py\"><span style=\"color: #7f7f7f; text-decoration-color: #7f7f7f\">distance.py</span></a><span style=\"color: #7f7f7f; text-decoration-color: #7f7f7f\">:1344</span>\n",
       "</pre>\n"
      ],
      "text/plain": [
       "\u001b[2;36m                   \u001b[0m\u001b[2;36m \u001b[0m\u001b[34mINFO    \u001b[0m Found \u001b[1;36m234\u001b[0m salt_bridge interactions.             \u001b]8;id=665528;file://c:\\Users\\Fofinha\\anaconda3\\Lib\\site-packages\\graphein\\protein\\edges\\distance.py\u001b\\\u001b[2mdistance.py\u001b[0m\u001b]8;;\u001b\\\u001b[2m:1344\u001b[0m\n"
      ]
     },
     "metadata": {},
     "output_type": "display_data"
    },
    {
     "data": {
      "text/html": [
       "<pre style=\"white-space:pre;overflow-x:auto;line-height:normal;font-family:Menlo,'DejaVu Sans Mono',consolas,'Courier New',monospace\"><span style=\"color: #7fbfbf; text-decoration-color: #7fbfbf\">                    </span><span style=\"color: #000080; text-decoration-color: #000080\">INFO    </span> Found: <span style=\"color: #008080; text-decoration-color: #008080; font-weight: bold\">2517</span> distance edges                       <a href=\"file://c:\\Users\\Fofinha\\anaconda3\\Lib\\site-packages\\graphein\\protein\\edges\\distance.py\"><span style=\"color: #7f7f7f; text-decoration-color: #7f7f7f\">distance.py</span></a><span style=\"color: #7f7f7f; text-decoration-color: #7f7f7f\">:964</span>\n",
       "</pre>\n"
      ],
      "text/plain": [
       "\u001b[2;36m                   \u001b[0m\u001b[2;36m \u001b[0m\u001b[34mINFO    \u001b[0m Found: \u001b[1;36m2517\u001b[0m distance edges                       \u001b]8;id=77553;file://c:\\Users\\Fofinha\\anaconda3\\Lib\\site-packages\\graphein\\protein\\edges\\distance.py\u001b\\\u001b[2mdistance.py\u001b[0m\u001b]8;;\u001b\\\u001b[2m:964\u001b[0m\n"
      ]
     },
     "metadata": {},
     "output_type": "display_data"
    },
    {
     "data": {
      "text/html": [
       "<pre style=\"white-space:pre;overflow-x:auto;line-height:normal;font-family:Menlo,'DejaVu Sans Mono',consolas,'Courier New',monospace\"></pre>\n"
      ],
      "text/plain": []
     },
     "metadata": {},
     "output_type": "display_data"
    },
    {
     "name": "stdout",
     "output_type": "stream",
     "text": [
      "<src.propythia.protein.structure.Graph object at 0x00000207EF7B4090>\n",
      "Q8LI30\n"
     ]
    },
    {
     "data": {
      "text/html": [
       "<pre style=\"white-space:pre;overflow-x:auto;line-height:normal;font-family:Menlo,'DejaVu Sans Mono',consolas,'Courier New',monospace\"><span style=\"color: #7fbfbf; text-decoration-color: #7fbfbf\">[11/06/24 16:07:37] </span><span style=\"color: #000080; text-decoration-color: #000080\">INFO    </span> Downloaded AlphaFold PDB file for: Q8LI30           <a href=\"file://c:\\Users\\Fofinha\\anaconda3\\Lib\\site-packages\\graphein\\protein\\utils.py\"><span style=\"color: #7f7f7f; text-decoration-color: #7f7f7f\">utils.py</span></a><span style=\"color: #7f7f7f; text-decoration-color: #7f7f7f\">:349</span>\n",
       "</pre>\n"
      ],
      "text/plain": [
       "\u001b[2;36m[11/06/24 16:07:37]\u001b[0m\u001b[2;36m \u001b[0m\u001b[34mINFO    \u001b[0m Downloaded AlphaFold PDB file for: Q8LI30           \u001b]8;id=418845;file://c:\\Users\\Fofinha\\anaconda3\\Lib\\site-packages\\graphein\\protein\\utils.py\u001b\\\u001b[2mutils.py\u001b[0m\u001b]8;;\u001b\\\u001b[2m:349\u001b[0m\n"
      ]
     },
     "metadata": {},
     "output_type": "display_data"
    },
    {
     "name": "stdout",
     "output_type": "stream",
     "text": [
      "AlphaFold file downloaded: C:\\Users\\Fofinha\\Desktop\\UNI\\MESTRADO\\propythia\\pdb_files\\Q8LI30.pdb\n"
     ]
    },
    {
     "data": {
      "application/vnd.jupyter.widget-view+json": {
       "model_id": "1391bdaffa8242e993a4fecde694f771",
       "version_major": 2,
       "version_minor": 0
      },
      "text/plain": [
       "Output()"
      ]
     },
     "metadata": {},
     "output_type": "display_data"
    },
    {
     "data": {
      "text/html": [
       "<pre style=\"white-space:pre;overflow-x:auto;line-height:normal;font-family:Menlo,'DejaVu Sans Mono',consolas,'Courier New',monospace\"><span style=\"color: #7fbfbf; text-decoration-color: #7fbfbf\">                    </span><span style=\"color: #008000; text-decoration-color: #008000\">DEBUG   </span> Detected <span style=\"color: #008080; text-decoration-color: #008080; font-weight: bold\">594</span> total nodes                           <a href=\"file://c:\\Users\\Fofinha\\anaconda3\\Lib\\site-packages\\graphein\\protein\\graphs.py\"><span style=\"color: #7f7f7f; text-decoration-color: #7f7f7f\">graphs.py</span></a><span style=\"color: #7f7f7f; text-decoration-color: #7f7f7f\">:435</span>\n",
       "</pre>\n"
      ],
      "text/plain": [
       "\u001b[2;36m                   \u001b[0m\u001b[2;36m \u001b[0m\u001b[32mDEBUG   \u001b[0m Detected \u001b[1;36m594\u001b[0m total nodes                           \u001b]8;id=785229;file://c:\\Users\\Fofinha\\anaconda3\\Lib\\site-packages\\graphein\\protein\\graphs.py\u001b\\\u001b[2mgraphs.py\u001b[0m\u001b]8;;\u001b\\\u001b[2m:435\u001b[0m\n"
      ]
     },
     "metadata": {},
     "output_type": "display_data"
    },
    {
     "name": "stderr",
     "output_type": "stream",
     "text": [
      "c:\\Users\\Fofinha\\anaconda3\\Lib\\site-packages\\graphein\\protein\\edges\\distance.py:1213: FutureWarning: The default value of numeric_only in DataFrameGroupBy.mean is deprecated. In a future version, numeric_only will default to False. Either specify numeric_only or select only columns which should be valid for the function.\n",
      "  .mean()[[\"x_coord\", \"y_coord\", \"z_coord\"]]\n",
      "c:\\Users\\Fofinha\\anaconda3\\Lib\\site-packages\\graphein\\protein\\edges\\distance.py:1213: FutureWarning: The default value of numeric_only in DataFrameGroupBy.mean is deprecated. In a future version, numeric_only will default to False. Either specify numeric_only or select only columns which should be valid for the function.\n",
      "  .mean()[[\"x_coord\", \"y_coord\", \"z_coord\"]]\n",
      "c:\\Users\\Fofinha\\anaconda3\\Lib\\site-packages\\graphein\\protein\\edges\\distance.py:1213: FutureWarning: The default value of numeric_only in DataFrameGroupBy.mean is deprecated. In a future version, numeric_only will default to False. Either specify numeric_only or select only columns which should be valid for the function.\n",
      "  .mean()[[\"x_coord\", \"y_coord\", \"z_coord\"]]\n",
      "c:\\Users\\Fofinha\\anaconda3\\Lib\\site-packages\\graphein\\protein\\edges\\distance.py:1213: FutureWarning: The default value of numeric_only in DataFrameGroupBy.mean is deprecated. In a future version, numeric_only will default to False. Either specify numeric_only or select only columns which should be valid for the function.\n",
      "  .mean()[[\"x_coord\", \"y_coord\", \"z_coord\"]]\n"
     ]
    },
    {
     "data": {
      "text/html": [
       "<pre style=\"white-space:pre;overflow-x:auto;line-height:normal;font-family:Menlo,'DejaVu Sans Mono',consolas,'Courier New',monospace\"><span style=\"color: #7fbfbf; text-decoration-color: #7fbfbf\">                    </span><span style=\"color: #000080; text-decoration-color: #000080\">INFO    </span> Found: <span style=\"color: #008080; text-decoration-color: #008080; font-weight: bold\">102</span> aromatic-aromatic interactions        <a href=\"file://c:\\Users\\Fofinha\\anaconda3\\Lib\\site-packages\\graphein\\protein\\edges\\distance.py\"><span style=\"color: #7f7f7f; text-decoration-color: #7f7f7f\">distance.py</span></a><span style=\"color: #7f7f7f; text-decoration-color: #7f7f7f\">:467</span>\n",
       "</pre>\n"
      ],
      "text/plain": [
       "\u001b[2;36m                   \u001b[0m\u001b[2;36m \u001b[0m\u001b[34mINFO    \u001b[0m Found: \u001b[1;36m102\u001b[0m aromatic-aromatic interactions        \u001b]8;id=467075;file://c:\\Users\\Fofinha\\anaconda3\\Lib\\site-packages\\graphein\\protein\\edges\\distance.py\u001b\\\u001b[2mdistance.py\u001b[0m\u001b]8;;\u001b\\\u001b[2m:467\u001b[0m\n"
      ]
     },
     "metadata": {},
     "output_type": "display_data"
    },
    {
     "data": {
      "text/html": [
       "<pre style=\"white-space:pre;overflow-x:auto;line-height:normal;font-family:Menlo,'DejaVu Sans Mono',consolas,'Courier New',monospace\"><span style=\"color: #7fbfbf; text-decoration-color: #7fbfbf\">                    </span><span style=\"color: #000080; text-decoration-color: #000080\">INFO    </span> Found <span style=\"color: #008080; text-decoration-color: #008080; font-weight: bold\">226</span> hbond interactions.                   <a href=\"file://c:\\Users\\Fofinha\\anaconda3\\Lib\\site-packages\\graphein\\protein\\edges\\distance.py\"><span style=\"color: #7f7f7f; text-decoration-color: #7f7f7f\">distance.py</span></a><span style=\"color: #7f7f7f; text-decoration-color: #7f7f7f\">:1344</span>\n",
       "</pre>\n"
      ],
      "text/plain": [
       "\u001b[2;36m                   \u001b[0m\u001b[2;36m \u001b[0m\u001b[34mINFO    \u001b[0m Found \u001b[1;36m226\u001b[0m hbond interactions.                   \u001b]8;id=171350;file://c:\\Users\\Fofinha\\anaconda3\\Lib\\site-packages\\graphein\\protein\\edges\\distance.py\u001b\\\u001b[2mdistance.py\u001b[0m\u001b]8;;\u001b\\\u001b[2m:1344\u001b[0m\n"
      ]
     },
     "metadata": {},
     "output_type": "display_data"
    },
    {
     "data": {
      "text/html": [
       "<pre style=\"white-space:pre;overflow-x:auto;line-height:normal;font-family:Menlo,'DejaVu Sans Mono',consolas,'Courier New',monospace\"><span style=\"color: #7fbfbf; text-decoration-color: #7fbfbf\">                    </span><span style=\"color: #000080; text-decoration-color: #000080\">INFO    </span> Found <span style=\"color: #008080; text-decoration-color: #008080; font-weight: bold\">21</span> hbond interactions.                    <a href=\"file://c:\\Users\\Fofinha\\anaconda3\\Lib\\site-packages\\graphein\\protein\\edges\\distance.py\"><span style=\"color: #7f7f7f; text-decoration-color: #7f7f7f\">distance.py</span></a><span style=\"color: #7f7f7f; text-decoration-color: #7f7f7f\">:1344</span>\n",
       "</pre>\n"
      ],
      "text/plain": [
       "\u001b[2;36m                   \u001b[0m\u001b[2;36m \u001b[0m\u001b[34mINFO    \u001b[0m Found \u001b[1;36m21\u001b[0m hbond interactions.                    \u001b]8;id=725503;file://c:\\Users\\Fofinha\\anaconda3\\Lib\\site-packages\\graphein\\protein\\edges\\distance.py\u001b\\\u001b[2mdistance.py\u001b[0m\u001b]8;;\u001b\\\u001b[2m:1344\u001b[0m\n"
      ]
     },
     "metadata": {},
     "output_type": "display_data"
    },
    {
     "data": {
      "text/html": [
       "<pre style=\"white-space:pre;overflow-x:auto;line-height:normal;font-family:Menlo,'DejaVu Sans Mono',consolas,'Courier New',monospace\"><span style=\"color: #7fbfbf; text-decoration-color: #7fbfbf\">                    </span><span style=\"color: #000080; text-decoration-color: #000080\">INFO    </span> Found <span style=\"color: #008080; text-decoration-color: #008080; font-weight: bold\">6</span> disulfide interactions.                 <a href=\"file://c:\\Users\\Fofinha\\anaconda3\\Lib\\site-packages\\graphein\\protein\\edges\\distance.py\"><span style=\"color: #7f7f7f; text-decoration-color: #7f7f7f\">distance.py</span></a><span style=\"color: #7f7f7f; text-decoration-color: #7f7f7f\">:1344</span>\n",
       "</pre>\n"
      ],
      "text/plain": [
       "\u001b[2;36m                   \u001b[0m\u001b[2;36m \u001b[0m\u001b[34mINFO    \u001b[0m Found \u001b[1;36m6\u001b[0m disulfide interactions.                 \u001b]8;id=372208;file://c:\\Users\\Fofinha\\anaconda3\\Lib\\site-packages\\graphein\\protein\\edges\\distance.py\u001b\\\u001b[2mdistance.py\u001b[0m\u001b]8;;\u001b\\\u001b[2m:1344\u001b[0m\n"
      ]
     },
     "metadata": {},
     "output_type": "display_data"
    },
    {
     "data": {
      "text/html": [
       "<pre style=\"white-space:pre;overflow-x:auto;line-height:normal;font-family:Menlo,'DejaVu Sans Mono',consolas,'Courier New',monospace\"><span style=\"color: #7fbfbf; text-decoration-color: #7fbfbf\">                    </span><span style=\"color: #000080; text-decoration-color: #000080\">INFO    </span> Found <span style=\"color: #008080; text-decoration-color: #008080; font-weight: bold\">4557</span> ionic interactions.                  <a href=\"file://c:\\Users\\Fofinha\\anaconda3\\Lib\\site-packages\\graphein\\protein\\edges\\distance.py\"><span style=\"color: #7f7f7f; text-decoration-color: #7f7f7f\">distance.py</span></a><span style=\"color: #7f7f7f; text-decoration-color: #7f7f7f\">:1344</span>\n",
       "</pre>\n"
      ],
      "text/plain": [
       "\u001b[2;36m                   \u001b[0m\u001b[2;36m \u001b[0m\u001b[34mINFO    \u001b[0m Found \u001b[1;36m4557\u001b[0m ionic interactions.                  \u001b]8;id=921701;file://c:\\Users\\Fofinha\\anaconda3\\Lib\\site-packages\\graphein\\protein\\edges\\distance.py\u001b\\\u001b[2mdistance.py\u001b[0m\u001b]8;;\u001b\\\u001b[2m:1344\u001b[0m\n"
      ]
     },
     "metadata": {},
     "output_type": "display_data"
    },
    {
     "data": {
      "text/html": [
       "<pre style=\"white-space:pre;overflow-x:auto;line-height:normal;font-family:Menlo,'DejaVu Sans Mono',consolas,'Courier New',monospace\"><span style=\"color: #7fbfbf; text-decoration-color: #7fbfbf\">                    </span><span style=\"color: #000080; text-decoration-color: #000080\">INFO    </span> Found <span style=\"color: #008080; text-decoration-color: #008080; font-weight: bold\">1387</span> hydrophobic interactions.            <a href=\"file://c:\\Users\\Fofinha\\anaconda3\\Lib\\site-packages\\graphein\\protein\\edges\\distance.py\"><span style=\"color: #7f7f7f; text-decoration-color: #7f7f7f\">distance.py</span></a><span style=\"color: #7f7f7f; text-decoration-color: #7f7f7f\">:1344</span>\n",
       "</pre>\n"
      ],
      "text/plain": [
       "\u001b[2;36m                   \u001b[0m\u001b[2;36m \u001b[0m\u001b[34mINFO    \u001b[0m Found \u001b[1;36m1387\u001b[0m hydrophobic interactions.            \u001b]8;id=683733;file://c:\\Users\\Fofinha\\anaconda3\\Lib\\site-packages\\graphein\\protein\\edges\\distance.py\u001b\\\u001b[2mdistance.py\u001b[0m\u001b]8;;\u001b\\\u001b[2m:1344\u001b[0m\n"
      ]
     },
     "metadata": {},
     "output_type": "display_data"
    },
    {
     "data": {
      "text/html": [
       "<pre style=\"white-space:pre;overflow-x:auto;line-height:normal;font-family:Menlo,'DejaVu Sans Mono',consolas,'Courier New',monospace\"><span style=\"color: #7fbfbf; text-decoration-color: #7fbfbf\">                    </span><span style=\"color: #000080; text-decoration-color: #000080\">INFO    </span> Found <span style=\"color: #008080; text-decoration-color: #008080; font-weight: bold\">4850</span> vdw interactions.                    <a href=\"file://c:\\Users\\Fofinha\\anaconda3\\Lib\\site-packages\\graphein\\protein\\edges\\distance.py\"><span style=\"color: #7f7f7f; text-decoration-color: #7f7f7f\">distance.py</span></a><span style=\"color: #7f7f7f; text-decoration-color: #7f7f7f\">:1344</span>\n",
       "</pre>\n"
      ],
      "text/plain": [
       "\u001b[2;36m                   \u001b[0m\u001b[2;36m \u001b[0m\u001b[34mINFO    \u001b[0m Found \u001b[1;36m4850\u001b[0m vdw interactions.                    \u001b]8;id=922151;file://c:\\Users\\Fofinha\\anaconda3\\Lib\\site-packages\\graphein\\protein\\edges\\distance.py\u001b\\\u001b[2mdistance.py\u001b[0m\u001b]8;;\u001b\\\u001b[2m:1344\u001b[0m\n"
      ]
     },
     "metadata": {},
     "output_type": "display_data"
    },
    {
     "data": {
      "text/html": [
       "<pre style=\"white-space:pre;overflow-x:auto;line-height:normal;font-family:Menlo,'DejaVu Sans Mono',consolas,'Courier New',monospace\"><span style=\"color: #7fbfbf; text-decoration-color: #7fbfbf\">[11/06/24 16:07:40] </span><span style=\"color: #000080; text-decoration-color: #000080\">INFO    </span> Found <span style=\"color: #008080; text-decoration-color: #008080; font-weight: bold\">666</span> bb_carbonyl_carbonyl interactions.    <a href=\"file://c:\\Users\\Fofinha\\anaconda3\\Lib\\site-packages\\graphein\\protein\\edges\\distance.py\"><span style=\"color: #7f7f7f; text-decoration-color: #7f7f7f\">distance.py</span></a><span style=\"color: #7f7f7f; text-decoration-color: #7f7f7f\">:1344</span>\n",
       "</pre>\n"
      ],
      "text/plain": [
       "\u001b[2;36m[11/06/24 16:07:40]\u001b[0m\u001b[2;36m \u001b[0m\u001b[34mINFO    \u001b[0m Found \u001b[1;36m666\u001b[0m bb_carbonyl_carbonyl interactions.    \u001b]8;id=598997;file://c:\\Users\\Fofinha\\anaconda3\\Lib\\site-packages\\graphein\\protein\\edges\\distance.py\u001b\\\u001b[2mdistance.py\u001b[0m\u001b]8;;\u001b\\\u001b[2m:1344\u001b[0m\n"
      ]
     },
     "metadata": {},
     "output_type": "display_data"
    },
    {
     "data": {
      "text/html": [
       "<pre style=\"white-space:pre;overflow-x:auto;line-height:normal;font-family:Menlo,'DejaVu Sans Mono',consolas,'Courier New',monospace\"><span style=\"color: #7fbfbf; text-decoration-color: #7fbfbf\">                    </span><span style=\"color: #000080; text-decoration-color: #000080\">INFO    </span> Found: <span style=\"color: #008080; text-decoration-color: #008080; font-weight: bold\">1784</span> distance edges                       <a href=\"file://c:\\Users\\Fofinha\\anaconda3\\Lib\\site-packages\\graphein\\protein\\edges\\distance.py\"><span style=\"color: #7f7f7f; text-decoration-color: #7f7f7f\">distance.py</span></a><span style=\"color: #7f7f7f; text-decoration-color: #7f7f7f\">:964</span>\n",
       "</pre>\n"
      ],
      "text/plain": [
       "\u001b[2;36m                   \u001b[0m\u001b[2;36m \u001b[0m\u001b[34mINFO    \u001b[0m Found: \u001b[1;36m1784\u001b[0m distance edges                       \u001b]8;id=943061;file://c:\\Users\\Fofinha\\anaconda3\\Lib\\site-packages\\graphein\\protein\\edges\\distance.py\u001b\\\u001b[2mdistance.py\u001b[0m\u001b]8;;\u001b\\\u001b[2m:964\u001b[0m\n"
      ]
     },
     "metadata": {},
     "output_type": "display_data"
    },
    {
     "data": {
      "text/html": [
       "<pre style=\"white-space:pre;overflow-x:auto;line-height:normal;font-family:Menlo,'DejaVu Sans Mono',consolas,'Courier New',monospace\"><span style=\"color: #7fbfbf; text-decoration-color: #7fbfbf\">                    </span><span style=\"color: #000080; text-decoration-color: #000080\">INFO    </span> Added <span style=\"color: #008080; text-decoration-color: #008080; font-weight: bold\">4</span> distance edges. <span style=\"font-weight: bold\">(</span><span style=\"color: #008080; text-decoration-color: #008080; font-weight: bold\">1780</span>            removed <a href=\"file://c:\\Users\\Fofinha\\anaconda3\\Lib\\site-packages\\graphein\\protein\\edges\\distance.py\"><span style=\"color: #7f7f7f; text-decoration-color: #7f7f7f\">distance.py</span></a><span style=\"color: #7f7f7f; text-decoration-color: #7f7f7f\">:983</span>\n",
       "                             by LIN<span style=\"font-weight: bold\">)</span>                                                         \n",
       "</pre>\n"
      ],
      "text/plain": [
       "\u001b[2;36m                   \u001b[0m\u001b[2;36m \u001b[0m\u001b[34mINFO    \u001b[0m Added \u001b[1;36m4\u001b[0m distance edges. \u001b[1m(\u001b[0m\u001b[1;36m1780\u001b[0m            removed \u001b]8;id=439503;file://c:\\Users\\Fofinha\\anaconda3\\Lib\\site-packages\\graphein\\protein\\edges\\distance.py\u001b\\\u001b[2mdistance.py\u001b[0m\u001b]8;;\u001b\\\u001b[2m:983\u001b[0m\n",
       "                             by LIN\u001b[1m)\u001b[0m                                                         \n"
      ]
     },
     "metadata": {},
     "output_type": "display_data"
    },
    {
     "data": {
      "text/html": [
       "<pre style=\"white-space:pre;overflow-x:auto;line-height:normal;font-family:Menlo,'DejaVu Sans Mono',consolas,'Courier New',monospace\"></pre>\n"
      ],
      "text/plain": []
     },
     "metadata": {},
     "output_type": "display_data"
    },
    {
     "name": "stdout",
     "output_type": "stream",
     "text": [
      "<src.propythia.protein.structure.Graph object at 0x0000020784909F50>\n"
     ]
    }
   ],
   "source": [
    "for uniprot_id in df[\"UniProtID\"]:\n",
    "    print(uniprot_id)\n",
    "    graph = Graph(identifier = uniprot_id, id_type = \"uniprot\")\n",
    "    print(graph)\n",
    "    "
   ]
  },
  {
   "cell_type": "code",
   "execution_count": 2,
   "metadata": {},
   "outputs": [
    {
     "ename": "NameError",
     "evalue": "name 'ProteinGraphDataset' is not defined",
     "output_type": "error",
     "traceback": [
      "\u001b[1;31m---------------------------------------------------------------------------\u001b[0m",
      "\u001b[1;31mNameError\u001b[0m                                 Traceback (most recent call last)",
      "Cell \u001b[1;32mIn[2], line 1\u001b[0m\n\u001b[1;32m----> 1\u001b[0m dataset \u001b[38;5;241m=\u001b[39m \u001b[43mProteinGraphDataset\u001b[49m(df)\n",
      "\u001b[1;31mNameError\u001b[0m: name 'ProteinGraphDataset' is not defined"
     ]
    }
   ],
   "source": [
    "dataset = ProteinGraphDataset(df)"
   ]
  },
  {
   "cell_type": "markdown",
   "metadata": {},
   "source": [
    "After "
   ]
  }
 ],
 "metadata": {
  "kernelspec": {
   "display_name": "base",
   "language": "python",
   "name": "python3"
  },
  "language_info": {
   "codemirror_mode": {
    "name": "ipython",
    "version": 3
   },
   "file_extension": ".py",
   "mimetype": "text/x-python",
   "name": "python",
   "nbconvert_exporter": "python",
   "pygments_lexer": "ipython3",
   "version": "3.11.4"
  }
 },
 "nbformat": 4,
 "nbformat_minor": 2
}
